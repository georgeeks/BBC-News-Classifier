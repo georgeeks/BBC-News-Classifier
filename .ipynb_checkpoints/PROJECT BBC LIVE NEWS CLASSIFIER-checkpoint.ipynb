{
  "cells": [
    {
      "metadata": {},
      "cell_type": "markdown",
      "source": "## Preprocessing with scikit learn"
    },
    {
      "metadata": {
        "trusted": true,
        "scrolled": true
      },
      "cell_type": "code",
      "source": "import os\nimport pandas as pd\nimport numpy as np\nimport glob\nimport matplotlib.pyplot as plt\nimport seaborn as sns",
      "execution_count": 1,
      "outputs": [
        {
          "output_type": "stream",
          "text": "/home/nbuser/anaconda3_420/lib/python3.5/site-packages/matplotlib/font_manager.py:281: UserWarning: Matplotlib is building the font cache using fc-list. This may take a moment.\n  'Matplotlib is building the font cache using fc-list. '\n",
          "name": "stderr"
        }
      ]
    },
    {
      "metadata": {},
      "cell_type": "markdown",
      "source": "#### Import the BBC news dataset"
    },
    {
      "metadata": {
        "trusted": true
      },
      "cell_type": "code",
      "source": "#% run '/home/nbuser/library/1. Classifier/1. BBC news files/Import and read text.ipynb'",
      "execution_count": 2,
      "outputs": []
    },
    {
      "metadata": {},
      "cell_type": "markdown",
      "source": "#### Clean and pre-process data "
    },
    {
      "metadata": {
        "trusted": true
      },
      "cell_type": "code",
      "source": "% run  '/home/nbuser/library/1. Classifier/3. Exploratory Data Analysis/Cleaning and explore data.ipynb'",
      "execution_count": 4,
      "outputs": []
    },
    {
      "metadata": {},
      "cell_type": "markdown",
      "source": "#### Import Live BBC News"
    },
    {
      "metadata": {
        "trusted": true
      },
      "cell_type": "code",
      "source": "% run  '/home/nbuser/library/2. News Scrapper/BBC news scrapper with NewsApi.ipynb'",
      "execution_count": 5,
      "outputs": [
        {
          "output_type": "stream",
          "text": "Collecting dash\n\u001b[?25l  Downloading https://files.pythonhosted.org/packages/e0/98/1ef55b53e967cbc8f95486aa956e018c6ad1cdc2865c2d6fdcc2261e197d/dash-1.3.1.tar.gz (58kB)\n\u001b[K     |████████████████████████████████| 61kB 1.3MB/s eta 0:00:011\n\u001b[?25hCollecting Flask>=1.0.2 (from dash)\n\u001b[?25l  Downloading https://files.pythonhosted.org/packages/9b/93/628509b8d5dc749656a9641f4caf13540e2cdec85276964ff8f43bbb1d3b/Flask-1.1.1-py2.py3-none-any.whl (94kB)\n\u001b[K     |████████████████████████████████| 102kB 6.9MB/s ta 0:00:011\n\u001b[?25hCollecting flask-compress (from dash)\n  Downloading https://files.pythonhosted.org/packages/0e/2a/378bd072928f6d92fd8c417d66b00c757dc361c0405a46a0134de6fd323d/Flask-Compress-1.4.0.tar.gz\nRequirement already satisfied: plotly in /home/nbuser/anaconda3_420/lib/python3.5/site-packages (from dash) (4.1.0)\nCollecting dash_renderer==1.1.0 (from dash)\n\u001b[?25l  Downloading https://files.pythonhosted.org/packages/48/8b/3624b9a9eb2ea330105aa009c67b6f1d84bec0ef73a8e69dc3cfd765941e/dash_renderer-1.1.0.tar.gz (1.2MB)\n\u001b[K     |████████████████████████████████| 1.2MB 6.7MB/s eta 0:00:01\n\u001b[?25hCollecting dash-core-components==1.2.1 (from dash)\n\u001b[?25l  Downloading https://files.pythonhosted.org/packages/c2/47/ca5bffb2595cbc26c8166d4abb3d4f1fc5305407e645c0d42632d6dac982/dash_core_components-1.2.1.tar.gz (2.1MB)\n\u001b[K     |████████████████████████████████| 2.1MB 30.4MB/s eta 0:00:01\n\u001b[?25hCollecting dash-html-components==1.0.1 (from dash)\n\u001b[?25l  Downloading https://files.pythonhosted.org/packages/0d/e8/e6f68c0a3c146d15bebe8d3570ebe535abdbba90b87e548bdf3363ecddbe/dash_html_components-1.0.1.tar.gz (187kB)\n\u001b[K     |████████████████████████████████| 194kB 5.1MB/s eta 0:00:01\n\u001b[?25hCollecting dash-table==4.3.0 (from dash)\n\u001b[?25l  Downloading https://files.pythonhosted.org/packages/cd/a6/5ed74c27130d533bce471f0dafd8973928b2d24eb152263a2f8f3494fd64/dash_table-4.3.0.tar.gz (1.8MB)\n\u001b[K     |████████████████████████████████| 1.8MB 4.9MB/s eta 0:00:01\n\u001b[?25hRequirement already satisfied: future in /home/nbuser/anaconda3_420/lib/python3.5/site-packages (from dash) (0.17.1)\nRequirement already satisfied: click>=5.1 in /home/nbuser/anaconda3_420/lib/python3.5/site-packages (from Flask>=1.0.2->dash) (6.6)\nCollecting Werkzeug>=0.15 (from Flask>=1.0.2->dash)\n\u001b[?25l  Downloading https://files.pythonhosted.org/packages/ce/42/3aeda98f96e85fd26180534d36570e4d18108d62ae36f87694b476b83d6f/Werkzeug-0.16.0-py2.py3-none-any.whl (327kB)\n\u001b[K     |████████████████████████████████| 327kB 4.6MB/s eta 0:00:01\n\u001b[?25hRequirement already satisfied: itsdangerous>=0.24 in /home/nbuser/anaconda3_420/lib/python3.5/site-packages (from Flask>=1.0.2->dash) (0.24)\nCollecting Jinja2>=2.10.1 (from Flask>=1.0.2->dash)\n  Using cached https://files.pythonhosted.org/packages/1d/e7/fd8b501e7a6dfe492a433deb7b9d833d39ca74916fa8bc63dd1a4947a671/Jinja2-2.10.1-py2.py3-none-any.whl\nRequirement already satisfied: retrying>=1.3.3 in /home/nbuser/anaconda3_420/lib/python3.5/site-packages (from plotly->dash) (1.3.3)\nRequirement already satisfied: six in /home/nbuser/anaconda3_420/lib/python3.5/site-packages (from plotly->dash) (1.11.0)\nRequirement already satisfied: MarkupSafe>=0.23 in /home/nbuser/anaconda3_420/lib/python3.5/site-packages (from Jinja2>=2.10.1->Flask>=1.0.2->dash) (0.23)\nBuilding wheels for collected packages: dash, flask-compress, dash-renderer, dash-core-components, dash-html-components, dash-table\n  Building wheel for dash (setup.py) ... \u001b[?25ldone\n\u001b[?25h  Created wheel for dash: filename=dash-1.3.1-cp35-none-any.whl size=67781 sha256=f3b60e003d7fb5571649be0d1d7ce818c86e08f94769ada3410ae785dde0d7a0\n  Stored in directory: /home/nbuser/.cache/pip/wheels/49/33/11/497991979e5a8e4a2ac31072d7674dd402e67035689ef9eb45\n  Building wheel for flask-compress (setup.py) ... \u001b[?25ldone\n\u001b[?25h  Created wheel for flask-compress: filename=Flask_Compress-1.4.0-cp35-none-any.whl size=3886 sha256=125ca9246ae4f554916360c658ea66d9a1d2a3a7cca469ef700bd6d19cb190cf\n  Stored in directory: /home/nbuser/.cache/pip/wheels/96/32/88/a1f6d9dd3c29570ab3a8acc0d556b3b20abcf3c623c868ce0a\n  Building wheel for dash-renderer (setup.py) ... \u001b[?25ldone\n\u001b[?25h  Created wheel for dash-renderer: filename=dash_renderer-1.1.0-cp35-none-any.whl size=1167997 sha256=e9482dfaefbfa0b803fd58fe8a94187ca858135eb8d379dc9c9d6cb011f599d9\n  Stored in directory: /home/nbuser/.cache/pip/wheels/3b/33/f7/7cbda25ec4eaa3c112b395e568ce5adcb1111f6303460d2536\n  Building wheel for dash-core-components (setup.py) ... \u001b[?25ldone\n\u001b[?25h  Created wheel for dash-core-components: filename=dash_core_components-1.2.1-cp35-none-any.whl size=2101520 sha256=db11923c745487b5c75ceb1c5d33dc3446861ab05d4e727ce335eef1704a700f\n  Stored in directory: /home/nbuser/.cache/pip/wheels/04/f0/22/f3f8533fb301ced23516f2f4411af9a79b37e564e70ee7468f\n  Building wheel for dash-html-components (setup.py) ... \u001b[?25ldone\n\u001b[?25h  Created wheel for dash-html-components: filename=dash_html_components-1.0.1-cp35-none-any.whl size=429208 sha256=9856f15c76d1796c0bb6e2debc1e8af7bb6b3d4d37d09b1c610f90ceeff5b366\n  Stored in directory: /home/nbuser/.cache/pip/wheels/54/27/d1/b452e9aa92aa1883543248a23707d448ada5f990d603f2ebf1\n  Building wheel for dash-table (setup.py) ... \u001b[?25ldone\n\u001b[?25h  Created wheel for dash-table: filename=dash_table-4.3.0-cp35-none-any.whl size=1800205 sha256=10123e72a410417430957f65064c194b0026cacf3be55cc22b542c7247e2d9e0\n  Stored in directory: /home/nbuser/.cache/pip/wheels/55/ea/cb/486403dfe83ea7fda4aaec3fcfeff86d98df7bf07aff04a4f2\nSuccessfully built dash flask-compress dash-renderer dash-core-components dash-html-components dash-table\nInstalling collected packages: Werkzeug, Jinja2, Flask, flask-compress, dash-renderer, dash-core-components, dash-html-components, dash-table, dash\n  Found existing installation: Werkzeug 0.11.11\n\u001b[31mERROR: Cannot uninstall 'Werkzeug'. It is a distutils installed project and thus we cannot accurately determine which files belong to it which would lead to only a partial uninstall.\u001b[0m\n\u001b[33mWARNING: You are using pip version 19.2.2, however version 19.2.3 is available.\nYou should consider upgrading via the 'pip install --upgrade pip' command.\u001b[0m\n",
          "name": "stdout"
        },
        {
          "output_type": "error",
          "ename": "ImportError",
          "evalue": "No module named 'dash'",
          "traceback": [
            "\u001b[0;31m---------------------------------------------------------------------------\u001b[0m",
            "\u001b[0;31mImportError\u001b[0m                               Traceback (most recent call last)",
            "\u001b[0;32m~/library/2. News Scrapper/BBC news scrapper with NewsApi.ipynb\u001b[0m in \u001b[0;36m<module>\u001b[0;34m()\u001b[0m\n\u001b[0;32m----> 1\u001b[0;31m \u001b[0;32mimport\u001b[0m \u001b[0mdash\u001b[0m\u001b[0;34m\u001b[0m\u001b[0m\n\u001b[0m\u001b[1;32m      2\u001b[0m \u001b[0;32mimport\u001b[0m \u001b[0mdash_core_components\u001b[0m \u001b[0;32mas\u001b[0m \u001b[0mdcc\u001b[0m\u001b[0;34m\u001b[0m\u001b[0m\n\u001b[1;32m      3\u001b[0m \u001b[0;32mimport\u001b[0m \u001b[0mdash_html_components\u001b[0m \u001b[0;32mas\u001b[0m \u001b[0mhtml\u001b[0m\u001b[0;34m\u001b[0m\u001b[0m\n\u001b[1;32m      4\u001b[0m \u001b[0;32mimport\u001b[0m \u001b[0mdash_table\u001b[0m\u001b[0;34m\u001b[0m\u001b[0m\n\u001b[1;32m      5\u001b[0m \u001b[0;32mfrom\u001b[0m \u001b[0mdash\u001b[0m\u001b[0;34m.\u001b[0m\u001b[0mdependencies\u001b[0m \u001b[0;32mimport\u001b[0m \u001b[0mInput\u001b[0m\u001b[0;34m,\u001b[0m \u001b[0mOutput\u001b[0m\u001b[0;34m,\u001b[0m \u001b[0mState\u001b[0m\u001b[0;34m\u001b[0m\u001b[0m\n",
            "\u001b[0;31mImportError\u001b[0m: No module named 'dash'"
          ]
        }
      ]
    },
    {
      "metadata": {},
      "cell_type": "markdown",
      "source": "#### Train and test data"
    },
    {
      "metadata": {
        "trusted": true
      },
      "cell_type": "code",
      "source": "% run '/home/nbuser/library/1. Classifier/4. Feature Engineering/Pre-processing, feature engineering CV TF-IDF and modeling with scikit learn 0.988 accuracy!.ipynb'",
      "execution_count": null,
      "outputs": []
    },
    {
      "metadata": {
        "trusted": true
      },
      "cell_type": "markdown",
      "source": "#### Import classified news DataFrame"
    },
    {
      "metadata": {
        "trusted": true
      },
      "cell_type": "code",
      "source": "BBC_NEWS_CLASS_DF = pd.read_csv('/home/nbuser/library/2. News Scrapper/BBC_LIVE_NEWS_CLASSES.csv')",
      "execution_count": 5,
      "outputs": []
    },
    {
      "metadata": {
        "trusted": true
      },
      "cell_type": "code",
      "source": "BBC_NEWS_CLASS_DF",
      "execution_count": 6,
      "outputs": [
        {
          "output_type": "execute_result",
          "execution_count": 6,
          "data": {
            "text/html": "<div>\n<table border=\"1\" class=\"dataframe\">\n  <thead>\n    <tr style=\"text-align: right;\">\n      <th></th>\n      <th>Date/Time</th>\n      <th>news_text</th>\n      <th>CV Pred Category</th>\n      <th>TF-IDF Pred Category</th>\n    </tr>\n  </thead>\n  <tbody>\n    <tr>\n      <th>0</th>\n      <td>2019-09-24T04:06:52Z</td>\n      <td>Brook House immigration removal centre near ...</td>\n      <td>politics</td>\n      <td>politics</td>\n    </tr>\n    <tr>\n      <th>1</th>\n      <td>2019-09-24T03:26:09Z</td>\n      <td>AFP  Emmanuel Macron l met Angela Merkel and ...</td>\n      <td>business</td>\n      <td>business</td>\n    </tr>\n    <tr>\n      <th>2</th>\n      <td>2019-09-24T03:20:12Z</td>\n      <td>Nazanin ZaghariRatcliffe   Nazanin ZaghariRat...</td>\n      <td>politics</td>\n      <td>politics</td>\n    </tr>\n    <tr>\n      <th>3</th>\n      <td>2019-09-24T03:10:16Z</td>\n      <td>People were trapped in burning buildings i...</td>\n      <td>politics</td>\n      <td>business</td>\n    </tr>\n    <tr>\n      <th>4</th>\n      <td>2019-09-24T01:36:50Z</td>\n      <td>NaN</td>\n      <td>tech</td>\n      <td>sports</td>\n    </tr>\n    <tr>\n      <th>5</th>\n      <td>2019-09-24T01:27:11Z</td>\n      <td>ReutersThomas Cook customers have accused air...</td>\n      <td>business</td>\n      <td>business</td>\n    </tr>\n    <tr>\n      <th>6</th>\n      <td>2019-09-24T00:30:59Z</td>\n      <td>Media captionThe move has been called fundamen...</td>\n      <td>politics</td>\n      <td>politics</td>\n    </tr>\n    <tr>\n      <th>7</th>\n      <td>2019-09-24T00:18:02Z</td>\n      <td>Playing music to dementia patients reduced...</td>\n      <td>tech</td>\n      <td>tech</td>\n    </tr>\n    <tr>\n      <th>8</th>\n      <td>2019-09-24T00:16:55Z</td>\n      <td>Pupils studying for Nat4s 5s and Highers c...</td>\n      <td>politics</td>\n      <td>politics</td>\n    </tr>\n    <tr>\n      <th>9</th>\n      <td>2019-09-24T00:13:32Z</td>\n      <td>Sheerans design seen in detail on the right ...</td>\n      <td>entertainment</td>\n      <td>tech</td>\n    </tr>\n    <tr>\n      <th>10</th>\n      <td>2019-09-24T00:11:47Z</td>\n      <td>ImagesObesity is not a choice and making peo...</td>\n      <td>politics</td>\n      <td>politics</td>\n    </tr>\n    <tr>\n      <th>11</th>\n      <td>2019-09-24T00:10:16Z</td>\n      <td>ImagesThe number of people vaping in the UK ...</td>\n      <td>business</td>\n      <td>business</td>\n    </tr>\n    <tr>\n      <th>12</th>\n      <td>2019-09-24T00:07:19Z</td>\n      <td>RobertH82  Melting in Greenland and Antarctic...</td>\n      <td>business</td>\n      <td>business</td>\n    </tr>\n    <tr>\n      <th>13</th>\n      <td>2019-09-24T00:05:32Z</td>\n      <td>NASA  Artwork IceSat fires its laser beams fr...</td>\n      <td>tech</td>\n      <td>tech</td>\n    </tr>\n    <tr>\n      <th>14</th>\n      <td>2019-09-24T00:04:39Z</td>\n      <td>Media captionJohnson refuses to rule out suspe...</td>\n      <td>politics</td>\n      <td>politics</td>\n    </tr>\n    <tr>\n      <th>15</th>\n      <td>2019-09-24T00:00:43Z</td>\n      <td>Bettmann  Convicted British spies Harry Hough...</td>\n      <td>politics</td>\n      <td>politics</td>\n    </tr>\n    <tr>\n      <th>16</th>\n      <td>2019-09-23T23:44:24Z</td>\n      <td>The Sustainability Bungalow at Keele Universit...</td>\n      <td>entertainment</td>\n      <td>politics</td>\n    </tr>\n    <tr>\n      <th>17</th>\n      <td>2019-09-23T23:42:02Z</td>\n      <td>The Best Fifa Football Awards were full of sop...</td>\n      <td>sports</td>\n      <td>sports</td>\n    </tr>\n    <tr>\n      <th>18</th>\n      <td>2019-09-23T23:30:09Z</td>\n      <td>NaN</td>\n      <td>tech</td>\n      <td>sports</td>\n    </tr>\n    <tr>\n      <th>19</th>\n      <td>2019-09-23T23:22:00Z</td>\n      <td>In an emotional address to the UN climate summ...</td>\n      <td>politics</td>\n      <td>politics</td>\n    </tr>\n    <tr>\n      <th>20</th>\n      <td>2019-09-23T23:19:58Z</td>\n      <td>English Heritage  Religious scenes include st...</td>\n      <td>entertainment</td>\n      <td>sports</td>\n    </tr>\n    <tr>\n      <th>21</th>\n      <td>2019-09-23T23:17:16Z</td>\n      <td>Puris  Tyler LorenzenWhen Tyler Lorenzen firs...</td>\n      <td>entertainment</td>\n      <td>sports</td>\n    </tr>\n    <tr>\n      <th>22</th>\n      <td>2019-09-23T23:15:01Z</td>\n      <td>Lloyds of London  Lloyds of London chief exec...</td>\n      <td>politics</td>\n      <td>business</td>\n    </tr>\n    <tr>\n      <th>23</th>\n      <td>2019-09-23T23:14:12Z</td>\n      <td>Jimmy Peters second row far right was a rugby ...</td>\n      <td>sports</td>\n      <td>sports</td>\n    </tr>\n    <tr>\n      <th>24</th>\n      <td>2019-09-23T23:11:10Z</td>\n      <td>NaN</td>\n      <td>tech</td>\n      <td>sports</td>\n    </tr>\n    <tr>\n      <th>25</th>\n      <td>2019-09-23T23:09:10Z</td>\n      <td>ReutersTaxi booking firm Uber will soon hear ...</td>\n      <td>tech</td>\n      <td>business</td>\n    </tr>\n    <tr>\n      <th>26</th>\n      <td>2019-09-23T23:08:32Z</td>\n      <td>NaN</td>\n      <td>tech</td>\n      <td>sports</td>\n    </tr>\n    <tr>\n      <th>27</th>\n      <td>2019-09-23T23:07:31Z</td>\n      <td>NaN</td>\n      <td>tech</td>\n      <td>sports</td>\n    </tr>\n    <tr>\n      <th>28</th>\n      <td>2019-09-23T23:06:49Z</td>\n      <td>ImagesMore than 35000 people were forced to ...</td>\n      <td>tech</td>\n      <td>tech</td>\n    </tr>\n    <tr>\n      <th>29</th>\n      <td>2019-09-23T23:05:22Z</td>\n      <td>NaN</td>\n      <td>tech</td>\n      <td>sports</td>\n    </tr>\n    <tr>\n      <th>...</th>\n      <td>...</td>\n      <td>...</td>\n      <td>...</td>\n      <td>...</td>\n    </tr>\n    <tr>\n      <th>58</th>\n      <td>2019-09-23T18:32:54Z</td>\n      <td>ImagesThe FBI has arrested a US Army soldier...</td>\n      <td>tech</td>\n      <td>tech</td>\n    </tr>\n    <tr>\n      <th>59</th>\n      <td>2019-09-23T18:24:20Z</td>\n      <td>PA Media  Christian Tuvi 44 died on 18 Septem...</td>\n      <td>entertainment</td>\n      <td>entertainment</td>\n    </tr>\n    <tr>\n      <th>60</th>\n      <td>2019-09-23T18:20:06Z</td>\n      <td>NaN</td>\n      <td>tech</td>\n      <td>sports</td>\n    </tr>\n    <tr>\n      <th>61</th>\n      <td>2019-09-23T17:58:21Z</td>\n      <td>Jordan Abdull scored four tries when London Br...</td>\n      <td>sports</td>\n      <td>sports</td>\n    </tr>\n    <tr>\n      <th>62</th>\n      <td>2019-09-23T17:57:00Z</td>\n      <td>NaN</td>\n      <td>tech</td>\n      <td>sports</td>\n    </tr>\n    <tr>\n      <th>63</th>\n      <td>2019-09-23T17:55:18Z</td>\n      <td>NaN</td>\n      <td>tech</td>\n      <td>sports</td>\n    </tr>\n    <tr>\n      <th>64</th>\n      <td>2019-09-23T17:51:15Z</td>\n      <td>Metropolitan Police  Josh Hanson was pronounc...</td>\n      <td>entertainment</td>\n      <td>entertainment</td>\n    </tr>\n    <tr>\n      <th>65</th>\n      <td>2019-09-23T17:47:39Z</td>\n      <td>Reuters  Unauthorised public gatherings of mo...</td>\n      <td>politics</td>\n      <td>politics</td>\n    </tr>\n    <tr>\n      <th>66</th>\n      <td>2019-09-23T17:40:36Z</td>\n      <td>Deji Olatunji admitted being in charge of a ...</td>\n      <td>sports</td>\n      <td>sports</td>\n    </tr>\n    <tr>\n      <th>67</th>\n      <td>2019-09-23T17:25:38Z</td>\n      <td>Chris DownerGographPolice have appealed for w...</td>\n      <td>entertainment</td>\n      <td>entertainment</td>\n    </tr>\n    <tr>\n      <th>68</th>\n      <td>2019-09-23T17:22:42Z</td>\n      <td>A petition was handed in at Sheffield Town H...</td>\n      <td>politics</td>\n      <td>politics</td>\n    </tr>\n    <tr>\n      <th>69</th>\n      <td>2019-09-23T17:19:26Z</td>\n      <td>Emily Muskett won gold in the 2018 Commonwealt...</td>\n      <td>sports</td>\n      <td>sports</td>\n    </tr>\n    <tr>\n      <th>70</th>\n      <td>2019-09-23T17:13:40Z</td>\n      <td>Keith Barker left finished the first day with ...</td>\n      <td>sports</td>\n      <td>sports</td>\n    </tr>\n    <tr>\n      <th>71</th>\n      <td>2019-09-23T17:12:54Z</td>\n      <td>West Yorkshire Police  Stefan Carr admitted f...</td>\n      <td>sports</td>\n      <td>sports</td>\n    </tr>\n    <tr>\n      <th>72</th>\n      <td>2019-09-23T17:09:21Z</td>\n      <td>Australian paceman Michael Hogan was the pick ...</td>\n      <td>sports</td>\n      <td>sports</td>\n    </tr>\n    <tr>\n      <th>73</th>\n      <td>2019-09-23T17:05:37Z</td>\n      <td>AFP  The ruling comes days after the Oktoberf...</td>\n      <td>business</td>\n      <td>business</td>\n    </tr>\n    <tr>\n      <th>74</th>\n      <td>2019-09-23T17:03:05Z</td>\n      <td>Tom KohlerCadmores previous best against the B...</td>\n      <td>sports</td>\n      <td>sports</td>\n    </tr>\n    <tr>\n      <th>75</th>\n      <td>2019-09-23T16:51:41Z</td>\n      <td>Greater Anglia  Conductor Nathan Long said ag...</td>\n      <td>entertainment</td>\n      <td>business</td>\n    </tr>\n    <tr>\n      <th>76</th>\n      <td>2019-09-23T16:49:56Z</td>\n      <td>VideoThe Hyatt Centric Times Square hotel was ...</td>\n      <td>politics</td>\n      <td>sports</td>\n    </tr>\n    <tr>\n      <th>77</th>\n      <td>2019-09-23T16:48:11Z</td>\n      <td>NaN</td>\n      <td>tech</td>\n      <td>sports</td>\n    </tr>\n    <tr>\n      <th>78</th>\n      <td>2019-09-23T16:36:30Z</td>\n      <td>NaN</td>\n      <td>tech</td>\n      <td>sports</td>\n    </tr>\n    <tr>\n      <th>79</th>\n      <td>2019-09-23T16:35:30Z</td>\n      <td>GoFundMe  Zariah Hasheme with her mother Demi...</td>\n      <td>entertainment</td>\n      <td>entertainment</td>\n    </tr>\n    <tr>\n      <th>80</th>\n      <td>2019-09-23T16:34:32Z</td>\n      <td>Anderson family  Joan Anderson worked for man...</td>\n      <td>entertainment</td>\n      <td>entertainment</td>\n    </tr>\n    <tr>\n      <th>81</th>\n      <td>2019-09-23T16:28:24Z</td>\n      <td>Ferraris Sebastian Vettel and Charles Leclerc ...</td>\n      <td>sports</td>\n      <td>sports</td>\n    </tr>\n    <tr>\n      <th>82</th>\n      <td>2019-09-23T16:27:56Z</td>\n      <td>Jared Stapp  BBCWhat do we know about Emily D...</td>\n      <td>entertainment</td>\n      <td>entertainment</td>\n    </tr>\n    <tr>\n      <th>83</th>\n      <td>2019-09-23T16:24:52Z</td>\n      <td>NaN</td>\n      <td>tech</td>\n      <td>sports</td>\n    </tr>\n    <tr>\n      <th>84</th>\n      <td>2019-09-23T16:21:15Z</td>\n      <td>Sam Robsons 93 runs came off 163 deliveries wi...</td>\n      <td>sports</td>\n      <td>sports</td>\n    </tr>\n    <tr>\n      <th>85</th>\n      <td>2019-09-23T16:17:02Z</td>\n      <td>ImagesShadow Chancellor John McDonnell has s...</td>\n      <td>politics</td>\n      <td>politics</td>\n    </tr>\n    <tr>\n      <th>86</th>\n      <td>2019-09-23T16:16:29Z</td>\n      <td>Manchester City won the 201819 Carabao Cup whe...</td>\n      <td>sports</td>\n      <td>sports</td>\n    </tr>\n    <tr>\n      <th>87</th>\n      <td>2019-09-23T16:15:47Z</td>\n      <td>PA Media  Ian Hemmens will be sentenced in Oc...</td>\n      <td>entertainment</td>\n      <td>business</td>\n    </tr>\n  </tbody>\n</table>\n<p>88 rows × 4 columns</p>\n</div>",
            "text/plain": "               Date/Time                                          news_text  \\\n0   2019-09-24T04:06:52Z    Brook House immigration removal centre near ...   \n1   2019-09-24T03:26:09Z   AFP  Emmanuel Macron l met Angela Merkel and ...   \n2   2019-09-24T03:20:12Z   Nazanin ZaghariRatcliffe   Nazanin ZaghariRat...   \n3   2019-09-24T03:10:16Z      People were trapped in burning buildings i...   \n4   2019-09-24T01:36:50Z                                                NaN   \n5   2019-09-24T01:27:11Z   ReutersThomas Cook customers have accused air...   \n6   2019-09-24T00:30:59Z  Media captionThe move has been called fundamen...   \n7   2019-09-24T00:18:02Z      Playing music to dementia patients reduced...   \n8   2019-09-24T00:16:55Z      Pupils studying for Nat4s 5s and Highers c...   \n9   2019-09-24T00:13:32Z    Sheerans design seen in detail on the right ...   \n10  2019-09-24T00:11:47Z    ImagesObesity is not a choice and making peo...   \n11  2019-09-24T00:10:16Z    ImagesThe number of people vaping in the UK ...   \n12  2019-09-24T00:07:19Z   RobertH82  Melting in Greenland and Antarctic...   \n13  2019-09-24T00:05:32Z   NASA  Artwork IceSat fires its laser beams fr...   \n14  2019-09-24T00:04:39Z  Media captionJohnson refuses to rule out suspe...   \n15  2019-09-24T00:00:43Z   Bettmann  Convicted British spies Harry Hough...   \n16  2019-09-23T23:44:24Z  The Sustainability Bungalow at Keele Universit...   \n17  2019-09-23T23:42:02Z  The Best Fifa Football Awards were full of sop...   \n18  2019-09-23T23:30:09Z                                                NaN   \n19  2019-09-23T23:22:00Z  In an emotional address to the UN climate summ...   \n20  2019-09-23T23:19:58Z   English Heritage  Religious scenes include st...   \n21  2019-09-23T23:17:16Z   Puris  Tyler LorenzenWhen Tyler Lorenzen firs...   \n22  2019-09-23T23:15:01Z   Lloyds of London  Lloyds of London chief exec...   \n23  2019-09-23T23:14:12Z  Jimmy Peters second row far right was a rugby ...   \n24  2019-09-23T23:11:10Z                                                NaN   \n25  2019-09-23T23:09:10Z   ReutersTaxi booking firm Uber will soon hear ...   \n26  2019-09-23T23:08:32Z                                                NaN   \n27  2019-09-23T23:07:31Z                                                NaN   \n28  2019-09-23T23:06:49Z    ImagesMore than 35000 people were forced to ...   \n29  2019-09-23T23:05:22Z                                                NaN   \n..                   ...                                                ...   \n58  2019-09-23T18:32:54Z    ImagesThe FBI has arrested a US Army soldier...   \n59  2019-09-23T18:24:20Z   PA Media  Christian Tuvi 44 died on 18 Septem...   \n60  2019-09-23T18:20:06Z                                                NaN   \n61  2019-09-23T17:58:21Z  Jordan Abdull scored four tries when London Br...   \n62  2019-09-23T17:57:00Z                                                NaN   \n63  2019-09-23T17:55:18Z                                                NaN   \n64  2019-09-23T17:51:15Z   Metropolitan Police  Josh Hanson was pronounc...   \n65  2019-09-23T17:47:39Z   Reuters  Unauthorised public gatherings of mo...   \n66  2019-09-23T17:40:36Z    Deji Olatunji admitted being in charge of a ...   \n67  2019-09-23T17:25:38Z   Chris DownerGographPolice have appealed for w...   \n68  2019-09-23T17:22:42Z    A petition was handed in at Sheffield Town H...   \n69  2019-09-23T17:19:26Z  Emily Muskett won gold in the 2018 Commonwealt...   \n70  2019-09-23T17:13:40Z  Keith Barker left finished the first day with ...   \n71  2019-09-23T17:12:54Z   West Yorkshire Police  Stefan Carr admitted f...   \n72  2019-09-23T17:09:21Z  Australian paceman Michael Hogan was the pick ...   \n73  2019-09-23T17:05:37Z   AFP  The ruling comes days after the Oktoberf...   \n74  2019-09-23T17:03:05Z  Tom KohlerCadmores previous best against the B...   \n75  2019-09-23T16:51:41Z   Greater Anglia  Conductor Nathan Long said ag...   \n76  2019-09-23T16:49:56Z  VideoThe Hyatt Centric Times Square hotel was ...   \n77  2019-09-23T16:48:11Z                                                NaN   \n78  2019-09-23T16:36:30Z                                                NaN   \n79  2019-09-23T16:35:30Z   GoFundMe  Zariah Hasheme with her mother Demi...   \n80  2019-09-23T16:34:32Z   Anderson family  Joan Anderson worked for man...   \n81  2019-09-23T16:28:24Z  Ferraris Sebastian Vettel and Charles Leclerc ...   \n82  2019-09-23T16:27:56Z   Jared Stapp  BBCWhat do we know about Emily D...   \n83  2019-09-23T16:24:52Z                                                NaN   \n84  2019-09-23T16:21:15Z  Sam Robsons 93 runs came off 163 deliveries wi...   \n85  2019-09-23T16:17:02Z    ImagesShadow Chancellor John McDonnell has s...   \n86  2019-09-23T16:16:29Z  Manchester City won the 201819 Carabao Cup whe...   \n87  2019-09-23T16:15:47Z   PA Media  Ian Hemmens will be sentenced in Oc...   \n\n   CV Pred Category TF-IDF Pred Category  \n0          politics             politics  \n1          business             business  \n2          politics             politics  \n3          politics             business  \n4              tech               sports  \n5          business             business  \n6          politics             politics  \n7              tech                 tech  \n8          politics             politics  \n9     entertainment                 tech  \n10         politics             politics  \n11         business             business  \n12         business             business  \n13             tech                 tech  \n14         politics             politics  \n15         politics             politics  \n16    entertainment             politics  \n17           sports               sports  \n18             tech               sports  \n19         politics             politics  \n20    entertainment               sports  \n21    entertainment               sports  \n22         politics             business  \n23           sports               sports  \n24             tech               sports  \n25             tech             business  \n26             tech               sports  \n27             tech               sports  \n28             tech                 tech  \n29             tech               sports  \n..              ...                  ...  \n58             tech                 tech  \n59    entertainment        entertainment  \n60             tech               sports  \n61           sports               sports  \n62             tech               sports  \n63             tech               sports  \n64    entertainment        entertainment  \n65         politics             politics  \n66           sports               sports  \n67    entertainment        entertainment  \n68         politics             politics  \n69           sports               sports  \n70           sports               sports  \n71           sports               sports  \n72           sports               sports  \n73         business             business  \n74           sports               sports  \n75    entertainment             business  \n76         politics               sports  \n77             tech               sports  \n78             tech               sports  \n79    entertainment        entertainment  \n80    entertainment        entertainment  \n81           sports               sports  \n82    entertainment        entertainment  \n83             tech               sports  \n84           sports               sports  \n85         politics             politics  \n86           sports               sports  \n87    entertainment             business  \n\n[88 rows x 4 columns]"
          },
          "metadata": {}
        }
      ]
    },
    {
      "metadata": {
        "trusted": true
      },
      "cell_type": "markdown",
      "source": "### TA-DAAAA!"
    },
    {
      "metadata": {
        "trusted": true
      },
      "cell_type": "code",
      "source": "",
      "execution_count": null,
      "outputs": []
    }
  ],
  "metadata": {
    "kernelspec": {
      "name": "python3",
      "display_name": "Python 3",
      "language": "python"
    },
    "language_info": {
      "mimetype": "text/x-python",
      "nbconvert_exporter": "python",
      "name": "python",
      "pygments_lexer": "ipython3",
      "version": "3.5.4",
      "file_extension": ".py",
      "codemirror_mode": {
        "version": 3,
        "name": "ipython"
      }
    }
  },
  "nbformat": 4,
  "nbformat_minor": 1
}