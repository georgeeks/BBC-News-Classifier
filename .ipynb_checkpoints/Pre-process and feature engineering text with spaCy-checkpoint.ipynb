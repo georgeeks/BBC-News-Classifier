{
  "cells": [
    {
      "metadata": {},
      "cell_type": "markdown",
      "source": "## Preprocess with spaCy"
    },
    {
      "metadata": {
        "trusted": true
      },
      "cell_type": "code",
      "source": "import os\nimport pandas as pd\nimport numpy as np\nimport glob\nimport matplotlib.pyplot as plt\nimport seaborn as sns\n%matplotlib inline",
      "execution_count": 1,
      "outputs": []
    },
    {
      "metadata": {
        "trusted": true
      },
      "cell_type": "code",
      "source": "# Loading file from path\ndef loading_file():\n    file_dir = '/home/nbuser/library/1. Classifier/3. Exploratory Data Analysis'        \n    file_list = glob.glob(file_dir + '/*.csv')\n    csv_file = file_list[0]\n    return csv_file\n\n# Import file imto Pandas DataFrame\ndef importing_file(csv_file):\n    df = pd.read_csv(csv_file, sep=\",\")\n    return df\n\n# Saving path\ndef saving_file(file, file_name, save_dir):\n    file.to_csv(os.path.join(save_dir,file_name))\n",
      "execution_count": 2,
      "outputs": []
    },
    {
      "metadata": {
        "trusted": true
      },
      "cell_type": "code",
      "source": "# Importing file + Loading  file\nnews_df = importing_file(loading_file())\n\n# Top 5 records\nnews_df.head()",
      "execution_count": 3,
      "outputs": [
        {
          "output_type": "execute_result",
          "execution_count": 3,
          "data": {
            "text/html": "<div>\n<style scoped>\n    .dataframe tbody tr th:only-of-type {\n        vertical-align: middle;\n    }\n\n    .dataframe tbody tr th {\n        vertical-align: top;\n    }\n\n    .dataframe thead th {\n        text-align: right;\n    }\n</style>\n<table border=\"1\" class=\"dataframe\">\n  <thead>\n    <tr style=\"text-align: right;\">\n      <th></th>\n      <th>file_name</th>\n      <th>title</th>\n      <th>news_text</th>\n      <th>category</th>\n    </tr>\n  </thead>\n  <tbody>\n    <tr>\n      <th>0</th>\n      <td>348.txt</td>\n      <td>Berlin celebrates European cinema</td>\n      <td>Organisers say this year's Berlin Film Festiva...</td>\n      <td>entertainment</td>\n    </tr>\n    <tr>\n      <th>1</th>\n      <td>139.txt</td>\n      <td>U2 to play at Grammy awards show</td>\n      <td>Irish rock band U2 are to play live at the Gra...</td>\n      <td>entertainment</td>\n    </tr>\n    <tr>\n      <th>2</th>\n      <td>125.txt</td>\n      <td>Snow Patrol feted at Irish awards</td>\n      <td>Snow Patrol were the big winners in Ireland's ...</td>\n      <td>entertainment</td>\n    </tr>\n    <tr>\n      <th>3</th>\n      <td>267.txt</td>\n      <td>T in the Park sells out in days</td>\n      <td>Tickets for Scotland's biggest music festival ...</td>\n      <td>entertainment</td>\n    </tr>\n    <tr>\n      <th>4</th>\n      <td>311.txt</td>\n      <td>Corbett attacks 'dumbed-down TV'</td>\n      <td>Ronnie Corbett has joined fellow comedy stars ...</td>\n      <td>entertainment</td>\n    </tr>\n  </tbody>\n</table>\n</div>",
            "text/plain": "  file_name                              title  \\\n0   348.txt  Berlin celebrates European cinema   \n1   139.txt   U2 to play at Grammy awards show   \n2   125.txt  Snow Patrol feted at Irish awards   \n3   267.txt    T in the Park sells out in days   \n4   311.txt   Corbett attacks 'dumbed-down TV'   \n\n                                           news_text       category  \n0  Organisers say this year's Berlin Film Festiva...  entertainment  \n1  Irish rock band U2 are to play live at the Gra...  entertainment  \n2  Snow Patrol were the big winners in Ireland's ...  entertainment  \n3  Tickets for Scotland's biggest music festival ...  entertainment  \n4  Ronnie Corbett has joined fellow comedy stars ...  entertainment  "
          },
          "metadata": {}
        }
      ]
    },
    {
      "metadata": {
        "trusted": true
      },
      "cell_type": "code",
      "source": "!pip install spacy\n!spacy download en",
      "execution_count": 6,
      "outputs": [
        {
          "output_type": "stream",
          "text": "Collecting spacy\n\u001b[?25l  Downloading https://files.pythonhosted.org/packages/95/9c/afd55bb35cc03e4b3dadc41dd48bc26e0678b08d59f32411735c35bda550/spacy-2.1.8-cp36-cp36m-manylinux1_x86_64.whl (30.8MB)\n\u001b[K     |████████████████████████████████| 30.9MB 22kB/s  eta 0:00:01    |▌                               | 440kB 2.7MB/s eta 0:00:12\n\u001b[?25hCollecting cymem<2.1.0,>=2.0.2 (from spacy)\n  Downloading https://files.pythonhosted.org/packages/3d/61/9b0520c28eb199a4b1ca667d96dd625bba003c14c75230195f9691975f85/cymem-2.0.2-cp36-cp36m-manylinux1_x86_64.whl\nCollecting wasabi<1.1.0,>=0.2.0 (from spacy)\n  Downloading https://files.pythonhosted.org/packages/f4/c1/d76ccdd12c716be79162d934fe7de4ac8a318b9302864716dde940641a79/wasabi-0.2.2-py3-none-any.whl\nCollecting blis<0.3.0,>=0.2.2 (from spacy)\n\u001b[?25l  Downloading https://files.pythonhosted.org/packages/34/46/b1d0bb71d308e820ed30316c5f0a017cb5ef5f4324bcbc7da3cf9d3b075c/blis-0.2.4-cp36-cp36m-manylinux1_x86_64.whl (3.2MB)\n\u001b[K     |████████████████████████████████| 3.2MB 8.1MB/s eta 0:00:01\n\u001b[?25hCollecting plac<1.0.0,>=0.9.6 (from spacy)\n  Downloading https://files.pythonhosted.org/packages/9e/9b/62c60d2f5bc135d2aa1d8c8a86aaf84edb719a59c7f11a4316259e61a298/plac-0.9.6-py2.py3-none-any.whl\nCollecting srsly<1.1.0,>=0.0.6 (from spacy)\n\u001b[?25l  Downloading https://files.pythonhosted.org/packages/8c/60/0c448942ad5bd246c7abfbb7e1a1d8ec2b013f3e9a0abf180fc52b588fe4/srsly-0.1.0-cp36-cp36m-manylinux1_x86_64.whl (181kB)\n\u001b[K     |████████████████████████████████| 184kB 8.2MB/s eta 0:00:01\n\u001b[?25hRequirement already satisfied: numpy>=1.15.0 in /home/nbuser/anaconda3_501/lib/python3.6/site-packages (from spacy) (1.16.2)\nCollecting murmurhash<1.1.0,>=0.28.0 (from spacy)\n  Downloading https://files.pythonhosted.org/packages/a6/e6/63f160a4fdf0e875d16b28f972083606d8d54f56cd30cb8929f9a1ee700e/murmurhash-1.0.2-cp36-cp36m-manylinux1_x86_64.whl\nCollecting preshed<2.1.0,>=2.0.1 (from spacy)\n\u001b[?25l  Downloading https://files.pythonhosted.org/packages/20/93/f222fb957764a283203525ef20e62008675fd0a14ffff8cc1b1490147c63/preshed-2.0.1-cp36-cp36m-manylinux1_x86_64.whl (83kB)\n\u001b[K     |████████████████████████████████| 92kB 9.2MB/s  eta 0:00:01\n\u001b[?25hCollecting thinc<7.1.0,>=7.0.8 (from spacy)\n\u001b[?25l  Downloading https://files.pythonhosted.org/packages/18/a5/9ace20422e7bb1bdcad31832ea85c52a09900cd4a7ce711246bfb92206ba/thinc-7.0.8-cp36-cp36m-manylinux1_x86_64.whl (2.1MB)\n\u001b[K     |████████████████████████████████| 2.1MB 21.1MB/s eta 0:00:01\n\u001b[?25hRequirement already satisfied: requests<3.0.0,>=2.13.0 in /home/nbuser/anaconda3_501/lib/python3.6/site-packages (from spacy) (2.22.0)\nRequirement already satisfied: tqdm<5.0.0,>=4.10.0 in /home/nbuser/anaconda3_501/lib/python3.6/site-packages (from thinc<7.1.0,>=7.0.8->spacy) (4.26.0)\nRequirement already satisfied: urllib3!=1.25.0,!=1.25.1,<1.26,>=1.21.1 in /home/nbuser/anaconda3_501/lib/python3.6/site-packages (from requests<3.0.0,>=2.13.0->spacy) (1.23)\nRequirement already satisfied: chardet<3.1.0,>=3.0.2 in /home/nbuser/anaconda3_501/lib/python3.6/site-packages (from requests<3.0.0,>=2.13.0->spacy) (3.0.4)\nRequirement already satisfied: certifi>=2017.4.17 in /home/nbuser/anaconda3_501/lib/python3.6/site-packages (from requests<3.0.0,>=2.13.0->spacy) (2018.10.15)\nRequirement already satisfied: idna<2.9,>=2.5 in /home/nbuser/anaconda3_501/lib/python3.6/site-packages (from requests<3.0.0,>=2.13.0->spacy) (2.7)\nInstalling collected packages: cymem, wasabi, blis, plac, srsly, murmurhash, preshed, thinc, spacy\nSuccessfully installed blis-0.2.4 cymem-2.0.2 murmurhash-1.0.2 plac-0.9.6 preshed-2.0.1 spacy-2.1.8 srsly-0.1.0 thinc-7.0.8 wasabi-0.2.2\n\u001b[33mWARNING: You are using pip version 19.2.2, however version 19.2.3 is available.\nYou should consider upgrading via the 'pip install --upgrade pip' command.\u001b[0m\nCollecting en_core_web_sm==2.1.0 from https://github.com/explosion/spacy-models/releases/download/en_core_web_sm-2.1.0/en_core_web_sm-2.1.0.tar.gz#egg=en_core_web_sm==2.1.0\n\u001b[?25l  Downloading https://github.com/explosion/spacy-models/releases/download/en_core_web_sm-2.1.0/en_core_web_sm-2.1.0.tar.gz (11.1MB)\n\u001b[K     |████████████████████████████████| 11.1MB 3.9MB/s eta 0:00:01\n\u001b[?25hBuilding wheels for collected packages: en-core-web-sm\n  Building wheel for en-core-web-sm (setup.py) ... \u001b[?25ldone\n\u001b[?25h  Created wheel for en-core-web-sm: filename=en_core_web_sm-2.1.0-cp36-none-any.whl size=11075237 sha256=8ef088157fe5554451264a90356c189c155b01b1b15a76252eccbeba727eb582\n  Stored in directory: /tmp/pip-ephem-wheel-cache-o25ktchu/wheels/39/ea/3b/507f7df78be8631a7a3d7090962194cf55bc1158572c0be77f\nSuccessfully built en-core-web-sm\nInstalling collected packages: en-core-web-sm\nSuccessfully installed en-core-web-sm-2.1.0\n\u001b[33mWARNING: You are using pip version 19.2.2, however version 19.2.3 is available.\nYou should consider upgrading via the 'pip install --upgrade pip' command.\u001b[0m\n\u001b[38;5;2m✔ Download and installation successful\u001b[0m\nYou can now load the model via spacy.load('en_core_web_sm')\n\u001b[38;5;2m✔ Linking successful\u001b[0m\n/home/nbuser/anaconda3_501/lib/python3.6/site-packages/en_core_web_sm -->\n/home/nbuser/anaconda3_501/lib/python3.6/site-packages/spacy/data/en\nYou can now load the model via spacy.load('en')\n",
          "name": "stdout"
        }
      ]
    },
    {
      "metadata": {
        "trusted": true
      },
      "cell_type": "code",
      "source": "import spacy",
      "execution_count": 8,
      "outputs": []
    },
    {
      "metadata": {},
      "cell_type": "markdown",
      "source": "#### Tokenizing the Text\n"
    },
    {
      "metadata": {
        "trusted": true
      },
      "cell_type": "code",
      "source": "# Load English tokenizer, tagger, parser, NER and word vectors\nspacy.load('en')\nfrom spacy.lang.en import English\n\nnlp = English()\n\n# Create the pipeline 'sentencizer' component\nsbd = nlp.create_pipe('sentencizer')\n\n# Add the component to the pipeline\nnlp.add_pipe(sbd)\n\ntext = news_df.loc[2, 'news_text']\n\n#  \"nlp\" Object is used to create documents with linguistic annotations.\ndoc = nlp(text)\n\n# create list of sentence tokens\nsents_list = []\nfor sent in doc.sents:\n    sents_list.append(sent.text)\nprint(sents_list)",
      "execution_count": 11,
      "outputs": [
        {
          "output_type": "stream",
          "text": "[\"Snow Patrol were the big winners in Ireland's top music honours, the Meteor Awards, picking up accolades for best Irish band and album on Thursday.\", \"The Belfast-born, Glasgow-based band collected the prizes at the ceremony at Dublin's Point Theatre.\", 'Westlife won the award for best Irish pop act, voted for by the public, beating former member Brian McFadden.', 'Franz Ferdinand picked up best international band and album while Paddy Casey collected best Irish male.', 'Singer-songwriter Casey beat Brian McFadden and Damien Rice.', 'Juliette Turner was named best Irish female.', 'In the international categories, Morrissey beat Eminem, Usher and Robbie Williams to best male while PJ Harvey pipped Kylie Minogue, Joss Stone, Anastacia and Natasha Bedingfield to the female crown.', 'The 8,000 fans at the ceremony were treated to performances from US rapper Snoop Dogg, Brian McFadden with Delta Goodrem and The Thrills featuring Rolling Stones star Ronnie Wood.', 'Snow Patrol\\'s success came after a year in which they made a chart breakthrough with their third album Final Straw. \"', 'I think a lot of bands should go through a wee bit of a kicking before the make a success,\" singer Gary Lightbody and drummer Jonny Quinn said. \"', 'It has been good for us, but also hard for us over the past six years.\"', 'Snow Patrol will support U2 on their European tour later this year - but U2 were not nominated for best Irish band and album.']\n",
          "name": "stdout"
        }
      ]
    },
    {
      "metadata": {},
      "cell_type": "markdown",
      "source": "#### Cleaning Text Data: Removing Stopwords"
    },
    {
      "metadata": {
        "trusted": true
      },
      "cell_type": "code",
      "source": "#Stop words\n#importing stop words from English language.\nimport spacy\nspacy_stopwords = spacy.lang.en.stop_words.STOP_WORDS\n\n#Printing the total number of stop words:\nprint('Number of stop words: %d' % len(spacy_stopwords))\n\n#Printing first ten stop words:\nprint('First ten stop words: %s' % list(spacy_stopwords)[:20])",
      "execution_count": 12,
      "outputs": [
        {
          "output_type": "stream",
          "text": "Number of stop words: 326\nFirst ten stop words: ['are', 'became', 'many', 'down', 'whatever', 'side', 'via', 'enough', 'give', 'something', 'another', 'then', 'hereafter', 'than', 'some', 'towards', 'top', 'from', 'onto', 'could']\n",
          "name": "stdout"
        }
      ]
    },
    {
      "metadata": {},
      "cell_type": "markdown",
      "source": "#### Removing Stopwords from Our Data"
    },
    {
      "metadata": {
        "trusted": true
      },
      "cell_type": "code",
      "source": "from spacy.lang.en.stop_words import STOP_WORDS\n\n#Implementation of stop words:\nfiltered_sent=[]\n\n#  \"nlp\" Object is used to create documents with linguistic annotations.\ndoc = nlp(text)\n\n# filtering stop words\nfor word in doc:\n    if word.is_stop==False:\n        filtered_sent.append(word)\nprint(\"Filtered Sentence:\",filtered_sent)",
      "execution_count": 13,
      "outputs": [
        {
          "output_type": "stream",
          "text": "Filtered Sentence: [Snow, Patrol, big, winners, Ireland, music, honours, ,, Meteor, Awards, ,, picking, accolades, best, Irish, band, album, Thursday, ., Belfast, -, born, ,, Glasgow, -, based, band, collected, prizes, ceremony, Dublin, Point, Theatre, ., Westlife, won, award, best, Irish, pop, act, ,, voted, public, ,, beating, member, Brian, McFadden, ., Franz, Ferdinand, picked, best, international, band, album, Paddy, Casey, collected, best, Irish, male, ., Singer, -, songwriter, Casey, beat, Brian, McFadden, Damien, Rice, ., Juliette, Turner, named, best, Irish, female, ., international, categories, ,, Morrissey, beat, Eminem, ,, Usher, Robbie, Williams, best, male, PJ, Harvey, pipped, Kylie, Minogue, ,, Joss, Stone, ,, Anastacia, Natasha, Bedingfield, female, crown, ., 8,000, fans, ceremony, treated, performances, rapper, Snoop, Dogg, ,, Brian, McFadden, Delta, Goodrem, Thrills, featuring, Rolling, Stones, star, Ronnie, Wood, ., Snow, Patrol, success, came, year, chart, breakthrough, album, Final, Straw, ., \", think, lot, bands, wee, bit, kicking, success, ,, \", singer, Gary, Lightbody, drummer, Jonny, Quinn, said, ., \", good, ,, hard, past, years, ., \", Snow, Patrol, support, U2, European, tour, later, year, -, U2, nominated, best, Irish, band, album, .]\n",
          "name": "stdout"
        }
      ]
    },
    {
      "metadata": {},
      "cell_type": "markdown",
      "source": "### Lexicon Normalization"
    },
    {
      "metadata": {},
      "cell_type": "markdown",
      "source": "#### Lemmatization"
    },
    {
      "metadata": {
        "trusted": true
      },
      "cell_type": "code",
      "source": "# Implementing lemmatization\nlem = nlp(text)\n# finding lemma for each word\nfor word in lem:\n    print(word.text, word.lemma_)",
      "execution_count": 14,
      "outputs": [
        {
          "output_type": "stream",
          "text": "Snow Snow\nPatrol Patrol\nwere be\nthe the\nbig big\nwinners winner\nin in\nIreland Ireland\n's have\ntop top\nmusic music\nhonours honour\n, ,\nthe the\nMeteor Meteor\nAwards Awards\n, ,\npicking pick\nup up\naccolades accolade\nfor for\nbest well\nIrish Irish\nband band\nand and\nalbum album\non on\nThursday Thursday\n. .\nThe The\nBelfast Belfast\n- -\nborn bear\n, ,\nGlasgow Glasgow\n- -\nbased base\nband band\ncollected collect\nthe the\nprizes prize\nat at\nthe the\nceremony ceremony\nat at\nDublin Dublin\n's have\nPoint Point\nTheatre Theatre\n. .\nWestlife Westlife\nwon win\nthe the\naward award\nfor for\nbest well\nIrish Irish\npop pop\nact act\n, ,\nvoted vote\nfor for\nby by\nthe the\npublic public\n, ,\nbeating beat\nformer former\nmember member\nBrian Brian\nMcFadden McFadden\n. .\nFranz Franz\nFerdinand Ferdinand\npicked pick\nup up\nbest well\ninternational international\nband band\nand and\nalbum album\nwhile while\nPaddy Paddy\nCasey Casey\ncollected collect\nbest well\nIrish Irish\nmale male\n. .\nSinger Singer\n- -\nsongwriter songwriter\nCasey Casey\nbeat beat\nBrian Brian\nMcFadden McFadden\nand and\nDamien Damien\nRice Rice\n. .\nJuliette Juliette\nTurner Turner\nwas be\nnamed name\nbest well\nIrish Irish\nfemale female\n. .\nIn In\nthe the\ninternational international\ncategories category\n, ,\nMorrissey Morrissey\nbeat beat\nEminem Eminem\n, ,\nUsher Usher\nand and\nRobbie Robbie\nWilliams Williams\nto to\nbest well\nmale male\nwhile while\nPJ PJ\nHarvey Harvey\npipped pip\nKylie Kylie\nMinogue Minogue\n, ,\nJoss Joss\nStone Stone\n, ,\nAnastacia Anastacia\nand and\nNatasha Natasha\nBedingfield Bedingfield\nto to\nthe the\nfemale female\ncrown crown\n. .\nThe The\n8,000 8,000\nfans fan\nat at\nthe the\nceremony ceremony\nwere be\ntreated treat\nto to\nperformances performance\nfrom from\nUS US\nrapper rapper\nSnoop Snoop\nDogg Dogg\n, ,\nBrian Brian\nMcFadden McFadden\nwith with\nDelta Delta\nGoodrem Goodrem\nand and\nThe The\nThrills Thrills\nfeaturing feature\nRolling Rolling\nStones Stones\nstar star\nRonnie Ronnie\nWood Wood\n. .\nSnow Snow\nPatrol Patrol\n's have\nsuccess success\ncame come\nafter after\na a\nyear year\nin in\nwhich which\nthey they\nmade make\na a\nchart chart\nbreakthrough breakthrough\nwith with\ntheir their\nthird 3\nalbum album\nFinal Final\nStraw Straw\n. .\n\" \"\nI I\nthink think\na a\nlot lot\nof of\nbands band\nshould should\ngo go\nthrough through\na a\nwee wee\nbit bite\nof of\na a\nkicking kick\nbefore before\nthe the\nmake make\na a\nsuccess success\n, ,\n\" \"\nsinger singer\nGary Gary\nLightbody Lightbody\nand and\ndrummer drummer\nJonny Jonny\nQuinn Quinn\nsaid say\n. .\n\" \"\nIt It\nhas have\nbeen be\ngood good\nfor for\nus us\n, ,\nbut but\nalso also\nhard hard\nfor for\nus us\nover over\nthe the\npast past\nsix six\nyears year\n. .\n\" \"\nSnow Snow\nPatrol Patrol\nwill will\nsupport support\nU2 U2\non on\ntheir their\nEuropean European\ntour tour\nlater late\nthis this\nyear year\n- -\nbut but\nU2 U2\nwere be\nnot not\nnominated nominate\nfor for\nbest well\nIrish Irish\nband band\nand and\nalbum album\n. .\n",
          "name": "stdout"
        }
      ]
    },
    {
      "metadata": {},
      "cell_type": "markdown",
      "source": "#### Part of Speech (POS) Tagging"
    },
    {
      "metadata": {
        "trusted": true
      },
      "cell_type": "code",
      "source": "# POS tagging\n\n# importing the model en_core_web_sm of English for vocabluary, syntax & entities\nimport en_core_web_sm\n\n# load en_core_web_sm of English for vocabluary, syntax & entities\nnlp = en_core_web_sm.load()\n\n#  \"nlp\" Objectis used to create documents with linguistic annotations.\ndocs = nlp(text)\n\nfor word in docs:\n    print(word.text,word.pos_)",
      "execution_count": 15,
      "outputs": [
        {
          "output_type": "stream",
          "text": "Snow PROPN\nPatrol PROPN\nwere VERB\nthe DET\nbig ADJ\nwinners NOUN\nin ADP\nIreland PROPN\n's PART\ntop ADJ\nmusic NOUN\nhonours NOUN\n, PUNCT\nthe DET\nMeteor PROPN\nAwards PROPN\n, PUNCT\npicking VERB\nup PART\naccolades NOUN\nfor ADP\nbest ADJ\nIrish ADJ\nband NOUN\nand CCONJ\nalbum NOUN\non ADP\nThursday PROPN\n. PUNCT\nThe DET\nBelfast PROPN\n- PUNCT\nborn VERB\n, PUNCT\nGlasgow PROPN\n- PUNCT\nbased VERB\nband NOUN\ncollected VERB\nthe DET\nprizes NOUN\nat ADP\nthe DET\nceremony NOUN\nat ADP\nDublin PROPN\n's PART\nPoint PROPN\nTheatre PROPN\n. PUNCT\nWestlife PROPN\nwon VERB\nthe DET\naward NOUN\nfor ADP\nbest ADJ\nIrish ADJ\npop NOUN\nact NOUN\n, PUNCT\nvoted VERB\nfor ADP\nby ADP\nthe DET\npublic NOUN\n, PUNCT\nbeating VERB\nformer ADJ\nmember NOUN\nBrian PROPN\nMcFadden PROPN\n. PUNCT\nFranz PROPN\nFerdinand PROPN\npicked VERB\nup PART\nbest ADJ\ninternational ADJ\nband NOUN\nand CCONJ\nalbum NOUN\nwhile ADP\nPaddy PROPN\nCasey PROPN\ncollected VERB\nbest ADJ\nIrish ADJ\nmale NOUN\n. PUNCT\nSinger NOUN\n- PUNCT\nsongwriter NOUN\nCasey PROPN\nbeat VERB\nBrian PROPN\nMcFadden PROPN\nand CCONJ\nDamien PROPN\nRice PROPN\n. PUNCT\nJuliette PROPN\nTurner PROPN\nwas VERB\nnamed VERB\nbest ADJ\nIrish ADJ\nfemale NOUN\n. PUNCT\nIn ADP\nthe DET\ninternational ADJ\ncategories NOUN\n, PUNCT\nMorrissey PROPN\nbeat VERB\nEminem PROPN\n, PUNCT\nUsher PROPN\nand CCONJ\nRobbie PROPN\nWilliams PROPN\nto PART\nbest ADJ\nmale NOUN\nwhile ADP\nPJ PROPN\nHarvey PROPN\npipped VERB\nKylie PROPN\nMinogue PROPN\n, PUNCT\nJoss PROPN\nStone PROPN\n, PUNCT\nAnastacia PROPN\nand CCONJ\nNatasha PROPN\nBedingfield PROPN\nto ADP\nthe DET\nfemale ADJ\ncrown NOUN\n. PUNCT\nThe DET\n8,000 NUM\nfans NOUN\nat ADP\nthe DET\nceremony NOUN\nwere VERB\ntreated VERB\nto ADP\nperformances NOUN\nfrom ADP\nUS PROPN\nrapper VERB\nSnoop PROPN\nDogg PROPN\n, PUNCT\nBrian PROPN\nMcFadden PROPN\nwith ADP\nDelta PROPN\nGoodrem PROPN\nand CCONJ\nThe DET\nThrills PROPN\nfeaturing VERB\nRolling PROPN\nStones PROPN\nstar NOUN\nRonnie PROPN\nWood PROPN\n. PUNCT\nSnow PROPN\nPatrol PROPN\n's PART\nsuccess NOUN\ncame VERB\nafter ADP\na DET\nyear NOUN\nin ADP\nwhich DET\nthey PRON\nmade VERB\na DET\nchart NOUN\nbreakthrough NOUN\nwith ADP\ntheir DET\nthird ADJ\nalbum NOUN\nFinal PROPN\nStraw PROPN\n. PUNCT\n\" PUNCT\nI PRON\nthink VERB\na DET\nlot NOUN\nof ADP\nbands NOUN\nshould VERB\ngo VERB\nthrough ADP\na DET\nwee ADJ\nbit NOUN\nof ADP\na DET\nkicking NOUN\nbefore ADP\nthe DET\nmake VERB\na DET\nsuccess NOUN\n, PUNCT\n\" PUNCT\nsinger NOUN\nGary PROPN\nLightbody PROPN\nand CCONJ\ndrummer VERB\nJonny PROPN\nQuinn PROPN\nsaid VERB\n. PUNCT\n\" PUNCT\nIt PRON\nhas VERB\nbeen VERB\ngood ADJ\nfor ADP\nus PRON\n, PUNCT\nbut CCONJ\nalso ADV\nhard ADV\nfor ADP\nus PRON\nover ADP\nthe DET\npast ADJ\nsix NUM\nyears NOUN\n. PUNCT\n\" PUNCT\nSnow PROPN\nPatrol PROPN\nwill VERB\nsupport VERB\nU2 PROPN\non ADP\ntheir DET\nEuropean ADJ\ntour NOUN\nlater ADV\nthis DET\nyear NOUN\n- PUNCT\nbut CCONJ\nU2 PROPN\nwere VERB\nnot ADV\nnominated VERB\nfor ADP\nbest ADJ\nIrish ADJ\nband NOUN\nand CCONJ\nalbum NOUN\n. PUNCT\n",
          "name": "stdout"
        }
      ]
    },
    {
      "metadata": {},
      "cell_type": "markdown",
      "source": "#### Entity Detection"
    },
    {
      "metadata": {
        "trusted": true
      },
      "cell_type": "code",
      "source": "#for visualization of Entity detection importing displacy from spacy:\n\nfrom spacy import displacy\n\nbbc= nlp(text)\n\nentities=[(i, i.label_, i.label) for i in bbc.ents]\nentities",
      "execution_count": 16,
      "outputs": [
        {
          "output_type": "execute_result",
          "execution_count": 16,
          "data": {
            "text/plain": "[(Ireland, 'GPE', 384),\n (Irish, 'NORP', 381),\n (Thursday, 'DATE', 391),\n (Belfast, 'GPE', 384),\n (Glasgow, 'GPE', 384),\n (Dublin, 'GPE', 384),\n (Point Theatre, 'FAC', 9191306739292312949),\n (Irish, 'NORP', 381),\n (Brian McFadden, 'PERSON', 380),\n (Franz Ferdinand, 'ORG', 383),\n (Paddy Casey, 'PERSON', 380),\n (Irish, 'NORP', 381),\n (Casey, 'PERSON', 380),\n (Brian McFadden, 'PERSON', 380),\n (Damien Rice, 'PERSON', 380),\n (Juliette Turner, 'PERSON', 380),\n (Irish, 'NORP', 381),\n (Morrissey, 'PERSON', 380),\n (Eminem, 'PERSON', 380),\n (Usher, 'PERSON', 380),\n (Robbie Williams, 'PERSON', 380),\n (PJ Harvey, 'ORG', 383),\n (Kylie Minogue, 'PERSON', 380),\n (Joss Stone, 'PERSON', 380),\n (Anastacia, 'PERSON', 380),\n (Natasha Bedingfield, 'PERSON', 380),\n (8,000, 'CARDINAL', 397),\n (US, 'GPE', 384),\n (Snoop Dogg, 'PERSON', 380),\n (Brian McFadden, 'PERSON', 380),\n (Delta Goodrem, 'PERSON', 380),\n (Thrills, 'PERSON', 380),\n (Ronnie Wood, 'PERSON', 380),\n (Snow Patrol's, 'PERSON', 380),\n (a year, 'DATE', 391),\n (third, 'ORDINAL', 396),\n (Gary Lightbody, 'PERSON', 380),\n (Jonny Quinn, 'PERSON', 380),\n (the past six years, 'DATE', 391),\n (Snow Patrol, 'FAC', 9191306739292312949),\n (European, 'NORP', 381),\n (later this year, 'DATE', 391),\n (Irish, 'NORP', 381)]"
          },
          "metadata": {}
        }
      ]
    },
    {
      "metadata": {
        "trusted": true
      },
      "cell_type": "code",
      "source": "displacy.render(bbc, style = \"ent\",jupyter = True)",
      "execution_count": 17,
      "outputs": [
        {
          "output_type": "display_data",
          "data": {
            "text/html": "<div class=\"entities\" style=\"line-height: 2.5; direction: ltr\">Snow Patrol were the big winners in \n<mark class=\"entity\" style=\"background: #feca74; padding: 0.45em 0.6em; margin: 0 0.25em; line-height: 1; border-radius: 0.35em; box-decoration-break: clone; -webkit-box-decoration-break: clone\">\n    Ireland\n    <span style=\"font-size: 0.8em; font-weight: bold; line-height: 1; border-radius: 0.35em; text-transform: uppercase; vertical-align: middle; margin-left: 0.5rem\">GPE</span>\n</mark>\n's top music honours, the Meteor Awards, picking up accolades for best \n<mark class=\"entity\" style=\"background: #c887fb; padding: 0.45em 0.6em; margin: 0 0.25em; line-height: 1; border-radius: 0.35em; box-decoration-break: clone; -webkit-box-decoration-break: clone\">\n    Irish\n    <span style=\"font-size: 0.8em; font-weight: bold; line-height: 1; border-radius: 0.35em; text-transform: uppercase; vertical-align: middle; margin-left: 0.5rem\">NORP</span>\n</mark>\n band and album on \n<mark class=\"entity\" style=\"background: #bfe1d9; padding: 0.45em 0.6em; margin: 0 0.25em; line-height: 1; border-radius: 0.35em; box-decoration-break: clone; -webkit-box-decoration-break: clone\">\n    Thursday\n    <span style=\"font-size: 0.8em; font-weight: bold; line-height: 1; border-radius: 0.35em; text-transform: uppercase; vertical-align: middle; margin-left: 0.5rem\">DATE</span>\n</mark>\n.The \n<mark class=\"entity\" style=\"background: #feca74; padding: 0.45em 0.6em; margin: 0 0.25em; line-height: 1; border-radius: 0.35em; box-decoration-break: clone; -webkit-box-decoration-break: clone\">\n    Belfast\n    <span style=\"font-size: 0.8em; font-weight: bold; line-height: 1; border-radius: 0.35em; text-transform: uppercase; vertical-align: middle; margin-left: 0.5rem\">GPE</span>\n</mark>\n-born, \n<mark class=\"entity\" style=\"background: #feca74; padding: 0.45em 0.6em; margin: 0 0.25em; line-height: 1; border-radius: 0.35em; box-decoration-break: clone; -webkit-box-decoration-break: clone\">\n    Glasgow\n    <span style=\"font-size: 0.8em; font-weight: bold; line-height: 1; border-radius: 0.35em; text-transform: uppercase; vertical-align: middle; margin-left: 0.5rem\">GPE</span>\n</mark>\n-based band collected the prizes at the ceremony at \n<mark class=\"entity\" style=\"background: #feca74; padding: 0.45em 0.6em; margin: 0 0.25em; line-height: 1; border-radius: 0.35em; box-decoration-break: clone; -webkit-box-decoration-break: clone\">\n    Dublin\n    <span style=\"font-size: 0.8em; font-weight: bold; line-height: 1; border-radius: 0.35em; text-transform: uppercase; vertical-align: middle; margin-left: 0.5rem\">GPE</span>\n</mark>\n's \n<mark class=\"entity\" style=\"background: #ddd; padding: 0.45em 0.6em; margin: 0 0.25em; line-height: 1; border-radius: 0.35em; box-decoration-break: clone; -webkit-box-decoration-break: clone\">\n    Point Theatre\n    <span style=\"font-size: 0.8em; font-weight: bold; line-height: 1; border-radius: 0.35em; text-transform: uppercase; vertical-align: middle; margin-left: 0.5rem\">FAC</span>\n</mark>\n. Westlife won the award for best \n<mark class=\"entity\" style=\"background: #c887fb; padding: 0.45em 0.6em; margin: 0 0.25em; line-height: 1; border-radius: 0.35em; box-decoration-break: clone; -webkit-box-decoration-break: clone\">\n    Irish\n    <span style=\"font-size: 0.8em; font-weight: bold; line-height: 1; border-radius: 0.35em; text-transform: uppercase; vertical-align: middle; margin-left: 0.5rem\">NORP</span>\n</mark>\n pop act, voted for by the public, beating former member \n<mark class=\"entity\" style=\"background: #aa9cfc; padding: 0.45em 0.6em; margin: 0 0.25em; line-height: 1; border-radius: 0.35em; box-decoration-break: clone; -webkit-box-decoration-break: clone\">\n    Brian McFadden\n    <span style=\"font-size: 0.8em; font-weight: bold; line-height: 1; border-radius: 0.35em; text-transform: uppercase; vertical-align: middle; margin-left: 0.5rem\">PERSON</span>\n</mark>\n. \n<mark class=\"entity\" style=\"background: #7aecec; padding: 0.45em 0.6em; margin: 0 0.25em; line-height: 1; border-radius: 0.35em; box-decoration-break: clone; -webkit-box-decoration-break: clone\">\n    Franz Ferdinand\n    <span style=\"font-size: 0.8em; font-weight: bold; line-height: 1; border-radius: 0.35em; text-transform: uppercase; vertical-align: middle; margin-left: 0.5rem\">ORG</span>\n</mark>\n picked up best international band and album while \n<mark class=\"entity\" style=\"background: #aa9cfc; padding: 0.45em 0.6em; margin: 0 0.25em; line-height: 1; border-radius: 0.35em; box-decoration-break: clone; -webkit-box-decoration-break: clone\">\n    Paddy Casey\n    <span style=\"font-size: 0.8em; font-weight: bold; line-height: 1; border-radius: 0.35em; text-transform: uppercase; vertical-align: middle; margin-left: 0.5rem\">PERSON</span>\n</mark>\n collected best \n<mark class=\"entity\" style=\"background: #c887fb; padding: 0.45em 0.6em; margin: 0 0.25em; line-height: 1; border-radius: 0.35em; box-decoration-break: clone; -webkit-box-decoration-break: clone\">\n    Irish\n    <span style=\"font-size: 0.8em; font-weight: bold; line-height: 1; border-radius: 0.35em; text-transform: uppercase; vertical-align: middle; margin-left: 0.5rem\">NORP</span>\n</mark>\n male. Singer-songwriter \n<mark class=\"entity\" style=\"background: #aa9cfc; padding: 0.45em 0.6em; margin: 0 0.25em; line-height: 1; border-radius: 0.35em; box-decoration-break: clone; -webkit-box-decoration-break: clone\">\n    Casey\n    <span style=\"font-size: 0.8em; font-weight: bold; line-height: 1; border-radius: 0.35em; text-transform: uppercase; vertical-align: middle; margin-left: 0.5rem\">PERSON</span>\n</mark>\n beat \n<mark class=\"entity\" style=\"background: #aa9cfc; padding: 0.45em 0.6em; margin: 0 0.25em; line-height: 1; border-radius: 0.35em; box-decoration-break: clone; -webkit-box-decoration-break: clone\">\n    Brian McFadden\n    <span style=\"font-size: 0.8em; font-weight: bold; line-height: 1; border-radius: 0.35em; text-transform: uppercase; vertical-align: middle; margin-left: 0.5rem\">PERSON</span>\n</mark>\n and \n<mark class=\"entity\" style=\"background: #aa9cfc; padding: 0.45em 0.6em; margin: 0 0.25em; line-height: 1; border-radius: 0.35em; box-decoration-break: clone; -webkit-box-decoration-break: clone\">\n    Damien Rice\n    <span style=\"font-size: 0.8em; font-weight: bold; line-height: 1; border-radius: 0.35em; text-transform: uppercase; vertical-align: middle; margin-left: 0.5rem\">PERSON</span>\n</mark>\n. \n<mark class=\"entity\" style=\"background: #aa9cfc; padding: 0.45em 0.6em; margin: 0 0.25em; line-height: 1; border-radius: 0.35em; box-decoration-break: clone; -webkit-box-decoration-break: clone\">\n    Juliette Turner\n    <span style=\"font-size: 0.8em; font-weight: bold; line-height: 1; border-radius: 0.35em; text-transform: uppercase; vertical-align: middle; margin-left: 0.5rem\">PERSON</span>\n</mark>\n was named best \n<mark class=\"entity\" style=\"background: #c887fb; padding: 0.45em 0.6em; margin: 0 0.25em; line-height: 1; border-radius: 0.35em; box-decoration-break: clone; -webkit-box-decoration-break: clone\">\n    Irish\n    <span style=\"font-size: 0.8em; font-weight: bold; line-height: 1; border-radius: 0.35em; text-transform: uppercase; vertical-align: middle; margin-left: 0.5rem\">NORP</span>\n</mark>\n female.In the international categories, \n<mark class=\"entity\" style=\"background: #aa9cfc; padding: 0.45em 0.6em; margin: 0 0.25em; line-height: 1; border-radius: 0.35em; box-decoration-break: clone; -webkit-box-decoration-break: clone\">\n    Morrissey\n    <span style=\"font-size: 0.8em; font-weight: bold; line-height: 1; border-radius: 0.35em; text-transform: uppercase; vertical-align: middle; margin-left: 0.5rem\">PERSON</span>\n</mark>\n beat \n<mark class=\"entity\" style=\"background: #aa9cfc; padding: 0.45em 0.6em; margin: 0 0.25em; line-height: 1; border-radius: 0.35em; box-decoration-break: clone; -webkit-box-decoration-break: clone\">\n    Eminem\n    <span style=\"font-size: 0.8em; font-weight: bold; line-height: 1; border-radius: 0.35em; text-transform: uppercase; vertical-align: middle; margin-left: 0.5rem\">PERSON</span>\n</mark>\n, \n<mark class=\"entity\" style=\"background: #aa9cfc; padding: 0.45em 0.6em; margin: 0 0.25em; line-height: 1; border-radius: 0.35em; box-decoration-break: clone; -webkit-box-decoration-break: clone\">\n    Usher\n    <span style=\"font-size: 0.8em; font-weight: bold; line-height: 1; border-radius: 0.35em; text-transform: uppercase; vertical-align: middle; margin-left: 0.5rem\">PERSON</span>\n</mark>\n and \n<mark class=\"entity\" style=\"background: #aa9cfc; padding: 0.45em 0.6em; margin: 0 0.25em; line-height: 1; border-radius: 0.35em; box-decoration-break: clone; -webkit-box-decoration-break: clone\">\n    Robbie Williams\n    <span style=\"font-size: 0.8em; font-weight: bold; line-height: 1; border-radius: 0.35em; text-transform: uppercase; vertical-align: middle; margin-left: 0.5rem\">PERSON</span>\n</mark>\n to best male while \n<mark class=\"entity\" style=\"background: #7aecec; padding: 0.45em 0.6em; margin: 0 0.25em; line-height: 1; border-radius: 0.35em; box-decoration-break: clone; -webkit-box-decoration-break: clone\">\n    PJ Harvey\n    <span style=\"font-size: 0.8em; font-weight: bold; line-height: 1; border-radius: 0.35em; text-transform: uppercase; vertical-align: middle; margin-left: 0.5rem\">ORG</span>\n</mark>\n pipped \n<mark class=\"entity\" style=\"background: #aa9cfc; padding: 0.45em 0.6em; margin: 0 0.25em; line-height: 1; border-radius: 0.35em; box-decoration-break: clone; -webkit-box-decoration-break: clone\">\n    Kylie Minogue\n    <span style=\"font-size: 0.8em; font-weight: bold; line-height: 1; border-radius: 0.35em; text-transform: uppercase; vertical-align: middle; margin-left: 0.5rem\">PERSON</span>\n</mark>\n, \n<mark class=\"entity\" style=\"background: #aa9cfc; padding: 0.45em 0.6em; margin: 0 0.25em; line-height: 1; border-radius: 0.35em; box-decoration-break: clone; -webkit-box-decoration-break: clone\">\n    Joss Stone\n    <span style=\"font-size: 0.8em; font-weight: bold; line-height: 1; border-radius: 0.35em; text-transform: uppercase; vertical-align: middle; margin-left: 0.5rem\">PERSON</span>\n</mark>\n, \n<mark class=\"entity\" style=\"background: #aa9cfc; padding: 0.45em 0.6em; margin: 0 0.25em; line-height: 1; border-radius: 0.35em; box-decoration-break: clone; -webkit-box-decoration-break: clone\">\n    Anastacia\n    <span style=\"font-size: 0.8em; font-weight: bold; line-height: 1; border-radius: 0.35em; text-transform: uppercase; vertical-align: middle; margin-left: 0.5rem\">PERSON</span>\n</mark>\n and \n<mark class=\"entity\" style=\"background: #aa9cfc; padding: 0.45em 0.6em; margin: 0 0.25em; line-height: 1; border-radius: 0.35em; box-decoration-break: clone; -webkit-box-decoration-break: clone\">\n    Natasha Bedingfield\n    <span style=\"font-size: 0.8em; font-weight: bold; line-height: 1; border-radius: 0.35em; text-transform: uppercase; vertical-align: middle; margin-left: 0.5rem\">PERSON</span>\n</mark>\n to the female crown. The \n<mark class=\"entity\" style=\"background: #e4e7d2; padding: 0.45em 0.6em; margin: 0 0.25em; line-height: 1; border-radius: 0.35em; box-decoration-break: clone; -webkit-box-decoration-break: clone\">\n    8,000\n    <span style=\"font-size: 0.8em; font-weight: bold; line-height: 1; border-radius: 0.35em; text-transform: uppercase; vertical-align: middle; margin-left: 0.5rem\">CARDINAL</span>\n</mark>\n fans at the ceremony were treated to performances from \n<mark class=\"entity\" style=\"background: #feca74; padding: 0.45em 0.6em; margin: 0 0.25em; line-height: 1; border-radius: 0.35em; box-decoration-break: clone; -webkit-box-decoration-break: clone\">\n    US\n    <span style=\"font-size: 0.8em; font-weight: bold; line-height: 1; border-radius: 0.35em; text-transform: uppercase; vertical-align: middle; margin-left: 0.5rem\">GPE</span>\n</mark>\n rapper \n<mark class=\"entity\" style=\"background: #aa9cfc; padding: 0.45em 0.6em; margin: 0 0.25em; line-height: 1; border-radius: 0.35em; box-decoration-break: clone; -webkit-box-decoration-break: clone\">\n    Snoop Dogg\n    <span style=\"font-size: 0.8em; font-weight: bold; line-height: 1; border-radius: 0.35em; text-transform: uppercase; vertical-align: middle; margin-left: 0.5rem\">PERSON</span>\n</mark>\n, \n<mark class=\"entity\" style=\"background: #aa9cfc; padding: 0.45em 0.6em; margin: 0 0.25em; line-height: 1; border-radius: 0.35em; box-decoration-break: clone; -webkit-box-decoration-break: clone\">\n    Brian McFadden\n    <span style=\"font-size: 0.8em; font-weight: bold; line-height: 1; border-radius: 0.35em; text-transform: uppercase; vertical-align: middle; margin-left: 0.5rem\">PERSON</span>\n</mark>\n with \n<mark class=\"entity\" style=\"background: #aa9cfc; padding: 0.45em 0.6em; margin: 0 0.25em; line-height: 1; border-radius: 0.35em; box-decoration-break: clone; -webkit-box-decoration-break: clone\">\n    Delta Goodrem\n    <span style=\"font-size: 0.8em; font-weight: bold; line-height: 1; border-radius: 0.35em; text-transform: uppercase; vertical-align: middle; margin-left: 0.5rem\">PERSON</span>\n</mark>\n and The \n<mark class=\"entity\" style=\"background: #aa9cfc; padding: 0.45em 0.6em; margin: 0 0.25em; line-height: 1; border-radius: 0.35em; box-decoration-break: clone; -webkit-box-decoration-break: clone\">\n    Thrills\n    <span style=\"font-size: 0.8em; font-weight: bold; line-height: 1; border-radius: 0.35em; text-transform: uppercase; vertical-align: middle; margin-left: 0.5rem\">PERSON</span>\n</mark>\n featuring Rolling Stones star \n<mark class=\"entity\" style=\"background: #aa9cfc; padding: 0.45em 0.6em; margin: 0 0.25em; line-height: 1; border-radius: 0.35em; box-decoration-break: clone; -webkit-box-decoration-break: clone\">\n    Ronnie Wood\n    <span style=\"font-size: 0.8em; font-weight: bold; line-height: 1; border-radius: 0.35em; text-transform: uppercase; vertical-align: middle; margin-left: 0.5rem\">PERSON</span>\n</mark>\n. \n<mark class=\"entity\" style=\"background: #aa9cfc; padding: 0.45em 0.6em; margin: 0 0.25em; line-height: 1; border-radius: 0.35em; box-decoration-break: clone; -webkit-box-decoration-break: clone\">\n    Snow Patrol's\n    <span style=\"font-size: 0.8em; font-weight: bold; line-height: 1; border-radius: 0.35em; text-transform: uppercase; vertical-align: middle; margin-left: 0.5rem\">PERSON</span>\n</mark>\n success came after \n<mark class=\"entity\" style=\"background: #bfe1d9; padding: 0.45em 0.6em; margin: 0 0.25em; line-height: 1; border-radius: 0.35em; box-decoration-break: clone; -webkit-box-decoration-break: clone\">\n    a year\n    <span style=\"font-size: 0.8em; font-weight: bold; line-height: 1; border-radius: 0.35em; text-transform: uppercase; vertical-align: middle; margin-left: 0.5rem\">DATE</span>\n</mark>\n in which they made a chart breakthrough with their \n<mark class=\"entity\" style=\"background: #e4e7d2; padding: 0.45em 0.6em; margin: 0 0.25em; line-height: 1; border-radius: 0.35em; box-decoration-break: clone; -webkit-box-decoration-break: clone\">\n    third\n    <span style=\"font-size: 0.8em; font-weight: bold; line-height: 1; border-radius: 0.35em; text-transform: uppercase; vertical-align: middle; margin-left: 0.5rem\">ORDINAL</span>\n</mark>\n album Final Straw. &quot;I think a lot of bands should go through a wee bit of a kicking before the make a success,&quot; singer \n<mark class=\"entity\" style=\"background: #aa9cfc; padding: 0.45em 0.6em; margin: 0 0.25em; line-height: 1; border-radius: 0.35em; box-decoration-break: clone; -webkit-box-decoration-break: clone\">\n    Gary Lightbody\n    <span style=\"font-size: 0.8em; font-weight: bold; line-height: 1; border-radius: 0.35em; text-transform: uppercase; vertical-align: middle; margin-left: 0.5rem\">PERSON</span>\n</mark>\n and drummer \n<mark class=\"entity\" style=\"background: #aa9cfc; padding: 0.45em 0.6em; margin: 0 0.25em; line-height: 1; border-radius: 0.35em; box-decoration-break: clone; -webkit-box-decoration-break: clone\">\n    Jonny Quinn\n    <span style=\"font-size: 0.8em; font-weight: bold; line-height: 1; border-radius: 0.35em; text-transform: uppercase; vertical-align: middle; margin-left: 0.5rem\">PERSON</span>\n</mark>\n said. &quot;It has been good for us, but also hard for us over \n<mark class=\"entity\" style=\"background: #bfe1d9; padding: 0.45em 0.6em; margin: 0 0.25em; line-height: 1; border-radius: 0.35em; box-decoration-break: clone; -webkit-box-decoration-break: clone\">\n    the past six years\n    <span style=\"font-size: 0.8em; font-weight: bold; line-height: 1; border-radius: 0.35em; text-transform: uppercase; vertical-align: middle; margin-left: 0.5rem\">DATE</span>\n</mark>\n.&quot; \n<mark class=\"entity\" style=\"background: #ddd; padding: 0.45em 0.6em; margin: 0 0.25em; line-height: 1; border-radius: 0.35em; box-decoration-break: clone; -webkit-box-decoration-break: clone\">\n    Snow Patrol\n    <span style=\"font-size: 0.8em; font-weight: bold; line-height: 1; border-radius: 0.35em; text-transform: uppercase; vertical-align: middle; margin-left: 0.5rem\">FAC</span>\n</mark>\n will support U2 on their \n<mark class=\"entity\" style=\"background: #c887fb; padding: 0.45em 0.6em; margin: 0 0.25em; line-height: 1; border-radius: 0.35em; box-decoration-break: clone; -webkit-box-decoration-break: clone\">\n    European\n    <span style=\"font-size: 0.8em; font-weight: bold; line-height: 1; border-radius: 0.35em; text-transform: uppercase; vertical-align: middle; margin-left: 0.5rem\">NORP</span>\n</mark>\n tour \n<mark class=\"entity\" style=\"background: #bfe1d9; padding: 0.45em 0.6em; margin: 0 0.25em; line-height: 1; border-radius: 0.35em; box-decoration-break: clone; -webkit-box-decoration-break: clone\">\n    later this year\n    <span style=\"font-size: 0.8em; font-weight: bold; line-height: 1; border-radius: 0.35em; text-transform: uppercase; vertical-align: middle; margin-left: 0.5rem\">DATE</span>\n</mark>\n - but U2 were not nominated for best \n<mark class=\"entity\" style=\"background: #c887fb; padding: 0.45em 0.6em; margin: 0 0.25em; line-height: 1; border-radius: 0.35em; box-decoration-break: clone; -webkit-box-decoration-break: clone\">\n    Irish\n    <span style=\"font-size: 0.8em; font-weight: bold; line-height: 1; border-radius: 0.35em; text-transform: uppercase; vertical-align: middle; margin-left: 0.5rem\">NORP</span>\n</mark>\n band and album.</div>",
            "text/plain": "<IPython.core.display.HTML object>"
          },
          "metadata": {}
        }
      ]
    },
    {
      "metadata": {},
      "cell_type": "markdown",
      "source": "#### Dependency Parsing"
    },
    {
      "metadata": {
        "trusted": true
      },
      "cell_type": "code",
      "source": "docp = nlp (text)\n\nfor chunk in docp.noun_chunks:\n   print(chunk.text, chunk.root.text, chunk.root.dep_,\n          chunk.root.head.text)",
      "execution_count": 18,
      "outputs": [
        {
          "output_type": "stream",
          "text": "Snow Patrol Patrol nsubj were\nthe big winners winners attr were\nIreland's top music honours honours pobj in\nthe Meteor Awards Awards appos winners\naccolades accolades dobj picking\nbest Irish band band pobj for\nalbum album conj band\nThursday Thursday pobj on\nThe Belfast-born, Glasgow-based band band nsubj collected\nthe prizes prizes dobj collected\nthe ceremony ceremony pobj at\nDublin's Point Theatre Theatre pobj at\nWestlife Westlife nsubj won\nthe award award dobj won\nbest Irish pop act act pobj for\nthe public public pobj by\nformer member Brian McFadden McFadden dobj beating\nFranz Ferdinand Ferdinand nsubj picked\nbest international band band dobj picked\nalbum album conj band\nPaddy Casey Casey nsubj collected\nbest Irish male male dobj collected\nSinger-songwriter Casey Casey nsubj beat\nBrian McFadden McFadden dobj beat\nDamien Rice Rice conj McFadden\nJuliette Turner Turner nsubjpass named\nthe international categories categories pobj In\nMorrissey Morrissey nsubj beat\nEminem Eminem dobj beat\nUsher Usher conj Eminem\nRobbie Williams Williams conj Usher\nPJ Harvey Harvey nsubj pipped\nKylie Minogue Minogue dobj pipped\nJoss Stone Stone conj Minogue\nAnastacia Anastacia conj Stone\nNatasha Bedingfield Bedingfield conj Anastacia\nthe female crown crown pobj to\nThe 8,000 fans fans nsubjpass treated\nthe ceremony ceremony pobj at\nperformances performances pobj to\nUS rapper Snoop Dogg Dogg pobj from\nBrian McFadden McFadden appos Dogg\nDelta Goodrem Goodrem pobj with\nThe Thrills Thrills conj Goodrem\nRolling Stones star Ronnie Wood Wood dobj featuring\nSnow Patrol's success success nsubj came\na year year pobj after\nthey they nsubj made\na chart chart nsubj breakthrough\ntheir third album album pobj with\nFinal Straw Straw appos album\nI I nsubj think\na lot lot nsubj go\nbands bands pobj of\na wee bit bit pobj through\na kicking kicking pobj of\na success success dobj make\n\" singer Gary Lightbody Lightbody nsubj said\ndrummer Jonny Quinn Quinn conj Lightbody\nIt It nsubj been\nus us pobj for\nus us pobj for\nthe past six years years pobj over\nSnow Patrol Patrol nsubj support\nU2 U2 dobj support\ntheir European tour tour pobj on\nU2 U2 nsubjpass nominated\nbest Irish band band pobj for\nalbum album conj band\n",
          "name": "stdout"
        }
      ]
    },
    {
      "metadata": {},
      "cell_type": "markdown",
      "source": "### SpaCy Text Classification"
    },
    {
      "metadata": {
        "trusted": true
      },
      "cell_type": "markdown",
      "source": "#### Importing Libraries"
    },
    {
      "metadata": {
        "trusted": true
      },
      "cell_type": "code",
      "source": "import pandas as pd\nfrom sklearn.feature_extraction.text import CountVectorizer,TfidfVectorizer\nfrom sklearn.base import TransformerMixin\nfrom sklearn.pipeline import Pipeline",
      "execution_count": 20,
      "outputs": []
    },
    {
      "metadata": {
        "trusted": true
      },
      "cell_type": "markdown",
      "source": "#### Tokening the Data With spaCy"
    },
    {
      "metadata": {
        "trusted": true
      },
      "cell_type": "code",
      "source": "import string\nfrom spacy.lang.en.stop_words import STOP_WORDS\nfrom spacy.lang.en import English\n\n# Create our list of punctuation marks\npunctuations = string.punctuation\n\n# Create our list of stopwords\nnlp = spacy.load('en')\nstop_words = spacy.lang.en.stop_words.STOP_WORDS\n\n# Load English tokenizer, tagger, parser, NER and word vectors\nparser = English()\n\n# Creating our tokenizer function\ndef spacy_tokenizer(sentence):\n    # Creating our token object, which is used to create documents with linguistic annotations.\n    mytokens = parser(sentence)\n\n    # Lemmatizing each token and converting each token into lowercase\n    mytokens = [ word.lemma_.lower().strip() if word.lemma_ != \"-PRON-\" else word.lower_ for word in mytokens ]\n\n    # Removing stop words\n    mytokens = [ word for word in mytokens if word not in stop_words and word not in punctuations ]\n\n    # return preprocessed list of tokens\n    return mytokens",
      "execution_count": 21,
      "outputs": []
    },
    {
      "metadata": {},
      "cell_type": "markdown",
      "source": "#### Defining a Custom Transformer"
    },
    {
      "metadata": {
        "trusted": true
      },
      "cell_type": "code",
      "source": "# Custom transformer using spaCy\nclass predictors(TransformerMixin):\n    def transform(self, X, **transform_params):\n        # Cleaning Text\n        return [clean_text(text) for text in X]\n\n    def fit(self, X, y=None, **fit_params):\n        return self\n\n    def get_params(self, deep=True):\n        return {}\n\n# Basic function to clean the text\ndef clean_text(text):\n    # Removing spaces and converting text into lowercase\n    return text.strip().lower()",
      "execution_count": 22,
      "outputs": []
    },
    {
      "metadata": {},
      "cell_type": "markdown",
      "source": "#### Vectorization Feature Engineering (TF-IDF)"
    },
    {
      "metadata": {
        "trusted": true
      },
      "cell_type": "code",
      "source": "bow_vector = CountVectorizer(tokenizer = spacy_tokenizer, ngram_range=(1,1), binary=False)",
      "execution_count": 23,
      "outputs": []
    },
    {
      "metadata": {
        "trusted": true
      },
      "cell_type": "code",
      "source": "tfidf_vector = TfidfVectorizer(tokenizer = spacy_tokenizer)",
      "execution_count": 24,
      "outputs": []
    },
    {
      "metadata": {},
      "cell_type": "markdown",
      "source": "#### Splitting The Data into Training and Test Sets"
    },
    {
      "metadata": {
        "trusted": true
      },
      "cell_type": "code",
      "source": "from sklearn.model_selection import train_test_split\n\nX = news_df['news_text'] # the features we want to analyze\nylabels = news_df['category'] # the labels, or answers, we want to test against\n\nX_train, X_test, y_train, y_test = train_test_split(X, ylabels, test_size=0.3)",
      "execution_count": 25,
      "outputs": []
    },
    {
      "metadata": {},
      "cell_type": "markdown",
      "source": "#### Creating a Pipeline and Generating the Model"
    },
    {
      "metadata": {
        "trusted": true
      },
      "cell_type": "code",
      "source": "# Logistic Regression Classifier\nfrom sklearn.linear_model import LogisticRegression\nclassifier = LogisticRegression()\n\n# Create pipeline using Bag of Words\npipe = Pipeline([(\"cleaner\", predictors()),\n                 ('vectorizer', bow_vector),\n                 ('classifier', classifier)])\n\n# model generation\npipe.fit(X_train,y_train)",
      "execution_count": 26,
      "outputs": [
        {
          "output_type": "stream",
          "text": "/home/nbuser/anaconda3_501/lib/python3.6/site-packages/sklearn/linear_model/logistic.py:433: FutureWarning: Default solver will be changed to 'lbfgs' in 0.22. Specify a solver to silence this warning.\n  FutureWarning)\n/home/nbuser/anaconda3_501/lib/python3.6/site-packages/sklearn/linear_model/logistic.py:460: FutureWarning: Default multi_class will be changed to 'auto' in 0.22. Specify the multi_class option to silence this warning.\n  \"this warning.\", FutureWarning)\n",
          "name": "stderr"
        },
        {
          "output_type": "execute_result",
          "execution_count": 26,
          "data": {
            "text/plain": "Pipeline(memory=None,\n     steps=[('cleaner', <__main__.predictors object at 0x7f7394043e10>), ('vectorizer', CountVectorizer(analyzer='word', binary=False, decode_error='strict',\n        dtype=<class 'numpy.int64'>, encoding='utf-8', input='content',\n        lowercase=True, max_df=1.0, max_features=None, min_df=1,\n        ng...penalty='l2', random_state=None, solver='warn',\n          tol=0.0001, verbose=0, warm_start=False))])"
          },
          "metadata": {}
        }
      ]
    },
    {
      "metadata": {},
      "cell_type": "markdown",
      "source": "#### Evaluating the Model"
    },
    {
      "metadata": {
        "trusted": true
      },
      "cell_type": "code",
      "source": "from sklearn import metrics\n# Predicting with a test dataset\npredicted = pipe.predict(X_test)\n\n\n# Model Accuracy\n\n# Accuracy refers to the percentage of the total predictions our model makes that are completely correct.\nprint(\"Logistic Regression Accuracy:\",metrics.accuracy_score(y_test, predicted))\n\n# Precision describes the ratio of true positives to true positives plus false positives in our predictions.\nprint(\"Logistic Regression Precision:\",metrics.precision_score(y_test, predicted, average='weighted'))\n\n# Recall describes the ratio of true positives to true positives plus false negatives in our predictions.\nprint(\"Logistic Regression Recall:\",metrics.recall_score(y_test, predicted, average='weighted'))",
      "execution_count": 29,
      "outputs": [
        {
          "output_type": "stream",
          "text": "Logistic Regression Accuracy: 0.9833610648918469\nLogistic Regression Precision: 0.98350248089453\nLogistic Regression Recall: 0.9833610648918469\n",
          "name": "stdout"
        }
      ]
    },
    {
      "metadata": {
        "trusted": true
      },
      "cell_type": "code",
      "source": "",
      "execution_count": null,
      "outputs": []
    }
  ],
  "metadata": {
    "kernelspec": {
      "name": "python36",
      "display_name": "Python 3.6",
      "language": "python"
    },
    "language_info": {
      "mimetype": "text/x-python",
      "nbconvert_exporter": "python",
      "name": "python",
      "pygments_lexer": "ipython3",
      "version": "3.6.6",
      "file_extension": ".py",
      "codemirror_mode": {
        "version": 3,
        "name": "ipython"
      }
    }
  },
  "nbformat": 4,
  "nbformat_minor": 1
}