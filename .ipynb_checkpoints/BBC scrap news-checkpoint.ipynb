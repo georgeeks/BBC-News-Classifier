{
  "cells": [
    {
      "metadata": {
        "trusted": true,
        "scrolled": true
      },
      "cell_type": "code",
      "source": "import pickle\nimport pandas as pd\nimport nltk\nfrom nltk.corpus import stopwords\nfrom nltk.tokenize import punkt\nfrom nltk.corpus.reader import wordnet\nfrom nltk.stem import WordNetLemmatizer\nfrom sklearn.feature_extraction.text import TfidfVectorizer\nimport requests\nfrom bs4 import BeautifulSoup\nimport numpy as np\nimport plotly.graph_objs as go\nimport re",
      "execution_count": 1,
      "outputs": []
    },
    {
      "metadata": {
        "trusted": true
      },
      "cell_type": "code",
      "source": "pd.set_option('display.max_colwidth', -1)",
      "execution_count": 2,
      "outputs": []
    },
    {
      "metadata": {
        "trusted": true,
        "scrolled": true
      },
      "cell_type": "code",
      "source": "!pip install dash",
      "execution_count": 3,
      "outputs": [
        {
          "output_type": "stream",
          "text": "Collecting dash\n\u001b[?25l  Downloading https://files.pythonhosted.org/packages/e0/98/1ef55b53e967cbc8f95486aa956e018c6ad1cdc2865c2d6fdcc2261e197d/dash-1.3.1.tar.gz (58kB)\n\u001b[K     |████████████████████████████████| 61kB 2.7MB/s eta 0:00:011\n\u001b[?25hRequirement already satisfied: Flask>=1.0.2 in /home/nbuser/anaconda3_501/lib/python3.6/site-packages (from dash) (1.0.2)\nCollecting flask-compress (from dash)\n  Downloading https://files.pythonhosted.org/packages/0e/2a/378bd072928f6d92fd8c417d66b00c757dc361c0405a46a0134de6fd323d/Flask-Compress-1.4.0.tar.gz\nRequirement already satisfied: plotly in /home/nbuser/anaconda3_501/lib/python3.6/site-packages (from dash) (4.1.0)\nCollecting dash_renderer==1.1.0 (from dash)\n\u001b[?25l  Downloading https://files.pythonhosted.org/packages/48/8b/3624b9a9eb2ea330105aa009c67b6f1d84bec0ef73a8e69dc3cfd765941e/dash_renderer-1.1.0.tar.gz (1.2MB)\n\u001b[K     |████████████████████████████████| 1.2MB 117kB/s eta 0:00:01�██████▉          | 788kB 3.5MB/s eta 0:00:01\n\u001b[?25hCollecting dash-core-components==1.2.1 (from dash)\n\u001b[?25l  Downloading https://files.pythonhosted.org/packages/c2/47/ca5bffb2595cbc26c8166d4abb3d4f1fc5305407e645c0d42632d6dac982/dash_core_components-1.2.1.tar.gz (2.1MB)\n\u001b[K     |████████████████████████████████| 2.1MB 205kB/s eta 0:00:01\n\u001b[?25hCollecting dash-html-components==1.0.1 (from dash)\n\u001b[?25l  Downloading https://files.pythonhosted.org/packages/0d/e8/e6f68c0a3c146d15bebe8d3570ebe535abdbba90b87e548bdf3363ecddbe/dash_html_components-1.0.1.tar.gz (187kB)\n\u001b[K     |████████████████████████████████| 194kB 8.0MB/s eta 0:00:01\n\u001b[?25hCollecting dash-table==4.3.0 (from dash)\n\u001b[?25l  Downloading https://files.pythonhosted.org/packages/cd/a6/5ed74c27130d533bce471f0dafd8973928b2d24eb152263a2f8f3494fd64/dash_table-4.3.0.tar.gz (1.8MB)\n\u001b[K     |████████████████████████████████| 1.8MB 15.0MB/s eta 0:00:01     |█████████████▏                  | 737kB 15.0MB/s eta 0:00:01\n\u001b[?25hRequirement already satisfied: future in /home/nbuser/anaconda3_501/lib/python3.6/site-packages (from dash) (0.16.0)\nRequirement already satisfied: Jinja2>=2.10 in /home/nbuser/anaconda3_501/lib/python3.6/site-packages (from Flask>=1.0.2->dash) (2.10)\nRequirement already satisfied: itsdangerous>=0.24 in /home/nbuser/anaconda3_501/lib/python3.6/site-packages (from Flask>=1.0.2->dash) (0.24)\nRequirement already satisfied: Werkzeug>=0.14 in /home/nbuser/anaconda3_501/lib/python3.6/site-packages (from Flask>=1.0.2->dash) (0.14.1)\nRequirement already satisfied: click>=5.1 in /home/nbuser/anaconda3_501/lib/python3.6/site-packages (from Flask>=1.0.2->dash) (7.0)\nRequirement already satisfied: retrying>=1.3.3 in /home/nbuser/anaconda3_501/lib/python3.6/site-packages (from plotly->dash) (1.3.3)\nRequirement already satisfied: six in /home/nbuser/anaconda3_501/lib/python3.6/site-packages (from plotly->dash) (1.11.0)\nRequirement already satisfied: MarkupSafe>=0.23 in /home/nbuser/anaconda3_501/lib/python3.6/site-packages (from Jinja2>=2.10->Flask>=1.0.2->dash) (1.1.0)\nBuilding wheels for collected packages: dash, flask-compress, dash-renderer, dash-core-components, dash-html-components, dash-table\n  Building wheel for dash (setup.py) ... \u001b[?25ldone\n\u001b[?25h  Created wheel for dash: filename=dash-1.3.1-cp36-none-any.whl size=67786 sha256=9fff5bfcbfd40ec789a48c5d6722f54fd256cd7a1772670f95c038a78f74acd7\n  Stored in directory: /home/nbuser/.cache/pip/wheels/49/33/11/497991979e5a8e4a2ac31072d7674dd402e67035689ef9eb45\n  Building wheel for flask-compress (setup.py) ... \u001b[?25ldone\n\u001b[?25h  Created wheel for flask-compress: filename=Flask_Compress-1.4.0-cp36-none-any.whl size=3884 sha256=b996c3fae6db20d05a4b0722e3f4954097074e4dd0cf3b26449496fdaf098429\n  Stored in directory: /home/nbuser/.cache/pip/wheels/96/32/88/a1f6d9dd3c29570ab3a8acc0d556b3b20abcf3c623c868ce0a\n  Building wheel for dash-renderer (setup.py) ... \u001b[?25ldone\n\u001b[?25h  Created wheel for dash-renderer: filename=dash_renderer-1.1.0-cp36-none-any.whl size=1167995 sha256=ac9130cd4c386a4a9cc5175808631321a58496ff975c827be347b09674b00735\n  Stored in directory: /home/nbuser/.cache/pip/wheels/3b/33/f7/7cbda25ec4eaa3c112b395e568ce5adcb1111f6303460d2536\n  Building wheel for dash-core-components (setup.py) ... \u001b[?25ldone\n\u001b[?25h  Created wheel for dash-core-components: filename=dash_core_components-1.2.1-cp36-none-any.whl size=2101519 sha256=afff2d342b66adea501f66c35bac5293a7e7cfdbf2e1966ef727d2b60373e143\n  Stored in directory: /home/nbuser/.cache/pip/wheels/04/f0/22/f3f8533fb301ced23516f2f4411af9a79b37e564e70ee7468f\n  Building wheel for dash-html-components (setup.py) ... \u001b[?25ldone\n\u001b[?25h  Created wheel for dash-html-components: filename=dash_html_components-1.0.1-cp36-none-any.whl size=429207 sha256=9f914f629940cacba6fd13a6d3733da6fddf22ddb5b0e9ba7ab4389578c70cae\n  Stored in directory: /home/nbuser/.cache/pip/wheels/54/27/d1/b452e9aa92aa1883543248a23707d448ada5f990d603f2ebf1\n  Building wheel for dash-table (setup.py) ... \u001b[?25ldone\n\u001b[?25h  Created wheel for dash-table: filename=dash_table-4.3.0-cp36-none-any.whl size=1800203 sha256=981742da865e2cd47fb343a03f4880c488a2569ef4ed695c02b7a1657c65bdac\n  Stored in directory: /home/nbuser/.cache/pip/wheels/55/ea/cb/486403dfe83ea7fda4aaec3fcfeff86d98df7bf07aff04a4f2\nSuccessfully built dash flask-compress dash-renderer dash-core-components dash-html-components dash-table\nInstalling collected packages: flask-compress, dash-renderer, dash-core-components, dash-html-components, dash-table, dash\nSuccessfully installed dash-1.3.1 dash-core-components-1.2.1 dash-html-components-1.0.1 dash-renderer-1.1.0 dash-table-4.3.0 flask-compress-1.4.0\n\u001b[33mWARNING: You are using pip version 19.2.2, however version 19.2.3 is available.\nYou should consider upgrading via the 'pip install --upgrade pip' command.\u001b[0m\n",
          "name": "stdout"
        }
      ]
    },
    {
      "metadata": {
        "trusted": true
      },
      "cell_type": "code",
      "source": "import dash\nimport dash_core_components as dcc\nimport dash_html_components as html\nimport dash_table\nfrom dash.dependencies import Input, Output, State",
      "execution_count": 4,
      "outputs": []
    },
    {
      "metadata": {},
      "cell_type": "markdown",
      "source": "#### Import BBC news with NEWSAPI-Python  - DEV(Free) account allows only max. 260 chars per news!!! "
    },
    {
      "metadata": {
        "trusted": true,
        "scrolled": false
      },
      "cell_type": "code",
      "source": "!pip install newsapi-python",
      "execution_count": 5,
      "outputs": [
        {
          "output_type": "stream",
          "text": "Collecting newsapi-python\n  Downloading https://files.pythonhosted.org/packages/4a/49/cbb39846c53076a1cde2c73c5dbc3d39956ea7586c8dfc35d516d706a497/newsapi-python-0.2.5.tar.gz\nCollecting requests==2.21.0 (from newsapi-python)\n\u001b[?25l  Downloading https://files.pythonhosted.org/packages/7d/e3/20f3d364d6c8e5d2353c72a67778eb189176f08e873c9900e10c0287b84b/requests-2.21.0-py2.py3-none-any.whl (57kB)\n\u001b[K     |████████████████████████████████| 61kB 4.5MB/s eta 0:00:011\n\u001b[?25hRequirement already satisfied: chardet<3.1.0,>=3.0.2 in /home/nbuser/anaconda3_501/lib/python3.6/site-packages (from requests==2.21.0->newsapi-python) (3.0.4)\nRequirement already satisfied: idna<2.9,>=2.5 in /home/nbuser/anaconda3_501/lib/python3.6/site-packages (from requests==2.21.0->newsapi-python) (2.7)\nRequirement already satisfied: certifi>=2017.4.17 in /home/nbuser/anaconda3_501/lib/python3.6/site-packages (from requests==2.21.0->newsapi-python) (2018.10.15)\nRequirement already satisfied: urllib3<1.25,>=1.21.1 in /home/nbuser/anaconda3_501/lib/python3.6/site-packages (from requests==2.21.0->newsapi-python) (1.23)\nBuilding wheels for collected packages: newsapi-python\n  Building wheel for newsapi-python (setup.py) ... \u001b[?25ldone\n\u001b[?25h  Created wheel for newsapi-python: filename=newsapi_python-0.2.5-py2.py3-none-any.whl size=7610 sha256=259828c871a0b0c8c15b4d2a968d40421b8b7a0ce3c6a6cf465891fd8555f152\n  Stored in directory: /home/nbuser/.cache/pip/wheels/d8/dc/5e/857ef20410a023cfe728ac6f360958df44b199b459cbc6ccbc\nSuccessfully built newsapi-python\n\u001b[31mERROR: papermill 1.1.0 has requirement tqdm>=4.32.2, but you'll have tqdm 4.26.0 which is incompatible.\u001b[0m\n\u001b[31mERROR: okpy 1.13.11 has requirement requests==2.12.4, but you'll have requests 2.21.0 which is incompatible.\u001b[0m\n\u001b[31mERROR: azureml-train-automl 1.0.57 has requirement onnxmltools==1.4.1, but you'll have onnxmltools 1.5.0 which is incompatible.\u001b[0m\n\u001b[31mERROR: azureml-automl-core 1.0.57 has requirement onnxmltools==1.4.1, but you'll have onnxmltools 1.5.0 which is incompatible.\u001b[0m\nInstalling collected packages: requests, newsapi-python\n  Found existing installation: requests 2.22.0\n    Uninstalling requests-2.22.0:\n      Successfully uninstalled requests-2.22.0\nSuccessfully installed newsapi-python-0.2.5 requests-2.21.0\n\u001b[33mWARNING: You are using pip version 19.2.2, however version 19.2.3 is available.\nYou should consider upgrading via the 'pip install --upgrade pip' command.\u001b[0m\n",
          "name": "stdout"
        }
      ]
    },
    {
      "metadata": {},
      "cell_type": "markdown",
      "source": "#### We need an NewsApiClient Key"
    },
    {
      "metadata": {
        "trusted": true
      },
      "cell_type": "code",
      "source": "from newsapi import NewsApiClient\nnewsapi = NewsApiClient(api_key='61f57a8c2e014016a21c6c56828d455c')",
      "execution_count": 9,
      "outputs": []
    },
    {
      "metadata": {},
      "cell_type": "markdown",
      "source": "#### Import only 'bbc-news' source"
    },
    {
      "metadata": {
        "trusted": true
      },
      "cell_type": "code",
      "source": "# /v2/top-headlines\ntop_news = newsapi.get_everything(sources='bbc-news')",
      "execution_count": 10,
      "outputs": []
    },
    {
      "metadata": {},
      "cell_type": "markdown",
      "source": "#### Top Articles"
    },
    {
      "metadata": {
        "trusted": true,
        "scrolled": true
      },
      "cell_type": "code",
      "source": "top_articles = top_news['articles']\nBBC_topnews_df = pd.DataFrame.from_dict(top_articles)\nBBC_topnews_df = BBC_topnews_df['content']\nBBC_topnews_df[:5]",
      "execution_count": 15,
      "outputs": [
        {
          "output_type": "execute_result",
          "execution_count": 15,
          "data": {
            "text/plain": "0    Image caption\\r\\n Brook House immigration removal centre, near Gatwick Airport, can hold up to 448 detainees\\r\\nPrivate firm G4S will no longer run Brook House immigration removal centre once the contract expires next year, BBC News has learned. \\r\\nG4S says it has… [+2573 chars]\n1    The latest five minute news bulletin from BBC World Service.                                                                                                                                                                                                                            \n2    Image copyrightAFPImage caption\\r\\n Emmanuel Macron (l) met Angela Merkel and Boris Johnson (r) at the UN headquarters\\r\\nIran has rejected a joint statement by the leaders of France, Germany and the UK who blamed it for attacks earlier this month on Saudi oil in… [+3843 chars]  \n3    Image copyrightNazanin Zaghari-Ratcliffe Image caption\\r\\n Nazanin Zaghari-Ratcliffe has been detained in Iran since April 2016\\r\\nBoris Johnson is to call for the release of jailed British-Iranian national Nazanin Zaghari-Ratcliffe when he meets Iran's president… [+3227 chars]  \n4    Image copyrightGetty ImagesImage caption\\r\\n People were trapped in burning buildings in Wamena\\r\\nAt least 20 people are dead and 65 injured in Indonesia's eastern region of Papua, following fresh violence.\\r\\nOn Monday, hundreds of protesters -mainly high school … [+2489 chars]\nName: content, dtype: object"
          },
          "metadata": {}
        }
      ]
    },
    {
      "metadata": {},
      "cell_type": "markdown",
      "source": "#### All news (max. 100)"
    },
    {
      "metadata": {
        "trusted": true
      },
      "cell_type": "code",
      "source": "# /v2/everything\nall_articles = newsapi.get_everything(sources='bbc-news', page_size=100)",
      "execution_count": 16,
      "outputs": []
    },
    {
      "metadata": {
        "trusted": true
      },
      "cell_type": "code",
      "source": "BBC_all_news_df = pd.DataFrame.from_dict(all_articles['articles'])\nBBC_all_news_df['news_text'] = BBC_all_news_df['content']\nBBC_all_news_df = BBC_all_news_df.drop(['author', 'description', 'content', 'publishedAt', 'source', 'title', 'url', 'urlToImage'], axis=1)\nlist(BBC_all_news_df.columns)",
      "execution_count": 17,
      "outputs": [
        {
          "output_type": "execute_result",
          "execution_count": 17,
          "data": {
            "text/plain": "['news_text']"
          },
          "metadata": {}
        }
      ]
    },
    {
      "metadata": {},
      "cell_type": "markdown",
      "source": "#### Save BBC live news file"
    },
    {
      "metadata": {
        "trusted": true
      },
      "cell_type": "code",
      "source": "def saving_file(file, file_name, save_dir):\n    file.to_csv(os.path.join(save_dir,file_name), index=False)",
      "execution_count": 27,
      "outputs": []
    },
    {
      "metadata": {
        "trusted": true
      },
      "cell_type": "code",
      "source": "save_dir = '/home/nbuser/library/2. News Scrapper'\nfile = BBC_all_news_df\nfile_name = 'BBC_LIVE_NEWS.csv'",
      "execution_count": 31,
      "outputs": []
    },
    {
      "metadata": {
        "trusted": true
      },
      "cell_type": "code",
      "source": "saving_file(file, file_name, save_dir)",
      "execution_count": 32,
      "outputs": []
    }
  ],
  "metadata": {
    "kernelspec": {
      "name": "python36",
      "display_name": "Python 3.6",
      "language": "python"
    },
    "language_info": {
      "mimetype": "text/x-python",
      "nbconvert_exporter": "python",
      "name": "python",
      "pygments_lexer": "ipython3",
      "version": "3.6.6",
      "file_extension": ".py",
      "codemirror_mode": {
        "version": 3,
        "name": "ipython"
      }
    }
  },
  "nbformat": 4,
  "nbformat_minor": 1
}