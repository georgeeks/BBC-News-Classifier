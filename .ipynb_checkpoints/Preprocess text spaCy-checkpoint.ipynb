{
  "cells": [
    {
      "metadata": {},
      "cell_type": "markdown",
      "source": "## Preprocess with spaCy"
    },
    {
      "metadata": {
        "trusted": true
      },
      "cell_type": "code",
      "source": "import os\nimport pandas as pd\nimport numpy as np\nimport glob\nimport matplotlib.pyplot as plt\nimport seaborn as sns\n%matplotlib inline",
      "execution_count": 4,
      "outputs": []
    },
    {
      "metadata": {
        "trusted": true
      },
      "cell_type": "code",
      "source": "# Loading file from path\ndef loading_file():\n    file_dir = '/home/nbuser/library/1. Classifier/3. Exploratory Data Analysis'        \n    file_list = glob.glob(file_dir + '/*.csv')\n    csv_file = file_list[0]\n    return csv_file\n\n# Import file imto Pandas DataFrame\ndef importing_file(csv_file):\n    df = pd.read_csv(csv_file, sep=\",\")\n    return df\n\n# Saving path\ndef saving_file(file, file_name, save_dir):\n    file.to_csv(os.path.join(save_dir,file_name))\n",
      "execution_count": 5,
      "outputs": []
    },
    {
      "metadata": {
        "trusted": true
      },
      "cell_type": "code",
      "source": "# Importing file + Loading  file\nnews_df = importing_file(loading_file())\n\n# Top 5 records\nnews_df.head()",
      "execution_count": 6,
      "outputs": [
        {
          "output_type": "execute_result",
          "execution_count": 6,
          "data": {
            "text/html": "<div>\n<style scoped>\n    .dataframe tbody tr th:only-of-type {\n        vertical-align: middle;\n    }\n\n    .dataframe tbody tr th {\n        vertical-align: top;\n    }\n\n    .dataframe thead th {\n        text-align: right;\n    }\n</style>\n<table border=\"1\" class=\"dataframe\">\n  <thead>\n    <tr style=\"text-align: right;\">\n      <th></th>\n      <th>file_name</th>\n      <th>title</th>\n      <th>news_text</th>\n      <th>category</th>\n    </tr>\n  </thead>\n  <tbody>\n    <tr>\n      <th>0</th>\n      <td>348.txt</td>\n      <td>Berlin celebrates European cinema</td>\n      <td>Organisers say this year's Berlin Film Festiva...</td>\n      <td>entertainment</td>\n    </tr>\n    <tr>\n      <th>1</th>\n      <td>139.txt</td>\n      <td>U2 to play at Grammy awards show</td>\n      <td>Irish rock band U2 are to play live at the Gra...</td>\n      <td>entertainment</td>\n    </tr>\n    <tr>\n      <th>2</th>\n      <td>125.txt</td>\n      <td>Snow Patrol feted at Irish awards</td>\n      <td>Snow Patrol were the big winners in Ireland's ...</td>\n      <td>entertainment</td>\n    </tr>\n    <tr>\n      <th>3</th>\n      <td>267.txt</td>\n      <td>T in the Park sells out in days</td>\n      <td>Tickets for Scotland's biggest music festival ...</td>\n      <td>entertainment</td>\n    </tr>\n    <tr>\n      <th>4</th>\n      <td>311.txt</td>\n      <td>Corbett attacks 'dumbed-down TV'</td>\n      <td>Ronnie Corbett has joined fellow comedy stars ...</td>\n      <td>entertainment</td>\n    </tr>\n  </tbody>\n</table>\n</div>",
            "text/plain": "  file_name                              title  \\\n0   348.txt  Berlin celebrates European cinema   \n1   139.txt   U2 to play at Grammy awards show   \n2   125.txt  Snow Patrol feted at Irish awards   \n3   267.txt    T in the Park sells out in days   \n4   311.txt   Corbett attacks 'dumbed-down TV'   \n\n                                           news_text       category  \n0  Organisers say this year's Berlin Film Festiva...  entertainment  \n1  Irish rock band U2 are to play live at the Gra...  entertainment  \n2  Snow Patrol were the big winners in Ireland's ...  entertainment  \n3  Tickets for Scotland's biggest music festival ...  entertainment  \n4  Ronnie Corbett has joined fellow comedy stars ...  entertainment  "
          },
          "metadata": {}
        }
      ]
    },
    {
      "metadata": {
        "trusted": true
      },
      "cell_type": "code",
      "source": "import spacy",
      "execution_count": 3,
      "outputs": []
    },
    {
      "metadata": {
        "trusted": true
      },
      "cell_type": "code",
      "source": "!spacy download en",
      "execution_count": 12,
      "outputs": [
        {
          "output_type": "stream",
          "text": "Collecting en_core_web_sm==2.1.0 from https://github.com/explosion/spacy-models/releases/download/en_core_web_sm-2.1.0/en_core_web_sm-2.1.0.tar.gz#egg=en_core_web_sm==2.1.0\n\u001b[?25l  Downloading https://github.com/explosion/spacy-models/releases/download/en_core_web_sm-2.1.0/en_core_web_sm-2.1.0.tar.gz (11.1MB)\n\u001b[K     |████████████████████████████████| 11.1MB 9.9MB/s eta 0:00:01    |██████████                      | 3.5MB 1.1MB/s eta 0:00:08\n\u001b[?25hBuilding wheels for collected packages: en-core-web-sm\n  Building wheel for en-core-web-sm (setup.py) ... \u001b[?25ldone\n\u001b[?25h  Created wheel for en-core-web-sm: filename=en_core_web_sm-2.1.0-cp36-none-any.whl size=11075237 sha256=519bd820dba9dd424a048baa76bdec13ba0e857f3048020355ccb2bda98aca08\n  Stored in directory: /tmp/pip-ephem-wheel-cache-rxfzkbxt/wheels/39/ea/3b/507f7df78be8631a7a3d7090962194cf55bc1158572c0be77f\nSuccessfully built en-core-web-sm\nInstalling collected packages: en-core-web-sm\nSuccessfully installed en-core-web-sm-2.1.0\n\u001b[33mWARNING: You are using pip version 19.2.2, however version 19.2.3 is available.\nYou should consider upgrading via the 'pip install --upgrade pip' command.\u001b[0m\n\u001b[38;5;2m✔ Download and installation successful\u001b[0m\nYou can now load the model via spacy.load('en_core_web_sm')\n\u001b[38;5;2m✔ Linking successful\u001b[0m\n/home/nbuser/anaconda3_501/lib/python3.6/site-packages/en_core_web_sm -->\n/home/nbuser/anaconda3_501/lib/python3.6/site-packages/spacy/data/en\nYou can now load the model via spacy.load('en')\n",
          "name": "stdout"
        }
      ]
    },
    {
      "metadata": {},
      "cell_type": "markdown",
      "source": "#### Tokenizing the Text\n"
    },
    {
      "metadata": {
        "trusted": true
      },
      "cell_type": "code",
      "source": "# Load English tokenizer, tagger, parser, NER and word vectors\nspacy.load('en')\nfrom spacy.lang.en import English\n\nnlp = English()\n\n# Create the pipeline 'sentencizer' component\nsbd = nlp.create_pipe('sentencizer')\n\n# Add the component to the pipeline\nnlp.add_pipe(sbd)\n\ntext = news_df.loc[15, 'news_text']\n\n#  \"nlp\" Object is used to create documents with linguistic annotations.\ndoc = nlp(text)\n\n# create list of sentence tokens\nsents_list = []\nfor sent in doc.sents:\n    sents_list.append(sent.text)\nprint(sents_list)",
      "execution_count": 15,
      "outputs": [
        {
          "output_type": "stream",
          "text": "['The man who said he got Oscar-nominated movie The Aviator off the ground and signed up Leonardo DiCaprio has been shut out of the Academy Awards race.', \"Charles Evans Jr battled over his role with the people who eventually made the film, and won a producer's credit.\", 'But he is not on the list of producers who can win a best film Oscar due to a limit on the number of nominees.', \"The Oscars organisers have picked two of The Aviator's four producers to be nominated for best film.\", 'Up to three producers can be named per film but the studios behind The Aviator and Million Dollar Baby failed to trim their credits - so the Academy of Motion Pictures Arts and Sciences (Ampas) has done it for them.', \"The Aviator's nominated producers are Michael Mann and Graham King - with Mr Evans and Sandy Climan, Mr Mann's former deputy, left off.\", 'Mr Evans sued Mr Mann in 2001, claiming he came up with the idea, spent years developing it and persuaded DiCaprio to play Hughes - but said he was later excluded from the project.', \"The two sides settled out of court in a deal that has remained secret apart from the fact Mr Evans' name has appeared as a producer when the film's credits roll.\", 'At the Golden Globes, Mr Evans - who was named among the winners when the film won best drama film - evaded a security guard to have his photo taken with DiCaprio, director Martin Scorsese, Mr Mann and Mr King.', \"Ampas decided to limit the number of producers who could be nominated after Shakespeare in Love's victory in 1999 saw five producers collect awards.\", \"The eligible names for The Aviator and Million Dollar Baby were decided by Ampas' producers branch executive committee on Wednesday.\", 'The decision also saw Clint Eastwood get his third personal nomination for Million Dollar Baby.', 'He is now named in the best film category as well as being nominated for best director and best lead actor.', 'The Academy Awards ceremony will be held in Hollywood on 27 February.', 'Chinese actress Ziyi Zhang, star of Crouching Tiger, Hidden Dragon, Hero and House of Flying Daggers, is the latest name to be added to the list of presenters on the night.']\n",
          "name": "stdout"
        }
      ]
    },
    {
      "metadata": {},
      "cell_type": "markdown",
      "source": "#### Cleaning Text Data: Removing Stopwords"
    },
    {
      "metadata": {
        "trusted": true
      },
      "cell_type": "code",
      "source": "#Stop words\n#importing stop words from English language.\nimport spacy\nspacy_stopwords = spacy.lang.en.stop_words.STOP_WORDS\n\n#Printing the total number of stop words:\nprint('Number of stop words: %d' % len(spacy_stopwords))\n\n#Printing first ten stop words:\nprint('First ten stop words: %s' % list(spacy_stopwords)[:20])",
      "execution_count": 16,
      "outputs": [
        {
          "output_type": "stream",
          "text": "Number of stop words: 326\nFirst ten stop words: ['sixty', 'already', 'whence', 'many', 'seem', 'being', 'towards', 'out', 'sometimes', 'formerly', 'them', '’re', 'by', 'namely', 'get', 'every', 'otherwise', 'rather', 'as', 'an']\n",
          "name": "stdout"
        }
      ]
    },
    {
      "metadata": {},
      "cell_type": "markdown",
      "source": "#### Removing Stopwords from Our Data"
    },
    {
      "metadata": {
        "trusted": true
      },
      "cell_type": "code",
      "source": "from spacy.lang.en.stop_words import STOP_WORDS\n\n#Implementation of stop words:\nfiltered_sent=[]\n\n#  \"nlp\" Object is used to create documents with linguistic annotations.\ndoc = nlp(text)\n\n# filtering stop words\nfor word in doc:\n    if word.is_stop==False:\n        filtered_sent.append(word)\nprint(\"Filtered Sentence:\",filtered_sent)",
      "execution_count": 17,
      "outputs": [
        {
          "output_type": "stream",
          "text": "Filtered Sentence: [man, said, got, Oscar, -, nominated, movie, Aviator, ground, signed, Leonardo, DiCaprio, shut, Academy, Awards, race, ., Charles, Evans, Jr, battled, role, people, eventually, film, ,, won, producer, credit, ., list, producers, win, best, film, Oscar, limit, number, nominees, ., Oscars, organisers, picked, Aviator, producers, nominated, best, film, ., producers, named, film, studios, Aviator, Million, Dollar, Baby, failed, trim, credits, -, Academy, Motion, Pictures, Arts, Sciences, (, Ampas, ), ., Aviator, nominated, producers, Michael, Mann, Graham, King, -, Mr, Evans, Sandy, Climan, ,, Mr, Mann, deputy, ,, left, ., Mr, Evans, sued, Mr, Mann, 2001, ,, claiming, came, idea, ,, spent, years, developing, persuaded, DiCaprio, play, Hughes, -, said, later, excluded, project, ., sides, settled, court, deal, remained, secret, apart, fact, Mr, Evans, ', appeared, producer, film, credits, roll, ., Golden, Globes, ,, Mr, Evans, -, named, winners, film, won, best, drama, film, -, evaded, security, guard, photo, taken, DiCaprio, ,, director, Martin, Scorsese, ,, Mr, Mann, Mr, King, ., Ampas, decided, limit, number, producers, nominated, Shakespeare, Love, victory, 1999, saw, producers, collect, awards, ., eligible, names, Aviator, Million, Dollar, Baby, decided, Ampas, ', producers, branch, executive, committee, Wednesday, ., decision, saw, Clint, Eastwood, personal, nomination, Million, Dollar, Baby, ., named, best, film, category, nominated, best, director, best, lead, actor, ., Academy, Awards, ceremony, held, Hollywood, 27, February, ., Chinese, actress, Ziyi, Zhang, ,, star, Crouching, Tiger, ,, Hidden, Dragon, ,, Hero, House, Flying, Daggers, ,, latest, added, list, presenters, night, .]\n",
          "name": "stdout"
        }
      ]
    },
    {
      "metadata": {},
      "cell_type": "markdown",
      "source": "### Lexicon Normalization"
    },
    {
      "metadata": {},
      "cell_type": "markdown",
      "source": "#### Lemmatization"
    },
    {
      "metadata": {
        "trusted": true
      },
      "cell_type": "code",
      "source": "# Implementing lemmatization\nlem = nlp(text)\n# finding lemma for each word\nfor word in lem:\n    print(word.text,word.lemma_)",
      "execution_count": 19,
      "outputs": [
        {
          "output_type": "stream",
          "text": "The The\nman man\nwho who\nsaid say\nhe he\ngot get\nOscar Oscar\n- -\nnominated nominate\nmovie movie\nThe The\nAviator Aviator\noff off\nthe the\nground grind\nand and\nsigned sign\nup up\nLeonardo Leonardo\nDiCaprio DiCaprio\nhas have\nbeen be\nshut shut\nout out\nof of\nthe the\nAcademy Academy\nAwards Awards\nrace race\n. .\nCharles Charles\nEvans Evans\nJr Jr\nbattled battle\nover over\nhis his\nrole role\nwith with\nthe the\npeople people\nwho who\neventually eventually\nmade make\nthe the\nfilm film\n, ,\nand and\nwon win\na a\nproducer producer\n's have\ncredit credit\n. .\nBut But\nhe he\nis be\nnot not\non on\nthe the\nlist list\nof of\nproducers producer\nwho who\ncan can\nwin win\na a\nbest well\nfilm film\nOscar Oscar\ndue due\nto to\na a\nlimit limit\non on\nthe the\nnumber numb\nof of\nnominees nominee\n. .\nThe The\nOscars Oscars\norganisers organiser\nhave have\npicked pick\ntwo two\nof of\nThe The\nAviator Aviator\n's have\nfour four\nproducers producer\nto to\nbe be\nnominated nominate\nfor for\nbest well\nfilm film\n. .\nUp Up\nto to\nthree three\nproducers producer\ncan can\nbe be\nnamed name\nper per\nfilm film\nbut but\nthe the\nstudios studio\nbehind behind\nThe The\nAviator Aviator\nand and\nMillion Million\nDollar Dollar\nBaby Baby\nfailed fail\nto to\ntrim trim\ntheir their\ncredits credit\n- -\nso so\nthe the\nAcademy Academy\nof of\nMotion Motion\nPictures Pictures\nArts Arts\nand and\nSciences Sciences\n( (\nAmpas Ampas\n) )\nhas have\ndone do\nit it\nfor for\nthem them\n. .\nThe The\nAviator Aviator\n's have\nnominated nominate\nproducers producer\nare be\nMichael Michael\nMann Mann\nand and\nGraham Graham\nKing King\n- -\nwith with\nMr Mr\nEvans Evans\nand and\nSandy Sandy\nCliman Climan\n, ,\nMr Mr\nMann Mann\n's have\nformer former\ndeputy deputy\n, ,\nleft leave\noff off\n. .\nMr Mr\nEvans Evans\nsued sue\nMr Mr\nMann Mann\nin in\n2001 2001\n, ,\nclaiming claim\nhe he\ncame come\nup up\nwith with\nthe the\nidea idea\n, ,\nspent spend\nyears year\ndeveloping develope\nit it\nand and\npersuaded persuade\nDiCaprio DiCaprio\nto to\nplay play\nHughes Hughes\n- -\nbut but\nsaid say\nhe he\nwas be\nlater late\nexcluded exclude\nfrom from\nthe the\nproject project\n. .\nThe The\ntwo two\nsides side\nsettled settle\nout out\nof of\ncourt court\nin in\na a\ndeal deal\nthat that\nhas have\nremained remain\nsecret secret\napart apart\nfrom from\nthe the\nfact fact\nMr Mr\nEvans Evans\n' '\nname name\nhas have\nappeared appear\nas a\na a\nproducer producer\nwhen when\nthe the\nfilm film\n's have\ncredits credit\nroll roll\n. .\nAt At\nthe the\nGolden Golden\nGlobes Globes\n, ,\nMr Mr\nEvans Evans\n- -\nwho who\nwas be\nnamed name\namong among\nthe the\nwinners winner\nwhen when\nthe the\nfilm film\nwon win\nbest well\ndrama drama\nfilm film\n- -\nevaded evade\na a\nsecurity security\nguard guard\nto to\nhave have\nhis his\nphoto photo\ntaken take\nwith with\nDiCaprio DiCaprio\n, ,\ndirector director\nMartin Martin\nScorsese Scorsese\n, ,\nMr Mr\nMann Mann\nand and\nMr Mr\nKing King\n. .\nAmpas Ampas\ndecided decide\nto to\nlimit limit\nthe the\nnumber numb\nof of\nproducers producer\nwho who\ncould can\nbe be\nnominated nominate\nafter after\nShakespeare Shakespeare\nin in\nLove Love\n's have\nvictory victory\nin in\n1999 1999\nsaw see\nfive five\nproducers producer\ncollect collect\nawards award\n. .\nThe The\neligible eligible\nnames name\nfor for\nThe The\nAviator Aviator\nand and\nMillion Million\nDollar Dollar\nBaby Baby\nwere be\ndecided decide\nby by\nAmpas Ampas\n' '\nproducers producer\nbranch branch\nexecutive executive\ncommittee committee\non on\nWednesday Wednesday\n. .\nThe The\ndecision decision\nalso also\nsaw see\nClint Clint\nEastwood Eastwood\nget get\nhis his\nthird 3\npersonal personal\nnomination nomination\nfor for\nMillion Million\nDollar Dollar\nBaby Baby\n. .\nHe He\nis be\nnow now\nnamed name\nin in\nthe the\nbest well\nfilm film\ncategory category\nas a\nwell good\nas a\nbeing be\nnominated nominate\nfor for\nbest well\ndirector director\nand and\nbest well\nlead lead\nactor actor\n. .\nThe The\nAcademy Academy\nAwards Awards\nceremony ceremony\nwill will\nbe be\nheld hold\nin in\nHollywood Hollywood\non on\n27 27\nFebruary February\n. .\nChinese Chinese\nactress actress\nZiyi Ziyi\nZhang Zhang\n, ,\nstar star\nof of\nCrouching Crouching\nTiger Tiger\n, ,\nHidden Hidden\nDragon Dragon\n, ,\nHero Hero\nand and\nHouse House\nof of\nFlying Flying\nDaggers Daggers\n, ,\nis be\nthe the\nlatest late\nname name\nto to\nbe be\nadded add\nto to\nthe the\nlist list\nof of\npresenters presenter\non on\nthe the\nnight night\n. .\n",
          "name": "stdout"
        }
      ]
    },
    {
      "metadata": {},
      "cell_type": "markdown",
      "source": "#### Part of Speech (POS) Tagging"
    },
    {
      "metadata": {
        "trusted": true
      },
      "cell_type": "code",
      "source": "# POS tagging\n\n# importing the model en_core_web_sm of English for vocabluary, syntax & entities\nimport en_core_web_sm\n\n# load en_core_web_sm of English for vocabluary, syntax & entities\nnlp = en_core_web_sm.load()\n\n#  \"nlp\" Objectis used to create documents with linguistic annotations.\ndocs = nlp(text)\n\nfor word in docs:\n    print(word.text,word.pos_)",
      "execution_count": 20,
      "outputs": [
        {
          "output_type": "stream",
          "text": "The DET\nman NOUN\nwho PRON\nsaid VERB\nhe PRON\ngot VERB\nOscar PROPN\n- PUNCT\nnominated VERB\nmovie NOUN\nThe DET\nAviator NOUN\noff ADP\nthe DET\nground NOUN\nand CCONJ\nsigned VERB\nup PART\nLeonardo PROPN\nDiCaprio PROPN\nhas VERB\nbeen VERB\nshut VERB\nout ADP\nof ADP\nthe DET\nAcademy PROPN\nAwards PROPN\nrace NOUN\n. PUNCT\nCharles PROPN\nEvans PROPN\nJr PROPN\nbattled VERB\nover ADP\nhis DET\nrole NOUN\nwith ADP\nthe DET\npeople NOUN\nwho PRON\neventually ADV\nmade VERB\nthe DET\nfilm NOUN\n, PUNCT\nand CCONJ\nwon VERB\na DET\nproducer NOUN\n's PART\ncredit NOUN\n. PUNCT\nBut CCONJ\nhe PRON\nis VERB\nnot ADV\non ADP\nthe DET\nlist NOUN\nof ADP\nproducers NOUN\nwho PRON\ncan VERB\nwin VERB\na DET\nbest ADJ\nfilm NOUN\nOscar PROPN\ndue ADP\nto ADP\na DET\nlimit NOUN\non ADP\nthe DET\nnumber NOUN\nof ADP\nnominees NOUN\n. PUNCT\nThe DET\nOscars PROPN\norganisers NOUN\nhave VERB\npicked VERB\ntwo NUM\nof ADP\nThe DET\nAviator PROPN\n's PART\nfour NUM\nproducers NOUN\nto PART\nbe VERB\nnominated VERB\nfor ADP\nbest ADJ\nfilm NOUN\n. PUNCT\nUp ADP\nto PART\nthree NUM\nproducers NOUN\ncan VERB\nbe VERB\nnamed VERB\nper ADP\nfilm NOUN\nbut CCONJ\nthe DET\nstudios NOUN\nbehind ADP\nThe DET\nAviator PROPN\nand CCONJ\nMillion PROPN\nDollar PROPN\nBaby PROPN\nfailed VERB\nto PART\ntrim VERB\ntheir DET\ncredits NOUN\n- PUNCT\nso ADV\nthe DET\nAcademy PROPN\nof ADP\nMotion PROPN\nPictures PROPN\nArts PROPN\nand CCONJ\nSciences PROPN\n( PUNCT\nAmpas PROPN\n) PUNCT\nhas VERB\ndone VERB\nit PRON\nfor ADP\nthem PRON\n. PUNCT\nThe DET\nAviator PROPN\n's PART\nnominated VERB\nproducers NOUN\nare VERB\nMichael PROPN\nMann PROPN\nand CCONJ\nGraham PROPN\nKing PROPN\n- PUNCT\nwith ADP\nMr PROPN\nEvans PROPN\nand CCONJ\nSandy PROPN\nCliman PROPN\n, PUNCT\nMr PROPN\nMann PROPN\n's PART\nformer ADJ\ndeputy NOUN\n, PUNCT\nleft VERB\noff PART\n. PUNCT\nMr PROPN\nEvans PROPN\nsued VERB\nMr PROPN\nMann PROPN\nin ADP\n2001 NUM\n, PUNCT\nclaiming VERB\nhe PRON\ncame VERB\nup PART\nwith ADP\nthe DET\nidea NOUN\n, PUNCT\nspent VERB\nyears NOUN\ndeveloping VERB\nit PRON\nand CCONJ\npersuaded VERB\nDiCaprio PROPN\nto PART\nplay VERB\nHughes PROPN\n- PUNCT\nbut CCONJ\nsaid VERB\nhe PRON\nwas VERB\nlater ADV\nexcluded VERB\nfrom ADP\nthe DET\nproject NOUN\n. PUNCT\nThe DET\ntwo NUM\nsides NOUN\nsettled VERB\nout ADP\nof ADP\ncourt NOUN\nin ADP\na DET\ndeal NOUN\nthat DET\nhas VERB\nremained VERB\nsecret ADJ\napart ADV\nfrom ADP\nthe DET\nfact NOUN\nMr PROPN\nEvans PROPN\n' PART\nname NOUN\nhas VERB\nappeared VERB\nas ADP\na DET\nproducer NOUN\nwhen ADV\nthe DET\nfilm NOUN\n's PART\ncredits NOUN\nroll VERB\n. PUNCT\nAt ADP\nthe DET\nGolden PROPN\nGlobes PROPN\n, PUNCT\nMr PROPN\nEvans PROPN\n- PUNCT\nwho PRON\nwas VERB\nnamed VERB\namong ADP\nthe DET\nwinners NOUN\nwhen ADV\nthe DET\nfilm NOUN\nwon VERB\nbest ADJ\ndrama NOUN\nfilm NOUN\n- PUNCT\nevaded VERB\na DET\nsecurity NOUN\nguard NOUN\nto PART\nhave VERB\nhis DET\nphoto NOUN\ntaken VERB\nwith ADP\nDiCaprio PROPN\n, PUNCT\ndirector NOUN\nMartin PROPN\nScorsese PROPN\n, PUNCT\nMr PROPN\nMann PROPN\nand CCONJ\nMr PROPN\nKing PROPN\n. PUNCT\nAmpas NOUN\ndecided VERB\nto PART\nlimit VERB\nthe DET\nnumber NOUN\nof ADP\nproducers NOUN\nwho PRON\ncould VERB\nbe VERB\nnominated VERB\nafter ADP\nShakespeare PROPN\nin ADP\nLove PROPN\n's PART\nvictory NOUN\nin ADP\n1999 NUM\nsaw VERB\nfive NUM\nproducers NOUN\ncollect VERB\nawards NOUN\n. PUNCT\nThe DET\neligible ADJ\nnames NOUN\nfor ADP\nThe DET\nAviator PROPN\nand CCONJ\nMillion PROPN\nDollar PROPN\nBaby PROPN\nwere VERB\ndecided VERB\nby ADP\nAmpas PROPN\n' PART\nproducers NOUN\nbranch NOUN\nexecutive ADJ\ncommittee NOUN\non ADP\nWednesday PROPN\n. PUNCT\nThe DET\ndecision NOUN\nalso ADV\nsaw VERB\nClint PROPN\nEastwood PROPN\nget VERB\nhis DET\nthird ADJ\npersonal ADJ\nnomination NOUN\nfor ADP\nMillion NUM\nDollar PROPN\nBaby PROPN\n. PUNCT\nHe PRON\nis VERB\nnow ADV\nnamed VERB\nin ADP\nthe DET\nbest ADJ\nfilm NOUN\ncategory NOUN\nas ADV\nwell ADV\nas ADP\nbeing VERB\nnominated VERB\nfor ADP\nbest ADJ\ndirector NOUN\nand CCONJ\nbest ADJ\nlead ADJ\nactor NOUN\n. PUNCT\nThe DET\nAcademy PROPN\nAwards PROPN\nceremony NOUN\nwill VERB\nbe VERB\nheld VERB\nin ADP\nHollywood PROPN\non ADP\n27 NUM\nFebruary PROPN\n. PUNCT\nChinese ADJ\nactress NOUN\nZiyi PROPN\nZhang PROPN\n, PUNCT\nstar NOUN\nof ADP\nCrouching PROPN\nTiger PROPN\n, PUNCT\nHidden PROPN\nDragon PROPN\n, PUNCT\nHero PROPN\nand CCONJ\nHouse PROPN\nof ADP\nFlying PROPN\nDaggers PROPN\n, PUNCT\nis VERB\nthe DET\nlatest ADJ\nname NOUN\nto PART\nbe VERB\nadded VERB\nto ADP\nthe DET\nlist NOUN\nof ADP\npresenters NOUN\non ADP\nthe DET\nnight NOUN\n. PUNCT\n",
          "name": "stdout"
        }
      ]
    },
    {
      "metadata": {},
      "cell_type": "markdown",
      "source": "#### Entity Detection"
    },
    {
      "metadata": {
        "trusted": true
      },
      "cell_type": "code",
      "source": "#for visualization of Entity detection importing displacy from spacy:\n\nfrom spacy import displacy\n\nnytimes= nlp(text)\n\nentities=[(i, i.label_, i.label) for i in nytimes.ents]\nentities",
      "execution_count": 21,
      "outputs": [
        {
          "output_type": "execute_result",
          "execution_count": 21,
          "data": {
            "text/plain": "[(Oscar, 'GPE', 384),\n (The Aviator, 'ORG', 383),\n (Leonardo DiCaprio, 'PERSON', 380),\n (Academy Awards, 'ORG', 383),\n (Charles Evans Jr, 'PERSON', 380),\n (Oscar, 'ORG', 383),\n (Oscars, 'GPE', 384),\n (two, 'CARDINAL', 397),\n (Aviator, 'ORG', 383),\n (four, 'CARDINAL', 397),\n (three, 'CARDINAL', 397),\n (the Academy of Motion Pictures Arts and Sciences (Ampas, 'ORG', 383),\n (Aviator, 'ORG', 383),\n (Michael Mann, 'PERSON', 380),\n (Graham King - with Mr Evans, 'PERSON', 380),\n (Sandy Climan, 'PERSON', 380),\n (Mr Mann's, 'ORG', 383),\n (Mr Evans, 'PERSON', 380),\n (Mr Mann, 'PERSON', 380),\n (2001, 'DATE', 391),\n (years, 'DATE', 391),\n (DiCaprio, 'PERSON', 380),\n (Hughes, 'ORG', 383),\n (two, 'CARDINAL', 397),\n (Mr Evans', 'PERSON', 380),\n (the Golden Globes, 'FAC', 9191306739292312949),\n (Mr Evans - who, 'PERSON', 380),\n (DiCaprio, 'PERSON', 380),\n (Martin Scorsese, 'PERSON', 380),\n (Mr Mann, 'PERSON', 380),\n (Mr King, 'PERSON', 380),\n (Ampas, 'PERSON', 380),\n (Shakespeare, 'PERSON', 380),\n (Love, 'PERSON', 380),\n (1999, 'DATE', 391),\n (five, 'CARDINAL', 397),\n (The Aviator, 'ORG', 383),\n (Ampas, 'PERSON', 380),\n (Wednesday, 'DATE', 391),\n (Clint Eastwood, 'LOC', 385),\n (third, 'ORDINAL', 396),\n (Hollywood, 'GPE', 384),\n (27 February, 'DATE', 391),\n (Chinese, 'NORP', 381),\n (Ziyi Zhang, 'PERSON', 380),\n (Crouching Tiger, 'GPE', 384),\n (Hidden Dragon, 'GPE', 384),\n (Hero, 'PERSON', 380),\n (House of Flying Daggers, 'ORG', 383)]"
          },
          "metadata": {}
        }
      ]
    },
    {
      "metadata": {
        "trusted": true
      },
      "cell_type": "code",
      "source": "displacy.render(nytimes, style = \"ent\",jupyter = True)",
      "execution_count": 22,
      "outputs": [
        {
          "output_type": "display_data",
          "data": {
            "text/html": "<div class=\"entities\" style=\"line-height: 2.5; direction: ltr\">The man who said he got \n<mark class=\"entity\" style=\"background: #feca74; padding: 0.45em 0.6em; margin: 0 0.25em; line-height: 1; border-radius: 0.35em; box-decoration-break: clone; -webkit-box-decoration-break: clone\">\n    Oscar\n    <span style=\"font-size: 0.8em; font-weight: bold; line-height: 1; border-radius: 0.35em; text-transform: uppercase; vertical-align: middle; margin-left: 0.5rem\">GPE</span>\n</mark>\n-nominated movie \n<mark class=\"entity\" style=\"background: #7aecec; padding: 0.45em 0.6em; margin: 0 0.25em; line-height: 1; border-radius: 0.35em; box-decoration-break: clone; -webkit-box-decoration-break: clone\">\n    The Aviator\n    <span style=\"font-size: 0.8em; font-weight: bold; line-height: 1; border-radius: 0.35em; text-transform: uppercase; vertical-align: middle; margin-left: 0.5rem\">ORG</span>\n</mark>\n off the ground and signed up \n<mark class=\"entity\" style=\"background: #aa9cfc; padding: 0.45em 0.6em; margin: 0 0.25em; line-height: 1; border-radius: 0.35em; box-decoration-break: clone; -webkit-box-decoration-break: clone\">\n    Leonardo DiCaprio\n    <span style=\"font-size: 0.8em; font-weight: bold; line-height: 1; border-radius: 0.35em; text-transform: uppercase; vertical-align: middle; margin-left: 0.5rem\">PERSON</span>\n</mark>\n has been shut out of the \n<mark class=\"entity\" style=\"background: #7aecec; padding: 0.45em 0.6em; margin: 0 0.25em; line-height: 1; border-radius: 0.35em; box-decoration-break: clone; -webkit-box-decoration-break: clone\">\n    Academy Awards\n    <span style=\"font-size: 0.8em; font-weight: bold; line-height: 1; border-radius: 0.35em; text-transform: uppercase; vertical-align: middle; margin-left: 0.5rem\">ORG</span>\n</mark>\n race.\n<mark class=\"entity\" style=\"background: #aa9cfc; padding: 0.45em 0.6em; margin: 0 0.25em; line-height: 1; border-radius: 0.35em; box-decoration-break: clone; -webkit-box-decoration-break: clone\">\n    Charles Evans Jr\n    <span style=\"font-size: 0.8em; font-weight: bold; line-height: 1; border-radius: 0.35em; text-transform: uppercase; vertical-align: middle; margin-left: 0.5rem\">PERSON</span>\n</mark>\n battled over his role with the people who eventually made the film, and won a producer's credit. But he is not on the list of producers who can win a best film \n<mark class=\"entity\" style=\"background: #7aecec; padding: 0.45em 0.6em; margin: 0 0.25em; line-height: 1; border-radius: 0.35em; box-decoration-break: clone; -webkit-box-decoration-break: clone\">\n    Oscar\n    <span style=\"font-size: 0.8em; font-weight: bold; line-height: 1; border-radius: 0.35em; text-transform: uppercase; vertical-align: middle; margin-left: 0.5rem\">ORG</span>\n</mark>\n due to a limit on the number of nominees. The \n<mark class=\"entity\" style=\"background: #feca74; padding: 0.45em 0.6em; margin: 0 0.25em; line-height: 1; border-radius: 0.35em; box-decoration-break: clone; -webkit-box-decoration-break: clone\">\n    Oscars\n    <span style=\"font-size: 0.8em; font-weight: bold; line-height: 1; border-radius: 0.35em; text-transform: uppercase; vertical-align: middle; margin-left: 0.5rem\">GPE</span>\n</mark>\n organisers have picked \n<mark class=\"entity\" style=\"background: #e4e7d2; padding: 0.45em 0.6em; margin: 0 0.25em; line-height: 1; border-radius: 0.35em; box-decoration-break: clone; -webkit-box-decoration-break: clone\">\n    two\n    <span style=\"font-size: 0.8em; font-weight: bold; line-height: 1; border-radius: 0.35em; text-transform: uppercase; vertical-align: middle; margin-left: 0.5rem\">CARDINAL</span>\n</mark>\n of The \n<mark class=\"entity\" style=\"background: #7aecec; padding: 0.45em 0.6em; margin: 0 0.25em; line-height: 1; border-radius: 0.35em; box-decoration-break: clone; -webkit-box-decoration-break: clone\">\n    Aviator\n    <span style=\"font-size: 0.8em; font-weight: bold; line-height: 1; border-radius: 0.35em; text-transform: uppercase; vertical-align: middle; margin-left: 0.5rem\">ORG</span>\n</mark>\n's \n<mark class=\"entity\" style=\"background: #e4e7d2; padding: 0.45em 0.6em; margin: 0 0.25em; line-height: 1; border-radius: 0.35em; box-decoration-break: clone; -webkit-box-decoration-break: clone\">\n    four\n    <span style=\"font-size: 0.8em; font-weight: bold; line-height: 1; border-radius: 0.35em; text-transform: uppercase; vertical-align: middle; margin-left: 0.5rem\">CARDINAL</span>\n</mark>\n producers to be nominated for best film.Up to \n<mark class=\"entity\" style=\"background: #e4e7d2; padding: 0.45em 0.6em; margin: 0 0.25em; line-height: 1; border-radius: 0.35em; box-decoration-break: clone; -webkit-box-decoration-break: clone\">\n    three\n    <span style=\"font-size: 0.8em; font-weight: bold; line-height: 1; border-radius: 0.35em; text-transform: uppercase; vertical-align: middle; margin-left: 0.5rem\">CARDINAL</span>\n</mark>\n producers can be named per film but the studios behind The Aviator and Million Dollar Baby failed to trim their credits - so \n<mark class=\"entity\" style=\"background: #7aecec; padding: 0.45em 0.6em; margin: 0 0.25em; line-height: 1; border-radius: 0.35em; box-decoration-break: clone; -webkit-box-decoration-break: clone\">\n    the Academy of Motion Pictures Arts and Sciences (Ampas\n    <span style=\"font-size: 0.8em; font-weight: bold; line-height: 1; border-radius: 0.35em; text-transform: uppercase; vertical-align: middle; margin-left: 0.5rem\">ORG</span>\n</mark>\n) has done it for them. The \n<mark class=\"entity\" style=\"background: #7aecec; padding: 0.45em 0.6em; margin: 0 0.25em; line-height: 1; border-radius: 0.35em; box-decoration-break: clone; -webkit-box-decoration-break: clone\">\n    Aviator\n    <span style=\"font-size: 0.8em; font-weight: bold; line-height: 1; border-radius: 0.35em; text-transform: uppercase; vertical-align: middle; margin-left: 0.5rem\">ORG</span>\n</mark>\n's nominated producers are \n<mark class=\"entity\" style=\"background: #aa9cfc; padding: 0.45em 0.6em; margin: 0 0.25em; line-height: 1; border-radius: 0.35em; box-decoration-break: clone; -webkit-box-decoration-break: clone\">\n    Michael Mann\n    <span style=\"font-size: 0.8em; font-weight: bold; line-height: 1; border-radius: 0.35em; text-transform: uppercase; vertical-align: middle; margin-left: 0.5rem\">PERSON</span>\n</mark>\n and \n<mark class=\"entity\" style=\"background: #aa9cfc; padding: 0.45em 0.6em; margin: 0 0.25em; line-height: 1; border-radius: 0.35em; box-decoration-break: clone; -webkit-box-decoration-break: clone\">\n    Graham King - with Mr Evans\n    <span style=\"font-size: 0.8em; font-weight: bold; line-height: 1; border-radius: 0.35em; text-transform: uppercase; vertical-align: middle; margin-left: 0.5rem\">PERSON</span>\n</mark>\n and \n<mark class=\"entity\" style=\"background: #aa9cfc; padding: 0.45em 0.6em; margin: 0 0.25em; line-height: 1; border-radius: 0.35em; box-decoration-break: clone; -webkit-box-decoration-break: clone\">\n    Sandy Climan\n    <span style=\"font-size: 0.8em; font-weight: bold; line-height: 1; border-radius: 0.35em; text-transform: uppercase; vertical-align: middle; margin-left: 0.5rem\">PERSON</span>\n</mark>\n, \n<mark class=\"entity\" style=\"background: #7aecec; padding: 0.45em 0.6em; margin: 0 0.25em; line-height: 1; border-radius: 0.35em; box-decoration-break: clone; -webkit-box-decoration-break: clone\">\n    Mr Mann's\n    <span style=\"font-size: 0.8em; font-weight: bold; line-height: 1; border-radius: 0.35em; text-transform: uppercase; vertical-align: middle; margin-left: 0.5rem\">ORG</span>\n</mark>\n former deputy, left off. \n<mark class=\"entity\" style=\"background: #aa9cfc; padding: 0.45em 0.6em; margin: 0 0.25em; line-height: 1; border-radius: 0.35em; box-decoration-break: clone; -webkit-box-decoration-break: clone\">\n    Mr Evans\n    <span style=\"font-size: 0.8em; font-weight: bold; line-height: 1; border-radius: 0.35em; text-transform: uppercase; vertical-align: middle; margin-left: 0.5rem\">PERSON</span>\n</mark>\n sued \n<mark class=\"entity\" style=\"background: #aa9cfc; padding: 0.45em 0.6em; margin: 0 0.25em; line-height: 1; border-radius: 0.35em; box-decoration-break: clone; -webkit-box-decoration-break: clone\">\n    Mr Mann\n    <span style=\"font-size: 0.8em; font-weight: bold; line-height: 1; border-radius: 0.35em; text-transform: uppercase; vertical-align: middle; margin-left: 0.5rem\">PERSON</span>\n</mark>\n in \n<mark class=\"entity\" style=\"background: #bfe1d9; padding: 0.45em 0.6em; margin: 0 0.25em; line-height: 1; border-radius: 0.35em; box-decoration-break: clone; -webkit-box-decoration-break: clone\">\n    2001\n    <span style=\"font-size: 0.8em; font-weight: bold; line-height: 1; border-radius: 0.35em; text-transform: uppercase; vertical-align: middle; margin-left: 0.5rem\">DATE</span>\n</mark>\n, claiming he came up with the idea, spent \n<mark class=\"entity\" style=\"background: #bfe1d9; padding: 0.45em 0.6em; margin: 0 0.25em; line-height: 1; border-radius: 0.35em; box-decoration-break: clone; -webkit-box-decoration-break: clone\">\n    years\n    <span style=\"font-size: 0.8em; font-weight: bold; line-height: 1; border-radius: 0.35em; text-transform: uppercase; vertical-align: middle; margin-left: 0.5rem\">DATE</span>\n</mark>\n developing it and persuaded \n<mark class=\"entity\" style=\"background: #aa9cfc; padding: 0.45em 0.6em; margin: 0 0.25em; line-height: 1; border-radius: 0.35em; box-decoration-break: clone; -webkit-box-decoration-break: clone\">\n    DiCaprio\n    <span style=\"font-size: 0.8em; font-weight: bold; line-height: 1; border-radius: 0.35em; text-transform: uppercase; vertical-align: middle; margin-left: 0.5rem\">PERSON</span>\n</mark>\n to play \n<mark class=\"entity\" style=\"background: #7aecec; padding: 0.45em 0.6em; margin: 0 0.25em; line-height: 1; border-radius: 0.35em; box-decoration-break: clone; -webkit-box-decoration-break: clone\">\n    Hughes\n    <span style=\"font-size: 0.8em; font-weight: bold; line-height: 1; border-radius: 0.35em; text-transform: uppercase; vertical-align: middle; margin-left: 0.5rem\">ORG</span>\n</mark>\n - but said he was later excluded from the project. The \n<mark class=\"entity\" style=\"background: #e4e7d2; padding: 0.45em 0.6em; margin: 0 0.25em; line-height: 1; border-radius: 0.35em; box-decoration-break: clone; -webkit-box-decoration-break: clone\">\n    two\n    <span style=\"font-size: 0.8em; font-weight: bold; line-height: 1; border-radius: 0.35em; text-transform: uppercase; vertical-align: middle; margin-left: 0.5rem\">CARDINAL</span>\n</mark>\n sides settled out of court in a deal that has remained secret apart from the fact \n<mark class=\"entity\" style=\"background: #aa9cfc; padding: 0.45em 0.6em; margin: 0 0.25em; line-height: 1; border-radius: 0.35em; box-decoration-break: clone; -webkit-box-decoration-break: clone\">\n    Mr Evans'\n    <span style=\"font-size: 0.8em; font-weight: bold; line-height: 1; border-radius: 0.35em; text-transform: uppercase; vertical-align: middle; margin-left: 0.5rem\">PERSON</span>\n</mark>\n name has appeared as a producer when the film's credits roll. At \n<mark class=\"entity\" style=\"background: #ddd; padding: 0.45em 0.6em; margin: 0 0.25em; line-height: 1; border-radius: 0.35em; box-decoration-break: clone; -webkit-box-decoration-break: clone\">\n    the Golden Globes\n    <span style=\"font-size: 0.8em; font-weight: bold; line-height: 1; border-radius: 0.35em; text-transform: uppercase; vertical-align: middle; margin-left: 0.5rem\">FAC</span>\n</mark>\n, \n<mark class=\"entity\" style=\"background: #aa9cfc; padding: 0.45em 0.6em; margin: 0 0.25em; line-height: 1; border-radius: 0.35em; box-decoration-break: clone; -webkit-box-decoration-break: clone\">\n    Mr Evans - who\n    <span style=\"font-size: 0.8em; font-weight: bold; line-height: 1; border-radius: 0.35em; text-transform: uppercase; vertical-align: middle; margin-left: 0.5rem\">PERSON</span>\n</mark>\n was named among the winners when the film won best drama film - evaded a security guard to have his photo taken with \n<mark class=\"entity\" style=\"background: #aa9cfc; padding: 0.45em 0.6em; margin: 0 0.25em; line-height: 1; border-radius: 0.35em; box-decoration-break: clone; -webkit-box-decoration-break: clone\">\n    DiCaprio\n    <span style=\"font-size: 0.8em; font-weight: bold; line-height: 1; border-radius: 0.35em; text-transform: uppercase; vertical-align: middle; margin-left: 0.5rem\">PERSON</span>\n</mark>\n, director \n<mark class=\"entity\" style=\"background: #aa9cfc; padding: 0.45em 0.6em; margin: 0 0.25em; line-height: 1; border-radius: 0.35em; box-decoration-break: clone; -webkit-box-decoration-break: clone\">\n    Martin Scorsese\n    <span style=\"font-size: 0.8em; font-weight: bold; line-height: 1; border-radius: 0.35em; text-transform: uppercase; vertical-align: middle; margin-left: 0.5rem\">PERSON</span>\n</mark>\n, \n<mark class=\"entity\" style=\"background: #aa9cfc; padding: 0.45em 0.6em; margin: 0 0.25em; line-height: 1; border-radius: 0.35em; box-decoration-break: clone; -webkit-box-decoration-break: clone\">\n    Mr Mann\n    <span style=\"font-size: 0.8em; font-weight: bold; line-height: 1; border-radius: 0.35em; text-transform: uppercase; vertical-align: middle; margin-left: 0.5rem\">PERSON</span>\n</mark>\n and \n<mark class=\"entity\" style=\"background: #aa9cfc; padding: 0.45em 0.6em; margin: 0 0.25em; line-height: 1; border-radius: 0.35em; box-decoration-break: clone; -webkit-box-decoration-break: clone\">\n    Mr King\n    <span style=\"font-size: 0.8em; font-weight: bold; line-height: 1; border-radius: 0.35em; text-transform: uppercase; vertical-align: middle; margin-left: 0.5rem\">PERSON</span>\n</mark>\n.\n<mark class=\"entity\" style=\"background: #aa9cfc; padding: 0.45em 0.6em; margin: 0 0.25em; line-height: 1; border-radius: 0.35em; box-decoration-break: clone; -webkit-box-decoration-break: clone\">\n    Ampas\n    <span style=\"font-size: 0.8em; font-weight: bold; line-height: 1; border-radius: 0.35em; text-transform: uppercase; vertical-align: middle; margin-left: 0.5rem\">PERSON</span>\n</mark>\n decided to limit the number of producers who could be nominated after \n<mark class=\"entity\" style=\"background: #aa9cfc; padding: 0.45em 0.6em; margin: 0 0.25em; line-height: 1; border-radius: 0.35em; box-decoration-break: clone; -webkit-box-decoration-break: clone\">\n    Shakespeare\n    <span style=\"font-size: 0.8em; font-weight: bold; line-height: 1; border-radius: 0.35em; text-transform: uppercase; vertical-align: middle; margin-left: 0.5rem\">PERSON</span>\n</mark>\n in \n<mark class=\"entity\" style=\"background: #aa9cfc; padding: 0.45em 0.6em; margin: 0 0.25em; line-height: 1; border-radius: 0.35em; box-decoration-break: clone; -webkit-box-decoration-break: clone\">\n    Love\n    <span style=\"font-size: 0.8em; font-weight: bold; line-height: 1; border-radius: 0.35em; text-transform: uppercase; vertical-align: middle; margin-left: 0.5rem\">PERSON</span>\n</mark>\n's victory in \n<mark class=\"entity\" style=\"background: #bfe1d9; padding: 0.45em 0.6em; margin: 0 0.25em; line-height: 1; border-radius: 0.35em; box-decoration-break: clone; -webkit-box-decoration-break: clone\">\n    1999\n    <span style=\"font-size: 0.8em; font-weight: bold; line-height: 1; border-radius: 0.35em; text-transform: uppercase; vertical-align: middle; margin-left: 0.5rem\">DATE</span>\n</mark>\n saw \n<mark class=\"entity\" style=\"background: #e4e7d2; padding: 0.45em 0.6em; margin: 0 0.25em; line-height: 1; border-radius: 0.35em; box-decoration-break: clone; -webkit-box-decoration-break: clone\">\n    five\n    <span style=\"font-size: 0.8em; font-weight: bold; line-height: 1; border-radius: 0.35em; text-transform: uppercase; vertical-align: middle; margin-left: 0.5rem\">CARDINAL</span>\n</mark>\n producers collect awards. The eligible names for \n<mark class=\"entity\" style=\"background: #7aecec; padding: 0.45em 0.6em; margin: 0 0.25em; line-height: 1; border-radius: 0.35em; box-decoration-break: clone; -webkit-box-decoration-break: clone\">\n    The Aviator\n    <span style=\"font-size: 0.8em; font-weight: bold; line-height: 1; border-radius: 0.35em; text-transform: uppercase; vertical-align: middle; margin-left: 0.5rem\">ORG</span>\n</mark>\n and Million Dollar Baby were decided by \n<mark class=\"entity\" style=\"background: #aa9cfc; padding: 0.45em 0.6em; margin: 0 0.25em; line-height: 1; border-radius: 0.35em; box-decoration-break: clone; -webkit-box-decoration-break: clone\">\n    Ampas\n    <span style=\"font-size: 0.8em; font-weight: bold; line-height: 1; border-radius: 0.35em; text-transform: uppercase; vertical-align: middle; margin-left: 0.5rem\">PERSON</span>\n</mark>\n' producers branch executive committee on \n<mark class=\"entity\" style=\"background: #bfe1d9; padding: 0.45em 0.6em; margin: 0 0.25em; line-height: 1; border-radius: 0.35em; box-decoration-break: clone; -webkit-box-decoration-break: clone\">\n    Wednesday\n    <span style=\"font-size: 0.8em; font-weight: bold; line-height: 1; border-radius: 0.35em; text-transform: uppercase; vertical-align: middle; margin-left: 0.5rem\">DATE</span>\n</mark>\n. The decision also saw \n<mark class=\"entity\" style=\"background: #ff9561; padding: 0.45em 0.6em; margin: 0 0.25em; line-height: 1; border-radius: 0.35em; box-decoration-break: clone; -webkit-box-decoration-break: clone\">\n    Clint Eastwood\n    <span style=\"font-size: 0.8em; font-weight: bold; line-height: 1; border-radius: 0.35em; text-transform: uppercase; vertical-align: middle; margin-left: 0.5rem\">LOC</span>\n</mark>\n get his \n<mark class=\"entity\" style=\"background: #e4e7d2; padding: 0.45em 0.6em; margin: 0 0.25em; line-height: 1; border-radius: 0.35em; box-decoration-break: clone; -webkit-box-decoration-break: clone\">\n    third\n    <span style=\"font-size: 0.8em; font-weight: bold; line-height: 1; border-radius: 0.35em; text-transform: uppercase; vertical-align: middle; margin-left: 0.5rem\">ORDINAL</span>\n</mark>\n personal nomination for Million Dollar Baby. He is now named in the best film category as well as being nominated for best director and best lead actor. The Academy Awards ceremony will be held in \n<mark class=\"entity\" style=\"background: #feca74; padding: 0.45em 0.6em; margin: 0 0.25em; line-height: 1; border-radius: 0.35em; box-decoration-break: clone; -webkit-box-decoration-break: clone\">\n    Hollywood\n    <span style=\"font-size: 0.8em; font-weight: bold; line-height: 1; border-radius: 0.35em; text-transform: uppercase; vertical-align: middle; margin-left: 0.5rem\">GPE</span>\n</mark>\n on \n<mark class=\"entity\" style=\"background: #bfe1d9; padding: 0.45em 0.6em; margin: 0 0.25em; line-height: 1; border-radius: 0.35em; box-decoration-break: clone; -webkit-box-decoration-break: clone\">\n    27 February\n    <span style=\"font-size: 0.8em; font-weight: bold; line-height: 1; border-radius: 0.35em; text-transform: uppercase; vertical-align: middle; margin-left: 0.5rem\">DATE</span>\n</mark>\n. \n<mark class=\"entity\" style=\"background: #c887fb; padding: 0.45em 0.6em; margin: 0 0.25em; line-height: 1; border-radius: 0.35em; box-decoration-break: clone; -webkit-box-decoration-break: clone\">\n    Chinese\n    <span style=\"font-size: 0.8em; font-weight: bold; line-height: 1; border-radius: 0.35em; text-transform: uppercase; vertical-align: middle; margin-left: 0.5rem\">NORP</span>\n</mark>\n actress \n<mark class=\"entity\" style=\"background: #aa9cfc; padding: 0.45em 0.6em; margin: 0 0.25em; line-height: 1; border-radius: 0.35em; box-decoration-break: clone; -webkit-box-decoration-break: clone\">\n    Ziyi Zhang\n    <span style=\"font-size: 0.8em; font-weight: bold; line-height: 1; border-radius: 0.35em; text-transform: uppercase; vertical-align: middle; margin-left: 0.5rem\">PERSON</span>\n</mark>\n, star of \n<mark class=\"entity\" style=\"background: #feca74; padding: 0.45em 0.6em; margin: 0 0.25em; line-height: 1; border-radius: 0.35em; box-decoration-break: clone; -webkit-box-decoration-break: clone\">\n    Crouching Tiger\n    <span style=\"font-size: 0.8em; font-weight: bold; line-height: 1; border-radius: 0.35em; text-transform: uppercase; vertical-align: middle; margin-left: 0.5rem\">GPE</span>\n</mark>\n, \n<mark class=\"entity\" style=\"background: #feca74; padding: 0.45em 0.6em; margin: 0 0.25em; line-height: 1; border-radius: 0.35em; box-decoration-break: clone; -webkit-box-decoration-break: clone\">\n    Hidden Dragon\n    <span style=\"font-size: 0.8em; font-weight: bold; line-height: 1; border-radius: 0.35em; text-transform: uppercase; vertical-align: middle; margin-left: 0.5rem\">GPE</span>\n</mark>\n, \n<mark class=\"entity\" style=\"background: #aa9cfc; padding: 0.45em 0.6em; margin: 0 0.25em; line-height: 1; border-radius: 0.35em; box-decoration-break: clone; -webkit-box-decoration-break: clone\">\n    Hero\n    <span style=\"font-size: 0.8em; font-weight: bold; line-height: 1; border-radius: 0.35em; text-transform: uppercase; vertical-align: middle; margin-left: 0.5rem\">PERSON</span>\n</mark>\n and \n<mark class=\"entity\" style=\"background: #7aecec; padding: 0.45em 0.6em; margin: 0 0.25em; line-height: 1; border-radius: 0.35em; box-decoration-break: clone; -webkit-box-decoration-break: clone\">\n    House of Flying Daggers\n    <span style=\"font-size: 0.8em; font-weight: bold; line-height: 1; border-radius: 0.35em; text-transform: uppercase; vertical-align: middle; margin-left: 0.5rem\">ORG</span>\n</mark>\n, is the latest name to be added to the list of presenters on the night.</div>",
            "text/plain": "<IPython.core.display.HTML object>"
          },
          "metadata": {}
        }
      ]
    },
    {
      "metadata": {},
      "cell_type": "markdown",
      "source": "#### Dependency Parsing"
    },
    {
      "metadata": {
        "trusted": true
      },
      "cell_type": "code",
      "source": "docp = nlp (text)\n\nfor chunk in docp.noun_chunks:\n   print(chunk.text, chunk.root.text, chunk.root.dep_,\n          chunk.root.head.text)",
      "execution_count": 23,
      "outputs": [
        {
          "output_type": "stream",
          "text": "The man man ROOT man\nwho who nsubj said\nhe he nsubj got\nOscar-nominated movie movie dobj got\nThe Aviator Aviator nsubjpass shut\nthe ground ground pobj off\nLeonardo DiCaprio DiCaprio dobj signed\nthe Academy Awards race race pobj of\nCharles Evans Jr Jr nsubj battled\nhis role role pobj over\nthe people people pobj with\nwho who nsubj made\nthe film film dobj made\na producer's credit credit dobj won\nhe he nsubj is\nthe list list pobj on\nproducers producers pobj of\nwho who nsubj win\na best film film dobj win\nOscar Oscar appos film\na limit limit pobj due\nthe number number pobj on\nnominees nominees pobj of\nThe Oscars organisers organisers nsubj picked\nThe Aviator's four producers producers pobj of\nbest film film pobj for\nUp to three producers producers nsubjpass named\nfilm film pobj per\nthe studios studios nsubj failed\nThe Aviator and Million Dollar Baby Baby pobj behind\ntheir credits credits dobj trim\nMotion Motion pobj of\nit it dobj done\nthem them pobj for\nThe Aviator's nominated producers producers nsubj are\nMichael Mann Mann attr are\nGraham King King conj Mann\nMr Evans Evans pobj with\nSandy Climan Climan conj Evans\nMr Mann's former deputy deputy appos King\nMr Evans Evans nsubj sued\nMr Mann Mann dobj sued\nhe he nsubj came\nthe idea idea pobj with\nyears years dobj spent\nit it dobj developing\nDiCaprio DiCaprio dobj persuaded\nHughes Hughes dobj play\nhe he nsubjpass excluded\nthe project project pobj from\nThe two sides sides nsubj settled\ncourt court pobj of\na deal deal pobj in\nthe fact fact pobj from\nMr Evans' name name nsubj appeared\na producer producer pobj as\nthe film's credits credits nsubj roll\nthe Golden Globes Globes pobj At\nMr Evans Evans appos Globes\nwho who nsubjpass named\nthe winners winners pobj among\nthe film film nsubj won\nbest drama film film dobj won\na security guard guard dobj evaded\nhis photo photo nsubj taken\nDiCaprio DiCaprio pobj with\ndirector Martin Scorsese Scorsese conj DiCaprio\nMr Mann Mann conj Scorsese\nMr King King conj Mann\nAmpas Ampas nsubj decided\nthe number number dobj limit\nproducers producers pobj of\nwho who nsubjpass nominated\nShakespeare Shakespeare nsubj saw\nLove's victory victory pobj in\nfive producers producers nsubj collect\nawards awards dobj collect\nThe eligible names names nsubjpass decided\nThe Aviator and Million Dollar Baby Baby pobj for\nAmpas' producers branch executive committee committee pobj by\nWednesday Wednesday pobj on\nThe decision decision nsubj saw\nClint Eastwood Eastwood nsubj get\nhis third personal nomination nomination dobj get\nMillion Dollar Baby Baby pobj for\nHe He nsubjpass named\nthe best film category category pobj in\nbest director director pobj for\nbest lead actor actor conj director\nThe Academy Awards ceremony ceremony nsubjpass held\nHollywood Hollywood pobj in\n27 February February pobj on\nChinese actress actress nsubj is\nZiyi Zhang Zhang appos actress\nstar star appos Zhang\nCrouching Tiger Tiger pobj of\nHidden Dragon Dragon conj Tiger\nHero Hero conj Dragon\nHouse House conj Hero\nFlying Daggers Daggers pobj of\nthe latest name name attr is\nthe list list pobj to\npresenters presenters pobj of\nthe night night pobj on\n",
          "name": "stdout"
        }
      ]
    },
    {
      "metadata": {},
      "cell_type": "markdown",
      "source": "#### Word Vector Representation"
    },
    {
      "metadata": {
        "trusted": true
      },
      "cell_type": "code",
      "source": "import en_core_web_sm\nnlp = en_core_web_sm.load()\nmango = nlp(u'mango')\nprint(mango.vector.shape)\nprint(mango.vector)",
      "execution_count": 24,
      "outputs": [
        {
          "output_type": "stream",
          "text": "(96,)\n[ 1.0466383  -1.5323697  -0.72177905 -2.4700649  -0.2715162   1.1589639\n  1.7113379  -0.31615403 -2.0978343   1.837553    1.4681302   2.728043\n -2.3457408  -5.17184    -4.6110015  -0.21236466 -0.3029521   4.220028\n -0.6813917   2.4016762  -1.9546705  -0.85086954  1.2456163   1.5107994\n  0.4684736   3.1612053   0.15542296  2.0598564   3.780035    4.6110964\n  0.6375268  -1.078107   -0.96647096 -1.3939928  -0.56914186  0.51434743\n  2.3150034  -0.93199825 -2.7970662  -0.8540115  -3.4250052   4.2857723\n  2.5058174  -2.2150877   0.7860181   3.496335   -0.62606215 -2.0213525\n -4.47421     1.6821622  -6.0789204   0.22800982 -0.36950028 -4.5340714\n -1.7978683  -2.080299    4.125556    3.1852438  -3.286446    1.0892276\n  1.017115    1.2736416  -0.10613725  3.5102775   1.1902348   0.05483437\n -0.06298041  0.8280688   0.05514218  0.94817173 -0.49377063  1.1512338\n -0.81374085 -1.6104267   1.8233354  -2.278403   -2.1321895   0.3029334\n -1.4510616  -1.0584296  -3.5698352  -0.13046083 -0.2668339   1.7826645\n  0.4639858  -0.8389523  -0.02689964  2.316218    5.8155413  -0.45935947\n  4.368636    1.6603007  -3.1823301  -1.4959551  -0.5229269   1.3637555 ]\n",
          "name": "stdout"
        }
      ]
    },
    {
      "metadata": {},
      "cell_type": "markdown",
      "source": "### SpaCy Text Classification"
    },
    {
      "metadata": {
        "trusted": true
      },
      "cell_type": "markdown",
      "source": "#### Importing Libraries"
    },
    {
      "metadata": {
        "trusted": true
      },
      "cell_type": "code",
      "source": "import pandas as pd\nfrom sklearn.feature_extraction.text import CountVectorizer,TfidfVectorizer\nfrom sklearn.base import TransformerMixin\nfrom sklearn.pipeline import Pipeline",
      "execution_count": 26,
      "outputs": []
    },
    {
      "metadata": {
        "trusted": true
      },
      "cell_type": "markdown",
      "source": "#### Tokening the Data With spaCy"
    },
    {
      "metadata": {
        "trusted": true
      },
      "cell_type": "code",
      "source": "import string\nfrom spacy.lang.en.stop_words import STOP_WORDS\nfrom spacy.lang.en import English\n\n# Create our list of punctuation marks\npunctuations = string.punctuation\n\n# Create our list of stopwords\nnlp = spacy.load('en')\nstop_words = spacy.lang.en.stop_words.STOP_WORDS\n\n# Load English tokenizer, tagger, parser, NER and word vectors\nparser = English()\n\n# Creating our tokenizer function\ndef spacy_tokenizer(sentence):\n    # Creating our token object, which is used to create documents with linguistic annotations.\n    mytokens = parser(sentence)\n\n    # Lemmatizing each token and converting each token into lowercase\n    mytokens = [ word.lemma_.lower().strip() if word.lemma_ != \"-PRON-\" else word.lower_ for word in mytokens ]\n\n    # Removing stop words\n    mytokens = [ word for word in mytokens if word not in stop_words and word not in punctuations ]\n\n    # return preprocessed list of tokens\n    return mytokens",
      "execution_count": 29,
      "outputs": []
    },
    {
      "metadata": {},
      "cell_type": "markdown",
      "source": "#### Defining a Custom Transformer"
    },
    {
      "metadata": {
        "trusted": true
      },
      "cell_type": "code",
      "source": "# Custom transformer using spaCy\nclass predictors(TransformerMixin):\n    def transform(self, X, **transform_params):\n        # Cleaning Text\n        return [clean_text(text) for text in X]\n\n    def fit(self, X, y=None, **fit_params):\n        return self\n\n    def get_params(self, deep=True):\n        return {}\n\n# Basic function to clean the text\ndef clean_text(text):\n    # Removing spaces and converting text into lowercase\n    return text.strip().lower()",
      "execution_count": 30,
      "outputs": []
    },
    {
      "metadata": {},
      "cell_type": "markdown",
      "source": "#### Vectorization Feature Engineering (TF-IDF)"
    },
    {
      "metadata": {
        "trusted": true
      },
      "cell_type": "code",
      "source": "bow_vector = CountVectorizer(tokenizer = spacy_tokenizer, ngram_range=(1,1), binary=False)",
      "execution_count": 36,
      "outputs": []
    },
    {
      "metadata": {
        "trusted": true
      },
      "cell_type": "code",
      "source": "tfidf_vector = TfidfVectorizer(tokenizer = spacy_tokenizer)",
      "execution_count": 37,
      "outputs": []
    },
    {
      "metadata": {},
      "cell_type": "markdown",
      "source": "#### Splitting The Data into Training and Test Sets"
    },
    {
      "metadata": {
        "trusted": true
      },
      "cell_type": "code",
      "source": "from sklearn.model_selection import train_test_split\n\nX = news_df['news_text'] # the features we want to analyze\nylabels = news_df['category'] # the labels, or answers, we want to test against\n\nX_train, X_test, y_train, y_test = train_test_split(X, ylabels, test_size=0.3)",
      "execution_count": 38,
      "outputs": []
    },
    {
      "metadata": {},
      "cell_type": "markdown",
      "source": "#### Creating a Pipeline and Generating the Model"
    },
    {
      "metadata": {
        "trusted": true
      },
      "cell_type": "code",
      "source": "# Logistic Regression Classifier\nfrom sklearn.linear_model import LogisticRegression\nclassifier = LogisticRegression()\n\n# Create pipeline using Bag of Words\npipe = Pipeline([(\"cleaner\", predictors()),\n                 ('vectorizer', bow_vector),\n                 ('classifier', classifier)])\n\n# model generation\npipe.fit(X_train,y_train)",
      "execution_count": 39,
      "outputs": [
        {
          "output_type": "execute_result",
          "execution_count": 39,
          "data": {
            "text/plain": "Pipeline(memory=None,\n     steps=[('cleaner', <__main__.predictors object at 0x7f5a632f99b0>), ('vectorizer', CountVectorizer(analyzer='word', binary=False, decode_error='strict',\n        dtype=<class 'numpy.int64'>, encoding='utf-8', input='content',\n        lowercase=True, max_df=1.0, max_features=None, min_df=1,\n        ng...penalty='l2', random_state=None, solver='warn',\n          tol=0.0001, verbose=0, warm_start=False))])"
          },
          "metadata": {}
        }
      ]
    },
    {
      "metadata": {},
      "cell_type": "markdown",
      "source": "#### Evaluating the Model"
    },
    {
      "metadata": {
        "trusted": true
      },
      "cell_type": "code",
      "source": "from sklearn import metrics\n# Predicting with a test dataset\npredicted = pipe.predict(X_test)\n\n\n# Model Accuracy\n\n# Accuracy refers to the percentage of the total predictions our model makes that are completely correct.\nprint(\"Logistic Regression Accuracy:\",metrics.accuracy_score(y_test, predicted))\n\n# Precision describes the ratio of true positives to true positives plus false positives in our predictions.\nprint(\"Logistic Regression Precision:\",metrics.precision_score(y_test, predicted))\n\n# Recall describes the ratio of true positives to true positives plus false negatives in our predictions.\nprint(\"Logistic Regression Recall:\",metrics.recall_score(y_test, predicted))",
      "execution_count": 40,
      "outputs": [
        {
          "output_type": "stream",
          "text": "Logistic Regression Accuracy: 0.961730449251248\n",
          "name": "stdout"
        },
        {
          "output_type": "error",
          "ename": "ValueError",
          "evalue": "Target is multiclass but average='binary'. Please choose another average setting.",
          "traceback": [
            "\u001b[0;31m---------------------------------------------------------------------------\u001b[0m",
            "\u001b[0;31mValueError\u001b[0m                                Traceback (most recent call last)",
            "\u001b[0;32m<ipython-input-40-f0b87bc9fc23>\u001b[0m in \u001b[0;36m<module>\u001b[0;34m\u001b[0m\n\u001b[1;32m     10\u001b[0m \u001b[0;34m\u001b[0m\u001b[0m\n\u001b[1;32m     11\u001b[0m \u001b[0;31m# Precision describes the ratio of true positives to true positives plus false positives in our predictions.\u001b[0m\u001b[0;34m\u001b[0m\u001b[0;34m\u001b[0m\u001b[0m\n\u001b[0;32m---> 12\u001b[0;31m \u001b[0mprint\u001b[0m\u001b[0;34m(\u001b[0m\u001b[0;34m\"Logistic Regression Precision:\"\u001b[0m\u001b[0;34m,\u001b[0m\u001b[0mmetrics\u001b[0m\u001b[0;34m.\u001b[0m\u001b[0mprecision_score\u001b[0m\u001b[0;34m(\u001b[0m\u001b[0my_test\u001b[0m\u001b[0;34m,\u001b[0m \u001b[0mpredicted\u001b[0m\u001b[0;34m)\u001b[0m\u001b[0;34m)\u001b[0m\u001b[0;34m\u001b[0m\u001b[0m\n\u001b[0m\u001b[1;32m     13\u001b[0m \u001b[0;34m\u001b[0m\u001b[0m\n\u001b[1;32m     14\u001b[0m \u001b[0;31m# Recall describes the ratio of true positives to true positives plus false negatives in our predictions.\u001b[0m\u001b[0;34m\u001b[0m\u001b[0;34m\u001b[0m\u001b[0m\n",
            "\u001b[0;32m~/anaconda3_501/lib/python3.6/site-packages/sklearn/metrics/classification.py\u001b[0m in \u001b[0;36mprecision_score\u001b[0;34m(y_true, y_pred, labels, pos_label, average, sample_weight)\u001b[0m\n\u001b[1;32m   1267\u001b[0m                                                  \u001b[0maverage\u001b[0m\u001b[0;34m=\u001b[0m\u001b[0maverage\u001b[0m\u001b[0;34m,\u001b[0m\u001b[0;34m\u001b[0m\u001b[0m\n\u001b[1;32m   1268\u001b[0m                                                  \u001b[0mwarn_for\u001b[0m\u001b[0;34m=\u001b[0m\u001b[0;34m(\u001b[0m\u001b[0;34m'precision'\u001b[0m\u001b[0;34m,\u001b[0m\u001b[0;34m)\u001b[0m\u001b[0;34m,\u001b[0m\u001b[0;34m\u001b[0m\u001b[0m\n\u001b[0;32m-> 1269\u001b[0;31m                                                  sample_weight=sample_weight)\n\u001b[0m\u001b[1;32m   1270\u001b[0m     \u001b[0;32mreturn\u001b[0m \u001b[0mp\u001b[0m\u001b[0;34m\u001b[0m\u001b[0m\n\u001b[1;32m   1271\u001b[0m \u001b[0;34m\u001b[0m\u001b[0m\n",
            "\u001b[0;32m~/anaconda3_501/lib/python3.6/site-packages/sklearn/metrics/classification.py\u001b[0m in \u001b[0;36mprecision_recall_fscore_support\u001b[0;34m(y_true, y_pred, beta, labels, pos_label, average, warn_for, sample_weight)\u001b[0m\n\u001b[1;32m   1045\u001b[0m         \u001b[0;32melse\u001b[0m\u001b[0;34m:\u001b[0m\u001b[0;34m\u001b[0m\u001b[0m\n\u001b[1;32m   1046\u001b[0m             raise ValueError(\"Target is %s but average='binary'. Please \"\n\u001b[0;32m-> 1047\u001b[0;31m                              \"choose another average setting.\" % y_type)\n\u001b[0m\u001b[1;32m   1048\u001b[0m     \u001b[0;32melif\u001b[0m \u001b[0mpos_label\u001b[0m \u001b[0;32mnot\u001b[0m \u001b[0;32min\u001b[0m \u001b[0;34m(\u001b[0m\u001b[0;32mNone\u001b[0m\u001b[0;34m,\u001b[0m \u001b[0;36m1\u001b[0m\u001b[0;34m)\u001b[0m\u001b[0;34m:\u001b[0m\u001b[0;34m\u001b[0m\u001b[0m\n\u001b[1;32m   1049\u001b[0m         warnings.warn(\"Note that pos_label (set to %r) is ignored when \"\n",
            "\u001b[0;31mValueError\u001b[0m: Target is multiclass but average='binary'. Please choose another average setting."
          ]
        }
      ]
    },
    {
      "metadata": {
        "trusted": true
      },
      "cell_type": "code",
      "source": "",
      "execution_count": null,
      "outputs": []
    }
  ],
  "metadata": {
    "kernelspec": {
      "name": "python36",
      "display_name": "Python 3.6",
      "language": "python"
    },
    "language_info": {
      "mimetype": "text/x-python",
      "nbconvert_exporter": "python",
      "name": "python",
      "pygments_lexer": "ipython3",
      "version": "3.6.6",
      "file_extension": ".py",
      "codemirror_mode": {
        "version": 3,
        "name": "ipython"
      }
    }
  },
  "nbformat": 4,
  "nbformat_minor": 1
}