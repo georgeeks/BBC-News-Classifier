{
  "cells": [
    {
      "metadata": {
        "trusted": true
      },
      "cell_type": "code",
      "source": "import os\nimport pandas as pd\nimport numpy as np\nimport glob\nimport matplotlib.pyplot as plt\nimport seaborn as sns\n%matplotlib inline",
      "execution_count": 19,
      "outputs": []
    },
    {
      "metadata": {
        "trusted": true
      },
      "cell_type": "code",
      "source": "# Loading file from path\ndef loading_file():\n    file_dir = '/home/nbuser/library/1. Classifier/3. Exploratory Data Analysis'        \n    file_list = glob.glob(file_dir + '/*.csv')\n    csv_file = file_list[0]\n    return csv_file\n\n# Import file imto Pandas DataFrame\ndef importing_file(csv_file):\n    df = pd.read_csv(csv_file, sep=\",\")\n    return df\n\n# Saving path\ndef saving_file(file, file_name, save_dir):\n    file.to_csv(os.path.join(save_dir,file_name))\n",
      "execution_count": 20,
      "outputs": []
    },
    {
      "metadata": {},
      "cell_type": "markdown",
      "source": "### Importing  file"
    },
    {
      "metadata": {
        "trusted": true,
        "scrolled": true
      },
      "cell_type": "code",
      "source": "# Importing file + Loading  file\nnews_df = importing_file(loading_file())\n\n# Top 5 records\nnews_df.head()",
      "execution_count": 21,
      "outputs": [
        {
          "output_type": "execute_result",
          "execution_count": 21,
          "data": {
            "text/html": "<div>\n<style scoped>\n    .dataframe tbody tr th:only-of-type {\n        vertical-align: middle;\n    }\n\n    .dataframe tbody tr th {\n        vertical-align: top;\n    }\n\n    .dataframe thead th {\n        text-align: right;\n    }\n</style>\n<table border=\"1\" class=\"dataframe\">\n  <thead>\n    <tr style=\"text-align: right;\">\n      <th></th>\n      <th>file_name</th>\n      <th>title</th>\n      <th>news_text</th>\n      <th>category</th>\n    </tr>\n  </thead>\n  <tbody>\n    <tr>\n      <th>0</th>\n      <td>348.txt</td>\n      <td>Berlin celebrates European cinema</td>\n      <td>Organisers say this year's Berlin Film Festiva...</td>\n      <td>entertainment</td>\n    </tr>\n    <tr>\n      <th>1</th>\n      <td>139.txt</td>\n      <td>U2 to play at Grammy awards show</td>\n      <td>Irish rock band U2 are to play live at the Gra...</td>\n      <td>entertainment</td>\n    </tr>\n    <tr>\n      <th>2</th>\n      <td>125.txt</td>\n      <td>Snow Patrol feted at Irish awards</td>\n      <td>Snow Patrol were the big winners in Ireland's ...</td>\n      <td>entertainment</td>\n    </tr>\n    <tr>\n      <th>3</th>\n      <td>267.txt</td>\n      <td>T in the Park sells out in days</td>\n      <td>Tickets for Scotland's biggest music festival ...</td>\n      <td>entertainment</td>\n    </tr>\n    <tr>\n      <th>4</th>\n      <td>311.txt</td>\n      <td>Corbett attacks 'dumbed-down TV'</td>\n      <td>Ronnie Corbett has joined fellow comedy stars ...</td>\n      <td>entertainment</td>\n    </tr>\n  </tbody>\n</table>\n</div>",
            "text/plain": "  file_name                              title  \\\n0   348.txt  Berlin celebrates European cinema   \n1   139.txt   U2 to play at Grammy awards show   \n2   125.txt  Snow Patrol feted at Irish awards   \n3   267.txt    T in the Park sells out in days   \n4   311.txt   Corbett attacks 'dumbed-down TV'   \n\n                                           news_text       category  \n0  Organisers say this year's Berlin Film Festiva...  entertainment  \n1  Irish rock band U2 are to play live at the Gra...  entertainment  \n2  Snow Patrol were the big winners in Ireland's ...  entertainment  \n3  Tickets for Scotland's biggest music festival ...  entertainment  \n4  Ronnie Corbett has joined fellow comedy stars ...  entertainment  "
          },
          "metadata": {}
        }
      ]
    },
    {
      "metadata": {
        "trusted": true
      },
      "cell_type": "code",
      "source": "news_df['news_text'].apply(lambda x: len(x.split(' '))).sum()",
      "execution_count": 24,
      "outputs": [
        {
          "output_type": "execute_result",
          "execution_count": 24,
          "data": {
            "text/plain": "766239"
          },
          "metadata": {}
        }
      ]
    },
    {
      "metadata": {},
      "cell_type": "markdown",
      "source": "### Clean the news_text column"
    },
    {
      "metadata": {
        "trusted": true
      },
      "cell_type": "code",
      "source": "import re\ndef clean_text(x):\n    pattern = r'[^a-zA-z0-9\\s]'\n    text = re.sub(pattern, '', x)\n    return text",
      "execution_count": 25,
      "outputs": []
    },
    {
      "metadata": {
        "trusted": true
      },
      "cell_type": "code",
      "source": "def clean_all_text(df):\n    for index, item in df.iterrows():\n        cleantext = clean_text(item['news_text'])\n        item['news_text'] = cleantext\n        \n    return df\n",
      "execution_count": 26,
      "outputs": []
    },
    {
      "metadata": {
        "trusted": true
      },
      "cell_type": "code",
      "source": "clean_df = clean_all_text(news_df)\n\nprint(news_df.iloc[22, 2])",
      "execution_count": 27,
      "outputs": [
        {
          "output_type": "stream",
          "text": "The remaining members of rock band Queen are to go on tour next year with former Free and Bad Company singer Paul Rodgers taking Freddie Mercurys placeGuitarist Brian May has said he expects to be on the road with Rodgers and drummer Roger Taylor from April May said Suddenly the Queen Phoenix is rising again from the ashes and will take precedence over our lives Queen have played with many different singers since Mercurys death in 1991 but have reportedly not toured May performed with Rodgers at a concert to celebrate the 50th anniversary of the Fender Stratocaster guitar in London in SeptemberWe were both so amazed at the chemistry that was going on in [Free hit] All Right Now that suddenly it seems blindingly obvious that there was something happening here May wrote on his website They teamed up again for a concert to mark their induction into the UK Music Hall of Fame and were joined by Taylor The show went so incredibly well from our point of view and we got so many rave reactions from out there we decided almost then and there that we would look at a tour together May wroteQueen went to number one in 2000 with a version of We Will Rock You sung by boy band 5ive and they have also played with Robbie Williams Will Young and Bob Geldof Queen bassist John Deacon has currently retired from the stage Rodgers was singer with early 1970s rockers Free who had a global hit with All Right Now before forming Bad Company a successful supergroup with members of King Crimson and Mott the Hoople He has also been in The Firm with Led Zeppelins Jimmy Page and The Law with The Small Faces and The Who drummer Kenny Jones\n",
          "name": "stdout"
        }
      ]
    },
    {
      "metadata": {
        "trusted": true
      },
      "cell_type": "code",
      "source": "import nltk\nnltk.download('punkt')",
      "execution_count": 18,
      "outputs": [
        {
          "output_type": "stream",
          "text": "[nltk_data] Downloading package punkt to /home/nbuser/nltk_data...\n[nltk_data]   Unzipping tokenizers/punkt.zip.\n",
          "name": "stdout"
        },
        {
          "output_type": "execute_result",
          "execution_count": 18,
          "data": {
            "text/plain": "True"
          },
          "metadata": {}
        }
      ]
    },
    {
      "metadata": {
        "trusted": true
      },
      "cell_type": "code",
      "source": "# We remove stop-words and use NLTK tokenizer \ndef tokenize_text(text):\n    tokens = []\n    for sent in nltk.sent_tokenize(text):\n        for word in nltk.word_tokenize(sent):\n            if len(word) < 2:\n                continue\n            tokens.append(word.lower())\n    return tokens",
      "execution_count": 28,
      "outputs": []
    },
    {
      "metadata": {
        "trusted": true
      },
      "cell_type": "code",
      "source": "# Import necessary modules\nfrom nltk.tokenize import sent_tokenize, word_tokenize\n  \n\nfor index, raw in news_df.iterrows():\n    text = raw[2]\n    \n    # Split scene_one into sentences: sentences\n    sentences = sent_tokenize(text)\n\n    # Use word_tokenize to tokenize the fourth sentence: tokenized_sent\n    tokenized_sent = word_tokenize(sentences[3])\n\n    # Make a set of unique tokens in the entire scene: unique_tokens\n    unique_tokens = set(word_tokenize(text))\n\nprint(unique_tokens)\n",
      "execution_count": 32,
      "outputs": [
        {
          "output_type": "error",
          "ename": "IndexError",
          "evalue": "list index out of range",
          "traceback": [
            "\u001b[0;31m---------------------------------------------------------------------------\u001b[0m",
            "\u001b[0;31mIndexError\u001b[0m                                Traceback (most recent call last)",
            "\u001b[0;32m<ipython-input-32-b43c982bacad>\u001b[0m in \u001b[0;36m<module>\u001b[0;34m\u001b[0m\n\u001b[1;32m      9\u001b[0m \u001b[0;34m\u001b[0m\u001b[0m\n\u001b[1;32m     10\u001b[0m     \u001b[0;31m# Use word_tokenize to tokenize the fourth sentence: tokenized_sent\u001b[0m\u001b[0;34m\u001b[0m\u001b[0;34m\u001b[0m\u001b[0m\n\u001b[0;32m---> 11\u001b[0;31m     \u001b[0mtokenized_sent\u001b[0m \u001b[0;34m=\u001b[0m \u001b[0mword_tokenize\u001b[0m\u001b[0;34m(\u001b[0m\u001b[0msentences\u001b[0m\u001b[0;34m[\u001b[0m\u001b[0;36m3\u001b[0m\u001b[0;34m]\u001b[0m\u001b[0;34m)\u001b[0m\u001b[0;34m\u001b[0m\u001b[0m\n\u001b[0m\u001b[1;32m     12\u001b[0m \u001b[0;34m\u001b[0m\u001b[0m\n\u001b[1;32m     13\u001b[0m     \u001b[0;31m# Make a set of unique tokens in the entire scene: unique_tokens\u001b[0m\u001b[0;34m\u001b[0m\u001b[0;34m\u001b[0m\u001b[0m\n",
            "\u001b[0;31mIndexError\u001b[0m: list index out of range"
          ]
        }
      ]
    },
    {
      "metadata": {
        "trusted": true
      },
      "cell_type": "code",
      "source": "def print_plot(index):\n    example = news_df[news_df.index == index][['news_text', 'category']].values[0]\n    if len(example) > 0:\n        print(example[0])\n        print('Genre:', example[1])",
      "execution_count": 32,
      "outputs": []
    },
    {
      "metadata": {
        "trusted": true
      },
      "cell_type": "code",
      "source": "print_plot(13)",
      "execution_count": 33,
      "outputs": [
        {
          "output_type": "stream",
          "text": "US rap star 50 Cent has said he has thrown protege The Game out of his G-Unit gang in a feud that has apparently involved two shootings.In a radio interview on Monday, 50 Cent said the newcomer was disloyal in conflicts with other rappers. A man was shot in the thigh outside New York's Hot 97 studios while 50 Cent was on air. More shots were fired outside his management offices two hours later. 50 Cent appeared on The Game's debut album, which was number one in the US. 50 Cent, whose second album is about to be released after his debut made him one of hip-hop's biggest stars, has been involved in recent rivalries with fellow artists including Fat Joe, Nas and Jadakiss.He has claimed credit for the success of The Game, who has become the hottest new star on the rap scene. Both were drug dealers and were shot before turning to music.In an interview with Hot 97 on Saturday, The Game described some of 50 Cent's rivals as \"my friends\" and said he would not turn on them. \"Nas is one of my friends, and Jada's really a homie,\" he said. \"50's beef is 50's beef and I really don't know where all this stems from.\" When 50 Cent appeared on the same station two days later, he said The Game was no longer a member of G-Unit. \"Every record he's selling is based on me being on his record with him,\" he said. When the shooting took place outside the studio, the interview was ended and the rapper was escorted out of the building by security personnel.An unidentified 24-year-old Los Angeles man is stable with a gunshot wound to the upper thigh. Police say The Game's associates may have heard the interview and gone to the studio, where they confronted 50 Cent's entourage. Officers are also investigating a later shooting in which eight bullets were fired into the door of 50 Cent's management company, Violator. No arrests have been made in relation to either incident. 50 Cent's second album, The Massacre, is released on Thursday, five weeks after The Game's debut, Documentary, went to number one.Elliott Wilson, editor-in-chief of hip-hop magazine XXL, said the feud would boost publicity for 50 Cent's release. \"It helps him obviously in terms of exposure. You can't ask for better promotion,\" he said. But he added: \"I think he's making more and more enemies. \"You definitely feel like is he doing too much of a Tupac spiral, like me against the world. You bring more people wanting to see you fail.\" Tupac Shakur was shot dead in 1996.\nGenre: entertainment\n",
          "name": "stdout"
        }
      ]
    },
    {
      "metadata": {
        "trusted": true
      },
      "cell_type": "code",
      "source": "print_plot(209)",
      "execution_count": null,
      "outputs": []
    },
    {
      "metadata": {
        "trusted": true
      },
      "cell_type": "code",
      "source": "",
      "execution_count": null,
      "outputs": []
    }
  ],
  "metadata": {
    "kernelspec": {
      "name": "python36",
      "display_name": "Python 3.6",
      "language": "python"
    },
    "language_info": {
      "mimetype": "text/x-python",
      "nbconvert_exporter": "python",
      "name": "python",
      "pygments_lexer": "ipython3",
      "version": "3.6.6",
      "file_extension": ".py",
      "codemirror_mode": {
        "version": 3,
        "name": "ipython"
      }
    }
  },
  "nbformat": 4,
  "nbformat_minor": 1
}