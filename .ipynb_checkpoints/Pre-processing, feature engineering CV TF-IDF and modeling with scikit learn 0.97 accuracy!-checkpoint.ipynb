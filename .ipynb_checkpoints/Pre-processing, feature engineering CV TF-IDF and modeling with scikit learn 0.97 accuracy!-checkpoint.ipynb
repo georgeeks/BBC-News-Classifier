{
  "cells": [
    {
      "metadata": {},
      "cell_type": "markdown",
      "source": "## Preprocessing with scikit learn"
    },
    {
      "metadata": {
        "trusted": true,
        "scrolled": true
      },
      "cell_type": "code",
      "source": "import os\nimport pandas as pd\nimport numpy as np\nimport glob\nimport matplotlib.pyplot as plt\nimport seaborn as sns\n",
      "execution_count": 1,
      "outputs": []
    },
    {
      "metadata": {
        "trusted": true
      },
      "cell_type": "code",
      "source": "# Loading file from path\ndef loading_file():\n    file_dir = '/home/nbuser/library/1. Classifier/3. Exploratory Data Analysis'        \n    file_list = glob.glob(file_dir + '/*.csv')\n    csv_file = file_list[1]\n    return csv_file\n\n# Import file imto Pandas DataFrame\ndef importing_file(csv_file):\n    df = pd.read_csv(csv_file, sep=\",\")\n    return df\n\n# Saving path\ndef saving_file(file, file_name, save_dir):\n    file.to_csv(os.path.join(save_dir,file_name))\n",
      "execution_count": 2,
      "outputs": []
    },
    {
      "metadata": {
        "trusted": true,
        "scrolled": true
      },
      "cell_type": "code",
      "source": "# Importing file + Loading  file\nnews_df = importing_file(loading_file())\n\n# Top 5 records\nnews_df.head()",
      "execution_count": 3,
      "outputs": [
        {
          "output_type": "execute_result",
          "execution_count": 3,
          "data": {
            "text/plain": "  file_name                              title  \\\n0   164.txt   Parker's saxophone heads auction   \n1   012.txt   Edwards tips Idowu for Euro gold   \n2   257.txt  Blair and Brown criticised by MPs   \n3   238.txt  Firms pump billions into pensions   \n4   400.txt   Monsanto fined $1.5m for bribery   \n\n                                           news_text       category  \n0  A saxophone belonging to legendary jazz musici...  entertainment  \n1  World outdoor triple jump record holder and BB...         sports  \n2  Labour MPs have angrily criticised Tony Blair ...       politics  \n3  Employers have spent billions of pounds proppi...       business  \n4  The US agrochemical giant Monsanto has agreed ...       business  ",
            "text/html": "<div>\n<table border=\"1\" class=\"dataframe\">\n  <thead>\n    <tr style=\"text-align: right;\">\n      <th></th>\n      <th>file_name</th>\n      <th>title</th>\n      <th>news_text</th>\n      <th>category</th>\n    </tr>\n  </thead>\n  <tbody>\n    <tr>\n      <th>0</th>\n      <td>164.txt</td>\n      <td>Parker's saxophone heads auction</td>\n      <td>A saxophone belonging to legendary jazz musici...</td>\n      <td>entertainment</td>\n    </tr>\n    <tr>\n      <th>1</th>\n      <td>012.txt</td>\n      <td>Edwards tips Idowu for Euro gold</td>\n      <td>World outdoor triple jump record holder and BB...</td>\n      <td>sports</td>\n    </tr>\n    <tr>\n      <th>2</th>\n      <td>257.txt</td>\n      <td>Blair and Brown criticised by MPs</td>\n      <td>Labour MPs have angrily criticised Tony Blair ...</td>\n      <td>politics</td>\n    </tr>\n    <tr>\n      <th>3</th>\n      <td>238.txt</td>\n      <td>Firms pump billions into pensions</td>\n      <td>Employers have spent billions of pounds proppi...</td>\n      <td>business</td>\n    </tr>\n    <tr>\n      <th>4</th>\n      <td>400.txt</td>\n      <td>Monsanto fined $1.5m for bribery</td>\n      <td>The US agrochemical giant Monsanto has agreed ...</td>\n      <td>business</td>\n    </tr>\n  </tbody>\n</table>\n</div>"
          },
          "metadata": {}
        }
      ]
    },
    {
      "metadata": {
        "trusted": true
      },
      "cell_type": "code",
      "source": "news_df.shape",
      "execution_count": 4,
      "outputs": [
        {
          "output_type": "execute_result",
          "execution_count": 4,
          "data": {
            "text/plain": "(2003, 4)"
          },
          "metadata": {}
        }
      ]
    },
    {
      "metadata": {
        "trusted": true
      },
      "cell_type": "code",
      "source": "news_df.category.unique()",
      "execution_count": 5,
      "outputs": [
        {
          "output_type": "execute_result",
          "execution_count": 5,
          "data": {
            "text/plain": "array(['entertainment', 'sports', 'politics', 'business', 'tech'],\n      dtype=object)"
          },
          "metadata": {}
        }
      ]
    },
    {
      "metadata": {
        "trusted": true
      },
      "cell_type": "code",
      "source": "news_df.sample(5)",
      "execution_count": 59,
      "outputs": [
        {
          "output_type": "execute_result",
          "execution_count": 59,
          "data": {
            "text/plain": "     file_name                              title  \\\n1602   258.txt  S Korea spending boost to economy   \n833    256.txt   Singapore growth at 8.1% in 2004   \n1776   413.txt   EC calls truce in deficit battle   \n1528   176.txt   Councils 'must find Gypsy sites'   \n1703   402.txt  Brown's poll campaign move denied   \n\n                                              news_text  category  \n1602  South Korea will boost state spending next yea...  business  \n833   Singapores economy grew by 81 in 2004 its best...  business  \n1776  The European Commission EC has called a truce ...  business  \n1528  Ministers are telling councils to find more si...  politics  \n1703  The government has denied reports that Gordon ...  politics  ",
            "text/html": "<div>\n<table border=\"1\" class=\"dataframe\">\n  <thead>\n    <tr style=\"text-align: right;\">\n      <th></th>\n      <th>file_name</th>\n      <th>title</th>\n      <th>news_text</th>\n      <th>category</th>\n    </tr>\n  </thead>\n  <tbody>\n    <tr>\n      <th>1602</th>\n      <td>258.txt</td>\n      <td>S Korea spending boost to economy</td>\n      <td>South Korea will boost state spending next yea...</td>\n      <td>business</td>\n    </tr>\n    <tr>\n      <th>833</th>\n      <td>256.txt</td>\n      <td>Singapore growth at 8.1% in 2004</td>\n      <td>Singapores economy grew by 81 in 2004 its best...</td>\n      <td>business</td>\n    </tr>\n    <tr>\n      <th>1776</th>\n      <td>413.txt</td>\n      <td>EC calls truce in deficit battle</td>\n      <td>The European Commission EC has called a truce ...</td>\n      <td>business</td>\n    </tr>\n    <tr>\n      <th>1528</th>\n      <td>176.txt</td>\n      <td>Councils 'must find Gypsy sites'</td>\n      <td>Ministers are telling councils to find more si...</td>\n      <td>politics</td>\n    </tr>\n    <tr>\n      <th>1703</th>\n      <td>402.txt</td>\n      <td>Brown's poll campaign move denied</td>\n      <td>The government has denied reports that Gordon ...</td>\n      <td>politics</td>\n    </tr>\n  </tbody>\n</table>\n</div>"
          },
          "metadata": {}
        }
      ]
    },
    {
      "metadata": {
        "trusted": true
      },
      "cell_type": "code",
      "source": "news_df.category.value_counts()",
      "execution_count": 24,
      "outputs": [
        {
          "output_type": "execute_result",
          "execution_count": 24,
          "data": {
            "text/plain": "business         466\nsports           457\npolitics         368\ntech             364\nentertainment    348\nName: category, dtype: int64"
          },
          "metadata": {}
        }
      ]
    },
    {
      "metadata": {},
      "cell_type": "markdown",
      "source": "### Clean the news_text column"
    },
    {
      "metadata": {
        "trusted": true
      },
      "cell_type": "code",
      "source": "import re\ndef clean_text(x):\n    pattern = r'[^a-zA-z0-9\\s]'\n    text = re.sub(pattern, '', str(x))\n    return text\n\ndef clean_all_text(df):\n    for index, item in df.iterrows():\n        cleantext = clean_text(item['news_text'])\n        item['news_text'] = cleantext\n    return df",
      "execution_count": 94,
      "outputs": []
    },
    {
      "metadata": {
        "trusted": true
      },
      "cell_type": "code",
      "source": "news_df = clean_all_text(news_df)",
      "execution_count": 95,
      "outputs": []
    },
    {
      "metadata": {},
      "cell_type": "markdown",
      "source": "### Split the dataset"
    },
    {
      "metadata": {
        "trusted": true
      },
      "cell_type": "code",
      "source": "# Import train_test_split\nfrom sklearn.model_selection import train_test_split\n\n# Create a series to store the labels: y\ny = news_df[\"category\"]\n\n# Create training and test sets\nX_train, X_test, y_train, y_test = train_test_split(news_df[\"news_text\"], y, test_size=0.3, random_state=53)\n",
      "execution_count": 9,
      "outputs": []
    },
    {
      "metadata": {},
      "cell_type": "markdown",
      "source": "### CountVectorizer for text classification"
    },
    {
      "metadata": {
        "trusted": true
      },
      "cell_type": "code",
      "source": "# Import the necessary modules\nfrom sklearn.feature_extraction.text import CountVectorizer\n\n# Initialize a CountVectorizer object: count_vectorizer\ncount_vectorizer = CountVectorizer(stop_words=\"english\")\n\n# Transform the training data using only the 'text' column values: count_train \ncount_train = count_vectorizer.fit_transform(X_train)\n\n# Transform the test data using only the 'text' column values: count_test \ncount_test = count_vectorizer.transform(X_test)\n\n            \n# Print the first 10 features of the count_vectorizer\nprint(count_vectorizer.get_feature_names()[:100])\n",
      "execution_count": 10,
      "outputs": [
        {
          "output_type": "stream",
          "text": "['00', '000', '00051', '001', '003', '004secs', '007', '01', '0100', '0130', '019secs', '02', '0200', '022', '0227', '024', '025', '027', '028', '03', '030', '0300', '0305', '04', '040', '041', '048', '05', '053', '053bn', '05overall', '06', '0605', '0605festival', '0619', '07', '0700', '0710', '08', '0800', '083mph', '085', '0870', '089', '09', '090', '0900', '098', '099', '10', '100', '1000', '10000', '100000', '10000m', '10000vote', '1000bn', '1000m', '1000s', '1000th', '1001st', '1008', '100bn', '100m', '100mthey', '100s', '101', '101115', '10137', '1015', '1019', '101yearold', '102', '1020', '10216bn', '1022', '10227', '1025', '1026bn', '10276', '10280', '1028bn', '102inch', '102m', '103', '1030', '10360', '1038548recent', '1038am', '103bn', '103m', '104', '1040', '104000', '10416', '1044', '10499', '104bn', '104m', '105']\n",
          "name": "stdout"
        }
      ]
    },
    {
      "metadata": {},
      "cell_type": "markdown",
      "source": "#### TfidfVectorizer for text classification"
    },
    {
      "metadata": {
        "trusted": true
      },
      "cell_type": "code",
      "source": "# Import TfidfVectorizer\nfrom sklearn.feature_extraction.text import TfidfVectorizer\n\n# Initialize a TfidfVectorizer object: tfidf_vectorizer\ntfidf_vectorizer = TfidfVectorizer(stop_words=\"english\",max_df=0.7)\n\n# Transform the training data: tfidf_train \ntfidf_train = tfidf_vectorizer.fit_transform(X_train)\n\n# Transform the test data: tfidf_test \ntfidf_test = tfidf_vectorizer.transform(X_test)\n    \nprint(tfidf_vectorizer.get_feature_names()[:100])",
      "execution_count": 11,
      "outputs": [
        {
          "output_type": "stream",
          "text": "['00', '000', '00051', '001', '003', '004secs', '007', '01', '0100', '0130', '019secs', '02', '0200', '022', '0227', '024', '025', '027', '028', '03', '030', '0300', '0305', '04', '040', '041', '048', '05', '053', '053bn', '05overall', '06', '0605', '0605festival', '0619', '07', '0700', '0710', '08', '0800', '083mph', '085', '0870', '089', '09', '090', '0900', '098', '099', '10', '100', '1000', '10000', '100000', '10000m', '10000vote', '1000bn', '1000m', '1000s', '1000th', '1001st', '1008', '100bn', '100m', '100mthey', '100s', '101', '101115', '10137', '1015', '1019', '101yearold', '102', '1020', '10216bn', '1022', '10227', '1025', '1026bn', '10276', '10280', '1028bn', '102inch', '102m', '103', '1030', '10360', '1038548recent', '1038am', '103bn', '103m', '104', '1040', '104000', '10416', '1044', '10499', '104bn', '104m', '105']\n",
          "name": "stdout"
        }
      ]
    },
    {
      "metadata": {},
      "cell_type": "markdown",
      "source": "#### Show Vectors as Features"
    },
    {
      "metadata": {
        "trusted": true
      },
      "cell_type": "code",
      "source": "# Create the CountVectorizer DataFrame: count_df\ncount_df = pd.DataFrame(count_train.A, columns=count_vectorizer.get_feature_names())\n\n# Create the TfidfVectorizer DataFrame: tfidf_df\ntfidf_df = pd.DataFrame(tfidf_train.A, columns=tfidf_vectorizer.get_feature_names())\n\n# Print the head of count_df\nprint(count_df.head())\nprint()\n# Print the head of tfidf_df\nprint(tfidf_df.head())\n\n# Calculate the difference in columns: difference\ndifference = set(count_df.columns) - set(tfidf_df.columns)\nprint(difference)\n\n# Check whether the DataFrames are equal\nprint(count_df.equals(tfidf_df))\n",
      "execution_count": 12,
      "outputs": [
        {
          "output_type": "stream",
          "text": "   00  000  00051  001  003  004secs  007  01  0100  0130     ...       zones  \\\n0   0    0      0    0    0        0    0   0     0     0     ...           0   \n1   0    0      0    0    0        0    0   0     0     0     ...           0   \n2   0    0      0    0    0        0    0   0     0     0     ...           0   \n3   0    0      0    0    0        0    0   0     0     0     ...           0   \n4   0    0      0    0    0        0    0   0     0     0     ...           0   \n\n   zoom  zoomsmore  zorro  zubair  zuluaga  zurich  zutons  zvonareva  \\\n0     0          0      0       0        0       0       0          0   \n1     0          0      0       0        0       0       0          0   \n2     0          0      0       0        0       0       0          0   \n3     0          0      0       0        0       0       0          0   \n4     0          0      0       0        0       0       0          0   \n\n   zvyagintsev  \n0            0  \n1            0  \n2            0  \n3            0  \n4            0  \n\n[5 rows x 31334 columns]\n\n    00  000  00051  001  003  004secs  007   01  0100  0130     ...       \\\n0  0.0  0.0    0.0  0.0  0.0      0.0  0.0  0.0   0.0   0.0     ...        \n1  0.0  0.0    0.0  0.0  0.0      0.0  0.0  0.0   0.0   0.0     ...        \n2  0.0  0.0    0.0  0.0  0.0      0.0  0.0  0.0   0.0   0.0     ...        \n3  0.0  0.0    0.0  0.0  0.0      0.0  0.0  0.0   0.0   0.0     ...        \n4  0.0  0.0    0.0  0.0  0.0      0.0  0.0  0.0   0.0   0.0     ...        \n\n   zones  zoom  zoomsmore  zorro  zubair  zuluaga  zurich  zutons  zvonareva  \\\n0    0.0   0.0        0.0    0.0     0.0      0.0     0.0     0.0        0.0   \n1    0.0   0.0        0.0    0.0     0.0      0.0     0.0     0.0        0.0   \n2    0.0   0.0        0.0    0.0     0.0      0.0     0.0     0.0        0.0   \n3    0.0   0.0        0.0    0.0     0.0      0.0     0.0     0.0        0.0   \n4    0.0   0.0        0.0    0.0     0.0      0.0     0.0     0.0        0.0   \n\n   zvyagintsev  \n0          0.0  \n1          0.0  \n2          0.0  \n3          0.0  \n4          0.0  \n\n[5 rows x 31333 columns]\n{'said'}\nFalse\n",
          "name": "stdout"
        }
      ]
    },
    {
      "metadata": {},
      "cell_type": "markdown",
      "source": "#### Training and testing models with CountVectorizer"
    },
    {
      "metadata": {
        "trusted": true
      },
      "cell_type": "code",
      "source": "# Import the necessary modules\nfrom sklearn.naive_bayes import MultinomialNB\nfrom sklearn import metrics\n\n# Instantiate a Multinomial Naive Bayes classifier: nb_classifier\nnb_classifier = MultinomialNB()\n\n# Fit the classifier to the training data\nnb_classifier.fit(count_train, y_train)\n\n# Create the predicted tags: pred\npred = nb_classifier.predict(count_test)\n\n# Calculate the accuracy score: score\nscore = metrics.accuracy_score(y_test, pred)\nprint(score)\n\n# Calculate the confusion matrix: cm\ncm = metrics.confusion_matrix(y_test, pred, labels=['entertainment', 'politics', 'business', 'sports', 'tech'])\nprint(cm)\n",
      "execution_count": 13,
      "outputs": [
        {
          "output_type": "stream",
          "text": "0.9717138103161398\n[[102   2   0   0   1]\n [  0 101   0   0   0]\n [  0   8 134   0   4]\n [  0   0   0 143   0]\n [  0   1   0   1 104]]\n",
          "name": "stdout"
        }
      ]
    },
    {
      "metadata": {},
      "cell_type": "markdown",
      "source": "#### Training and testing the model with TfidfVectorizer"
    },
    {
      "metadata": {
        "trusted": true,
        "scrolled": true
      },
      "cell_type": "code",
      "source": "# Create a Multinomial Naive Bayes classifier: nb_classifier\nnb_classifier = MultinomialNB()\n\n# Fit the classifier to the training data\nnb_classifier.fit(tfidf_train, y_train)\n\n# Create the predicted tags: pred\npred = nb_classifier.predict(tfidf_test)\n\n# Calculate the accuracy score: score\nscore = metrics.accuracy_score(y_test, pred)\nprint(score)\n\n# Calculate the confusion matrix: cm\ncm = metrics.confusion_matrix(y_test, pred, labels=['entertainment', 'politics', 'business', 'sports', 'tech'])\nprint(cm)\n",
      "execution_count": 14,
      "outputs": [
        {
          "output_type": "stream",
          "text": "0.9683860232945092\n[[100   3   1   0   1]\n [  0 101   0   0   0]\n [  0   5 139   0   2]\n [  0   0   0 143   0]\n [  0   2   2   3  99]]\n",
          "name": "stdout"
        }
      ]
    },
    {
      "metadata": {},
      "cell_type": "markdown",
      "source": "#### Improving your model\n"
    },
    {
      "metadata": {
        "trusted": true,
        "scrolled": true
      },
      "cell_type": "code",
      "source": "# Create the list of alphas: alphas\nalphas = np.arange(0, 1, .1)\n\n# Define train_and_predict()\ndef train_and_predict(alpha):\n    # Instantiate the classifier: nb_classifier\n    nb_classifier = MultinomialNB(alpha=alpha)\n    # Fit to the training data\n    nb_classifier.fit(tfidf_train, y_train)\n    # Predict the labels: pred\n    pred = nb_classifier.predict(tfidf_test)\n    # Compute accuracy: score\n    score = metrics.accuracy_score(y_test, pred)\n    return score\n\n# Iterate over the alphas and print the corresponding score\nbest_alfa_score = {}\nfor alpha in alphas:\n    best_alfa_score[alpha] = train_and_predict(alpha)\n    print('Alpha: ', alpha)\n    print('Score: ', train_and_predict(alpha))\n    print()\nbest_score = max(best_alfa_score, key=best_alfa_score.get)\n\nprint(\"Best alfa: \", best_score, \"best accuracy: \",best_alfa_score[best_score])",
      "execution_count": 15,
      "outputs": [
        {
          "output_type": "stream",
          "text": "/home/nbuser/anaconda3_420/lib/python3.5/site-packages/sklearn/naive_bayes.py:472: UserWarning: alpha too small will result in numeric errors, setting alpha = 1.0e-10\n  'setting alpha = %.1e' % _ALPHA_MIN)\n",
          "name": "stderr"
        },
        {
          "output_type": "stream",
          "text": "Alpha:  0.0\nScore:  0.9683860232945092\n\nAlpha:  0.1\nScore:  0.9750415973377704\n\nAlpha:  0.2\nScore:  0.9750415973377704\n\nAlpha:  0.30000000000000004\nScore:  0.9750415973377704\n\nAlpha:  0.4\nScore:  0.9717138103161398\n\nAlpha:  0.5\nScore:  0.9733777038269551\n\nAlpha:  0.6000000000000001\nScore:  0.9700499168053245\n\nAlpha:  0.7000000000000001\nScore:  0.9700499168053245\n\nAlpha:  0.8\nScore:  0.9683860232945092\n\nAlpha:  0.9\nScore:  0.9683860232945092\n\nBest alfa:  0.1 best accuracy:  0.9750415973377704\n",
          "name": "stdout"
        }
      ]
    },
    {
      "metadata": {
        "trusted": true,
        "scrolled": true
      },
      "cell_type": "code",
      "source": "# Create the list of alphas: alphas\nalphas = np.arange(0, 1, .1)\n\n# Define train_and_predict()\ndef train_and_predict(alpha):\n    # Instantiate the classifier: nb_classifier\n    nb_classifier = MultinomialNB(alpha=alpha)\n    # Fit to the training data\n    nb_classifier.fit(count_train, y_train)\n    # Predict the labels: pred\n    pred = nb_classifier.predict(count_test)\n    # Compute accuracy: score\n    score = metrics.accuracy_score(y_test, pred)\n    return score\n\n# Iterate over the alphas and print the corresponding score\nbest_alfa_score = {}\nfor alpha in alphas:\n    best_alfa_score[alpha] = train_and_predict(alpha)\n    print('Alpha: ', alpha)\n    print('Score: ', train_and_predict(alpha))\n    print()\nbest_score = max(best_alfa_score, key=best_alfa_score.get)\n\nprint(\"Best alfa: \", best_score, \"best accuracy: \",best_alfa_score[best_score])",
      "execution_count": 16,
      "outputs": [
        {
          "output_type": "stream",
          "text": "/home/nbuser/anaconda3_420/lib/python3.5/site-packages/sklearn/naive_bayes.py:472: UserWarning: alpha too small will result in numeric errors, setting alpha = 1.0e-10\n  'setting alpha = %.1e' % _ALPHA_MIN)\n",
          "name": "stderr"
        },
        {
          "output_type": "stream",
          "text": "Alpha:  0.0\nScore:  0.9717138103161398\n\nAlpha:  0.1\nScore:  0.9816971713810316\n\nAlpha:  0.2\nScore:  0.9800332778702163\n\nAlpha:  0.30000000000000004\nScore:  0.978369384359401\n\nAlpha:  0.4\nScore:  0.978369384359401\n\nAlpha:  0.5\nScore:  0.978369384359401\n\nAlpha:  0.6000000000000001\nScore:  0.9733777038269551\n\nAlpha:  0.7000000000000001\nScore:  0.9717138103161398\n\nAlpha:  0.8\nScore:  0.9717138103161398\n\nAlpha:  0.9\nScore:  0.9717138103161398\n\nBest alfa:  0.1 best accuracy:  0.9816971713810316\n",
          "name": "stdout"
        }
      ]
    },
    {
      "metadata": {},
      "cell_type": "markdown",
      "source": "#### Inspecting the model\n"
    },
    {
      "metadata": {
        "trusted": true
      },
      "cell_type": "code",
      "source": "# Get the class labels: class_labels\nclass_labels = nb_classifier.classes_\n\n# Extract the features: feature_names\nfeature_names = tfidf_vectorizer.get_feature_names()\n\n# Zip the feature names together with the coefficient array and sort by weights: feat_with_weights\nfeat_with_weights = sorted(zip(nb_classifier.coef_[0], feature_names))\n\n# Print the first class label and the top 20 feat_with_weights entries\nprint(class_labels[0], feat_with_weights[:20])\n\n# Print the second class label and the bottom 20 feat_with_weights entries\nprint(class_labels[1], feat_with_weights[-20:])\n",
      "execution_count": 18,
      "outputs": [
        {
          "output_type": "stream",
          "text": "business [(-10.45661585751269, '00'), (-10.45661585751269, '000'), (-10.45661585751269, '0001'), (-10.45661585751269, '00051'), (-10.45661585751269, '002'), (-10.45661585751269, '004secs'), (-10.45661585751269, '007'), (-10.45661585751269, '0100'), (-10.45661585751269, '0130'), (-10.45661585751269, '019secs'), (-10.45661585751269, '0227'), (-10.45661585751269, '028'), (-10.45661585751269, '0305'), (-10.45661585751269, '040'), (-10.45661585751269, '0469'), (-10.45661585751269, '053bn'), (-10.45661585751269, '0800'), (-10.45661585751269, '0870'), (-10.45661585751269, '090'), (-10.45661585751269, '1000000000')]\nentertainment [(-8.613260493776794, 'stock'), (-8.60427307626571, 'new'), (-8.577506079896372, 'firms'), (-8.57157225931154, 'rise'), (-8.566396008929635, 'government'), (-8.546549679980423, 'yukos'), (-8.370228484903935, '2004'), (-8.365628689869363, 'prices'), (-8.352785134212938, 'firm'), (-8.311158085240452, 'economic'), (-8.297926644109499, 'shares'), (-8.282300993198296, 'mr'), (-8.243739393210502, 'oil'), (-8.202936389020412, 'company'), (-8.198543163217678, 'economy'), (-8.166558324816604, 'sales'), (-8.141683196044053, 'year'), (-8.12592853179391, 'market'), (-8.122109102459538, 'bank'), (-8.105312532026895, 'growth')]\n",
          "name": "stdout"
        }
      ]
    },
    {
      "metadata": {
        "trusted": true
      },
      "cell_type": "markdown",
      "source": "### Test on new dataset"
    },
    {
      "metadata": {
        "trusted": true,
        "scrolled": true
      },
      "cell_type": "code",
      "source": "# Import new data\nos.chdir('/home/nbuser/library/1. Classifier/3. Exploratory Data Analysis')\nnew_data = pd.read_csv('news_df_validation.csv')\nnew_data.head()",
      "execution_count": 57,
      "outputs": [
        {
          "output_type": "execute_result",
          "execution_count": 57,
          "data": {
            "text/plain": "  file_name                              title  \\\n0   214.txt        Mansfield 0-1 Leyton Orient   \n1   303.txt  Film production 'falls' 40% in UK   \n2   083.txt   Hague 'given up' his PM ambition   \n3   190.txt             SA return to Mauritius   \n4   103.txt    Minimum rate for foster parents   \n\n                                           news_text       category  \n0  An second-half goal from Andy Scott condemned ...         sports  \n1  The number of British films produced in the UK...  entertainment  \n2  Former Conservative leader William Hague says ...       politics  \n3  Top seeds South Africa return to the scene of ...         sports  \n4  Foster carers are to be guaranteed a minimum a...       politics  ",
            "text/html": "<div>\n<table border=\"1\" class=\"dataframe\">\n  <thead>\n    <tr style=\"text-align: right;\">\n      <th></th>\n      <th>file_name</th>\n      <th>title</th>\n      <th>news_text</th>\n      <th>category</th>\n    </tr>\n  </thead>\n  <tbody>\n    <tr>\n      <th>0</th>\n      <td>214.txt</td>\n      <td>Mansfield 0-1 Leyton Orient</td>\n      <td>An second-half goal from Andy Scott condemned ...</td>\n      <td>sports</td>\n    </tr>\n    <tr>\n      <th>1</th>\n      <td>303.txt</td>\n      <td>Film production 'falls' 40% in UK</td>\n      <td>The number of British films produced in the UK...</td>\n      <td>entertainment</td>\n    </tr>\n    <tr>\n      <th>2</th>\n      <td>083.txt</td>\n      <td>Hague 'given up' his PM ambition</td>\n      <td>Former Conservative leader William Hague says ...</td>\n      <td>politics</td>\n    </tr>\n    <tr>\n      <th>3</th>\n      <td>190.txt</td>\n      <td>SA return to Mauritius</td>\n      <td>Top seeds South Africa return to the scene of ...</td>\n      <td>sports</td>\n    </tr>\n    <tr>\n      <th>4</th>\n      <td>103.txt</td>\n      <td>Minimum rate for foster parents</td>\n      <td>Foster carers are to be guaranteed a minimum a...</td>\n      <td>politics</td>\n    </tr>\n  </tbody>\n</table>\n</div>"
          },
          "metadata": {}
        }
      ]
    },
    {
      "metadata": {},
      "cell_type": "markdown",
      "source": "#### Count Vectorizer on test dataset"
    },
    {
      "metadata": {
        "trusted": true
      },
      "cell_type": "code",
      "source": "def new_data_count_vec_predict(test_new_data):\n    clean_df = clean_all_text(test_new_data)\n    nb_classifier = MultinomialNB()\n    nb_classifier.fit(count_train, y_train)\n    count_test = count_vectorizer.transform(test_new_data['news_text'])\n    new_cv_pred = nb_classifier.predict(count_test)\n    return new_cv_pred",
      "execution_count": 65,
      "outputs": []
    },
    {
      "metadata": {
        "trusted": true
      },
      "cell_type": "code",
      "source": "def print_new_data_pred(test_data, index):\n    new_data_cat = new_data['category']\n    print(new_data_count_vec_predict(test_data)[index],' == ', new_data_cat[index])",
      "execution_count": 66,
      "outputs": []
    },
    {
      "metadata": {
        "trusted": true
      },
      "cell_type": "code",
      "source": "print_new_data_pred(new_data, 28)",
      "execution_count": 67,
      "outputs": [
        {
          "output_type": "stream",
          "text": "entertainment  ==  entertainment\n",
          "name": "stdout"
        }
      ]
    },
    {
      "metadata": {
        "trusted": true
      },
      "cell_type": "code",
      "source": "count_vec_new_pred = new_data_count_vec_predict(new_data)",
      "execution_count": 69,
      "outputs": []
    },
    {
      "metadata": {},
      "cell_type": "markdown",
      "source": "#### TFIDF on new dataset test"
    },
    {
      "metadata": {
        "trusted": true
      },
      "cell_type": "code",
      "source": "def new_data_ftidf_vec_predict(test_new_data):\n    clean_df = clean_all_text(test_new_data)\n    nb_classifier = MultinomialNB()\n    nb_classifier.fit(tfidf_train, y_train)\n    ftidf_test = tfidf_vectorizer.transform(test_new_data['news_text'])\n    new_tfidf_pred = nb_classifier.predict(ftidf_test)\n    return new_tfidf_pred",
      "execution_count": 36,
      "outputs": []
    },
    {
      "metadata": {
        "trusted": true
      },
      "cell_type": "code",
      "source": "tfidf_new_pred = new_data_ftidf_vec_predict(new_data)",
      "execution_count": 45,
      "outputs": []
    },
    {
      "metadata": {
        "trusted": true,
        "scrolled": true
      },
      "cell_type": "code",
      "source": "print(tfidf_new_pred[112])",
      "execution_count": 44,
      "outputs": [
        {
          "output_type": "stream",
          "text": "sports\n",
          "name": "stdout"
        }
      ]
    },
    {
      "metadata": {},
      "cell_type": "markdown",
      "source": "### End the scooooore iiiiiiiis: "
    },
    {
      "metadata": {
        "trusted": true
      },
      "cell_type": "code",
      "source": "count_vec_score = metrics.accuracy_score(count_vec_new_pred, new_data['category'])\nprint('Count vectorize score: ',round(count_vec_score, 4))\nprint()\ntfidf_vec_score = metrics.accuracy_score(new_data_ftidf_vec_predict(new_data), new_data['category'])\nprint('TF-IDF score: ',round(tfidf_vec_score, 4))",
      "execution_count": 55,
      "outputs": [
        {
          "output_type": "stream",
          "text": "Count vectorize score:  0.9775\n\nTF-IDF score:  0.973\n",
          "name": "stdout"
        }
      ]
    },
    {
      "metadata": {},
      "cell_type": "markdown",
      "source": "### CV: 0.9775 <br><br>TFIDF: 0.973"
    },
    {
      "metadata": {},
      "cell_type": "markdown",
      "source": "### Saving models to pickle file"
    },
    {
      "metadata": {
        "trusted": true
      },
      "cell_type": "code",
      "source": "#Import pickle\nimport pickle",
      "execution_count": 73,
      "outputs": []
    },
    {
      "metadata": {
        "trusted": true
      },
      "cell_type": "code",
      "source": "# save count_vector model to disk\nnb_classifier = MultinomialNB()\nnb_classifier.fit(count_train, y_train)\n\nos.chdir('/home/nbuser/library/1. Classifier/4. Feature Engineering')\nfilename = 'count_vec_model.sav'\npickle.dump(nb_classifier, open(filename, 'wb'))\n \n \n# load the model from disk\n#loaded_model = pickle.load(open(filename, 'rb'))",
      "execution_count": 80,
      "outputs": []
    },
    {
      "metadata": {
        "trusted": true
      },
      "cell_type": "code",
      "source": "# save tf-idf_vector model to disk\nnb_classifier = MultinomialNB()\nnb_classifier.fit(tfidf_train, y_train)\n\nfilename = 'tfidf_vec_model.sav'\npickle.dump(nb_classifier, open(filename, 'wb'))\n \n ",
      "execution_count": 81,
      "outputs": []
    },
    {
      "metadata": {},
      "cell_type": "markdown",
      "source": "### Test on BBC live news"
    },
    {
      "metadata": {
        "trusted": true
      },
      "cell_type": "code",
      "source": "!pip install newsapi-python",
      "execution_count": 82,
      "outputs": [
        {
          "output_type": "stream",
          "text": "Collecting newsapi-python\nCollecting requests==2.21.0 (from newsapi-python)\n  Using cached https://files.pythonhosted.org/packages/7d/e3/20f3d364d6c8e5d2353c72a67778eb189176f08e873c9900e10c0287b84b/requests-2.21.0-py2.py3-none-any.whl\nRequirement already satisfied: idna<2.9,>=2.5 in /home/nbuser/anaconda3_420/lib/python3.5/site-packages (from requests==2.21.0->newsapi-python) (2.8)\nCollecting chardet<3.1.0,>=3.0.2 (from requests==2.21.0->newsapi-python)\n  Using cached https://files.pythonhosted.org/packages/bc/a9/01ffebfb562e4274b6487b4bb1ddec7ca55ec7510b22e4c51f14098443b8/chardet-3.0.4-py2.py3-none-any.whl\nCollecting certifi>=2017.4.17 (from requests==2.21.0->newsapi-python)\n\u001b[?25l  Downloading https://files.pythonhosted.org/packages/18/b0/8146a4f8dd402f60744fa380bc73ca47303cccf8b9190fd16a827281eac2/certifi-2019.9.11-py2.py3-none-any.whl (154kB)\n\u001b[K     |████████████████████████████████| 163kB 1.3MB/s eta 0:00:01\n\u001b[?25hCollecting urllib3<1.25,>=1.21.1 (from requests==2.21.0->newsapi-python)\n\u001b[?25l  Downloading https://files.pythonhosted.org/packages/01/11/525b02e4acc0c747de8b6ccdab376331597c569c42ea66ab0a1dbd36eca2/urllib3-1.24.3-py2.py3-none-any.whl (118kB)\n\u001b[K     |████████████████████████████████| 122kB 8.0MB/s eta 0:00:01\n\u001b[?25hInstalling collected packages: chardet, certifi, urllib3, requests, newsapi-python\n  Found existing installation: urllib3 1.25.3\n    Uninstalling urllib3-1.25.3:\n      Successfully uninstalled urllib3-1.25.3\n  Found existing installation: requests 2.14.2\n    Uninstalling requests-2.14.2:\n      Successfully uninstalled requests-2.14.2\nSuccessfully installed certifi-2019.9.11 chardet-3.0.4 newsapi-python-0.2.5 requests-2.21.0 urllib3-1.24.3\n\u001b[33mWARNING: You are using pip version 19.2.2, however version 19.2.3 is available.\nYou should consider upgrading via the 'pip install --upgrade pip' command.\u001b[0m\n",
          "name": "stdout"
        }
      ]
    },
    {
      "metadata": {
        "trusted": true
      },
      "cell_type": "code",
      "source": "from newsapi import NewsApiClient\nnewsapi = NewsApiClient(api_key='61f57a8c2e014016a21c6c56828d455c')",
      "execution_count": 83,
      "outputs": []
    },
    {
      "metadata": {
        "trusted": true
      },
      "cell_type": "code",
      "source": "# /v2/everything\nall_articles = newsapi.get_everything(sources='bbc-news', page_size=100)",
      "execution_count": 84,
      "outputs": []
    },
    {
      "metadata": {
        "trusted": true,
        "scrolled": true
      },
      "cell_type": "code",
      "source": "BBC_all_news_df = pd.DataFrame.from_dict(all_articles['articles'])\nBBC_all_news_df['news_text'] = BBC_all_news_df['content']\n#BBC_all_news_df = BBC_all_news_df.drop(['author', 'description', 'content', 'publishedAt', 'source', 'title', 'url', 'urlToImage'], axis=1)\nlist(BBC_all_news_df.columns)",
      "execution_count": 91,
      "outputs": [
        {
          "output_type": "execute_result",
          "execution_count": 91,
          "data": {
            "text/plain": "['author',\n 'content',\n 'description',\n 'publishedAt',\n 'source',\n 'title',\n 'url',\n 'urlToImage',\n 'news_text']"
          },
          "metadata": {}
        }
      ]
    },
    {
      "metadata": {
        "trusted": true
      },
      "cell_type": "code",
      "source": "pd.set_option('display.max_colwidth', -1)",
      "execution_count": 87,
      "outputs": []
    },
    {
      "metadata": {
        "trusted": true
      },
      "cell_type": "code",
      "source": "BBC_all_news_df",
      "execution_count": 88,
      "outputs": [
        {
          "output_type": "execute_result",
          "execution_count": 88,
          "data": {
            "text/plain": "                                                                                                                                                                                                                                                                                     news_text\n0   Image copyrightGoogle\\r\\nStaff have been threatened with a meat cleaver during a bank robbery in Fife. \\r\\nPolice said the incident happened just after 09:00 at the Bank of Scotland in Bothwell Street, Dunfermline. \\r\\nA man threatened workers with the weapon and d… [+192 chars]   \n1   Check the latest opinion poll trends with the poll tracker, which measures how people say they are going to vote at the next general election.\\r\\nAnalysis by BBC senior political analyst Peter Barnes\\r\\nAs our poll tracker graph shows, after a year and a half of … [+10394 chars]   \n2   Image copyrightBBC NewsImage caption\\r\\n Thomas Cook passenger Mary Nicholls (right), on holiday with her grandson Matt Walker, fears running out of her heart condition medication if she is stranded in Cyprus.\\r\\nThomas Cook customers have told the BBC of their f… [+3597 chars]    \n3   Jonny Bairstow has been left out of England's squad for the Tests in New Zealand, while uncapped quartet Matthew Parkinson, Dom Sibley, Zak Crawley and Saqib Mahmood have been called up.\\r\\nWicketkeeper Bairstow averages 20.25 in Tests this year, so Jos Buttler… [+756 chars]       \n4   Portuguese coach Toni Conceicao and Francois Omam-Biyik have been given the task of leading Cameroon to the Africa Cup of Nations title in 2021\\r\\nCameroon's new coaching team of Portugal's Toni Conceicao and former Indomitable Lion player Francois Omam-Biyik a… [+2198 chars]      \n5   Cory Hill last played in Wales' 2019 Six Nations victory over England in February\\r\\nWales second row Cory Hill could \"possibly\" be out of the World Cup without playing a game, says coach Warren Gatland.\\r\\nWales had only two fit locks - Alun Wyn Jones and Jake B… [+1434 chars]    \n6   Image copyrightAFPImage caption\\r\\n Emiliano Sala had just signed with Cardiff City before the plane he was travelling in crashed into the English Channel on 21 January\\r\\nTwo people have been jailed after admitting accessing CCTV footage of the post-mortem exami… [+345 chars]     \n7   Image copyrightGetty ImagesImage caption\\r\\n A court sketch during the trial on Monday of women accused of plotting a bomb attack in Paris\\r\\nFive French women have gone on trial in Paris accused of trying to detonate a car bomb near the iconic Notre-Dame cathedr… [+2902 chars]    \n8   British number one Kyle Edmund is looking for another coach after parting company with Mark Hilton.\\r\\nEdmund lost to Chilean Cristian Garin in the Chengdu Open first round on Monday, his fourth straight defeat.\\r\\nHowever, Hilton was not in China for the match a… [+861 chars]     \n9   The EU has approved for the first time the use of a medicinal cannabis product aimed at patients with two rare, but severe, forms of childhood epilepsy.\\r\\nDoctors can prescribe Epidyolex - an oral solution of cannabidiol, which comes from the cannabis plant - … [+2473 chars]      \n10  The latest five minute news bulletin from BBC World Service.                                                                                                                                                                                                                              \n11  India captain Virat Kohli will be suspended if he gets another demerit point by 15 January 2020\\r\\nIndia captain Virat Kohli has been given one demerit point - moving him closer to a ban - after making contact with South Africa's Beuran Hendricks.\\r\\nThe incident… [+529 chars]     \n12  Image copyrightFamily handoutImage caption\\r\\n Jodie Chesney was stabbed while in a park with friends\\r\\nA 17-year-old girl was killed in a \"very fast\" and \"completely unexpected\" attack, a court has heard.\\r\\nJodie Chesney was sitting with friends in a park in Har… [+2016 chars]  \n13  Image copyrightGetty ImagesImage caption\\r\\n A range of own-brand and third-party devices use Google Assistant to handle users' voice commands\\r\\nGoogle has said it will let its human reviewers listen to audio recordings made by its virtual assistant only if user… [+3745 chars]    \n14  Image caption\\r\\n Protesters were taken away in a police van after being arrested\\r\\nA 91-year-old man and an 83-year-old woman are among eight people to be charged after Extinction Rebellion activists imposed a \"blockade\" at the Port of Dover.\\r\\nActivists occupie… [+1203 chars]  \n15  Fraser Forster says Celtic \"have nothing to fear\" in their bid to qualify from their Europa League group.\\r\\nThe Scottish champions drew 1-1 away to Ligue 1 Rennes last week in a group also containing CFR Cluj and Serie A giants Lazio.\\r\\nRomanians Cluj knocked C… [+1106 chars]    \n16  Media captionMillions of people join the environmental strike led by schoolchildren across the world on Friday\\r\\nA special climate summit organised by UN Secretary General António Guterres is set to open in New York, but some key world leaders, including Donal… [+4237 chars]      \n17  Image copyrightGetty Images\\r\\n\"I think we've earned a party,\" says 29-year-old Joy Muhammad.\\r\\nShe is part of a group that wants to put on a UK festival to celebrate LGBT Muslim culture.\\r\\n\"We've had Bi Pride, we've had Black Pride, we have Trans Pride,\" she tel… [+3120 chars]  \n18  None                                                                                                                                                                                                                                                                                      \n19  Image caption\\r\\n Chris Charlton protested in Dundee as part of the worldwide strike against climate change\\r\\nClimate change remains high on the agenda as MSPs are set to debate the Climate Change Bill this week.\\r\\nThe legislation reaches its final stage on Wedne… [+3725 chars]  \n20  Cian Healy says Ireland will embrace the atmosphere generated by facing the tournament hosts\\r\\nIreland are ready to embrace the frenzied atmosphere that will accompany their second World Cup match against hosts Japan, says Cian Healy.\\r\\nBoth sides secured bonus… [+2364 chars]    \n21  A ruling on the legality of Boris Johnson's decision to suspend Parliament for five weeks will be announced by the Supreme Court on Tuesday at 10:30 BST. \\r\\nThe government argues prorogation is not a matter for the courts, but critics say the PM is trying to l… [+145 chars]       \n22  Stuart McInally (right) has been left deflated by the loss to Ireland\\r\\nCaptain Stuart McInally admits Scotland's crushing defeat by Ireland in their World Cup opener has left the team \"disheartened\" but \"desperate\" to put things right against Samoa.\\r\\nIreland … [+1788 chars]    \n23  Josh Adams scored Wales' third try in Toyota City\\r\\n<table><tr><th>2019 Rugby World Cup: Wales v Georgia</th></tr>\\r\\n<tr><td>Wales: (29) 43</td></tr><tr><td>Tries: J Davies, Tipuric, Adams, L Williams, T Williams, North Cons: Biggar 4, Halfpenny Pens: Biggar </… [+1527 chars]    \n24  Image caption\\r\\n Declan Kevin O'Neill admitted murdering his mother\\r\\nA south Belfast doctor has been sentenced to life in prison for the murder of his mother.\\r\\nDeclan Kevin O'Neill admitted murdering his 51-year old mother Anne O'Neill.\\r\\nThe retired nurse was … [+1490 chars]\n25  Liverpool fans have used Thomas Cook for away Champions League games against Genk and RB Salzburg\\r\\nFootball fans are awaiting news on whether tickets for upcoming European away games will be valid following the collapse of Thomas Cook. \\r\\nThe holiday company, … [+3118 chars]    \n26  None                                                                                                                                                                                                                                                                                      \n27  The latest five minute news bulletin from BBC World Service.                                                                                                                                                                                                                              \n28  Image copyrightJack BlundyImage caption\\r\\n Sam Percival making his hump from a pinnacle known as Lord Berkeley's Seat\\r\\nA base jumper was lucky to survive being blown into a rock face, according to mountain rescuers.\\r\\nSam Percival had jumped from a pinnacle 1,0… [+1043 chars]  \n29  Image copyrightGetty ImagesImage caption\\r\\n Mediator was banned after three decades of use\\r\\nA landmark French trial is due to begin to decide whether a diabetes pill prescribed for weight loss was behind the deaths of up to 2,000 people.\\r\\nServier, the drug's m… [+2936 chars]  \n..                                                                                                                                                                                                                                                                                       ...  \n70  None                                                                                                                                                                                                                                                                                      \n71  Image copyrightGetty ImagesImage caption\\r\\n Flight MT2643 (not pictured) was said to be Thomas Cook's last\\r\\nThomas Cook's flight from Orlando to Manchester landed at 08:52 BST - according to Flight Radar, it was the stricken operator's final flight. The BBC ha… [+1589 chars]    \n72  Israel Folau had played rugby league for Australia before switching codes\\r\\nSacked rugby union star Israel Folau is returning to rugby league and will play for Tonga at next month's Oceania Cup.\\r\\nFolau had his contract terminated by Rugby Australia after writi… [+1300 chars]    \n73  None                                                                                                                                                                                                                                                                                      \n74  Image copyrightPA MediaImage caption\\r\\n Boris Johnson was asked about his links with Jennifer Arcuri during a flight to New York\\r\\nBoris Johnson refused six times to answer questions over claims he failed to declare a potential conflict of interest in how £126,… [+2231 chars]    \n75  Image copyrightGetty ImagesImage caption\\r\\n Copleston High School said students performing wheelies was dangerous\\r\\nA school has threatened to ban pupils from cycling because \"too many students have fallen off and hurt themselves\" performing wheelies.\\r\\nCoplesto… [+1461 chars]  \n76  Bernardo Silva (left) scored a hat-trick in Manchester City's 8-0 defeat of Watford on Saturday\\r\\nA tweet sent by Bernardo Silva to Manchester City team-mate Benjamin Mendy is the subject of a Football Association investigation for alleged racism.\\r\\nPortugal in… [+800 chars]     \n77  Algeria went from failing to get out of the group stage in 2017 to winning the tournament two years later\\r\\nAfrican champions Algeria are to play a match in France for the first time in 11 years when they meet Colombia in Lille on October 15.\\r\\nThere has been a… [+2858 chars]    \n78  The latest five minute news bulletin from BBC World Service.                                                                                                                                                                                                                              \n79  Cameron Bancroft scored 726 runs for Durham at an average of 45.37 in nine County Championship matches this season\\r\\nDurham have re-signed Australia international wicketkeeper batsman Cameron Bancroft for the 2020 season.\\r\\nThe 26-year-old joined Durham in all … [+576 chars]     \n80  Lord Coe, president of the IAAF - athletics' world governing body - says he hopes world and Olympic 800m champion Caster Semenya returns to compete in athletics \"within the regulations\".                                                                                                \n81  Image copyrightGoogleImage caption\\r\\n The accident happened on the B6357 near Bonchester Bridge in the Borders\\r\\nA 75-year-old motorcyclist has died after his bike left the road and struck a tree in the Borders.\\r\\nHe was riding in a group when the accident took … [+265 chars]   \n82  Image caption\\r\\n Empty: Thomas Cook's check-in is closed on Monday at Cardiff Airport\\r\\nThousands of Thomas Cook holidaymakers from Wales have been caught up in the collapse of the travel company.\\r\\nCardiff Airport estimates nearly 6,000 passengers have travelle… [+2436 chars]  \n83  Gianni Infantino was elected Fifa president in 2016\\r\\nItalian football should apply English-style punishments to supporters guilty of racism, says Gianni Infantino, the president of world governing body Fifa.\\r\\nSunday's game between Atalanta and Fiorentina was … [+1228 chars]    \n84  Image copyright@weatherjunkie85Image caption\\r\\n Trains, trams and buses are currently suspended\\r\\nManchester Airport train station has been evacuated and a man detained after reports of a suspicious package.\\r\\nGreater Manchester Police said bomb disposal officer… [+414 chars]   \n85  Image copyrightPA MediaImage caption\\r\\n The awards will be under review\\r\\nThe Brit Awards say they will review the way they distribute prizes, with one option being the abolition of separate male and female categories.\\r\\nBut reports that gendered awards have alr… [+2770 chars]  \n86  The latest five minute news bulletin from BBC World Service.                                                                                                                                                                                                                              \n87  Image copyrightAFPImage caption\\r\\n Mr Trump insists he did nothing wrong in his phone call with Ukraine's leader\\r\\nPresident Trump has confirmed that he raised the subject of former Vice-President Joe Biden and his son in a July phone call with Ukrainian presid… [+3343 chars]    \n88  Image copyrightGetty ImagesImage caption\\r\\n The Labour leader has been fire fighting for the first 24 hours of the conference\\r\\n\"I'm still here and I'll be back next year... hopefully.\" \\r\\nUnusual words to hear from a deputy leader of a political party on the fi… [+4729 chars]  \n89  One policeman struggles to contain his excitement as Hearts score in the Edinburgh derby - before quickly remembering he is on duty.\\r\\nHearts went on to beat rivals Hibernian 2-1 at Easter Road.\\r\\nPlease note, only available to users in the UK                                     \n90  Peter O'Mahony receives treatment from Ireland medics during the win over Scotland\\r\\nPeter O'Mahony and Bundee Aki could be available for selection for Ireland's second World Cup Pool A match against hosts Japan in Shizuoka on Saturday.\\r\\nBoth players suffered … [+1420 chars]    \n91  At least seven children have died after a classroom collapsed at a school in the Kenyan capital Nairobi, officials say.\\r\\nThe wooden structure at Precious Talent Top School collapsed just minutes after the start of the school day on Monday.\\r\\nDozens of students… [+463 chars]     \n92  The latest five minute news bulletin from BBC World Service.                                                                                                                                                                                                                              \n93  Kyle Edmund has not won a match at Tour level since the beginning of August\\r\\nBritish number one Kyle Edmund lost 6-3 6-2 to Chile's Cristian Garin in the Chengdu Open first round in China.\\r\\nWorld number 32 Edmund, seeded seventh, fell to defeat in 72 minutes … [+522 chars]     \n94  Image copyrightGoogleImage caption\\r\\n The three-year-old pedestrian was hit on Garth Avenue in Pontypridd\\r\\nA three-year-old boy is in a critical condition in hospital after being hit by a car.\\r\\nSouth Wales Police was called to Garth Avenue at Glyncoch in Ponty… [+304 chars]   \n95  Image caption\\r\\n The last flight expected into Glasgow landed at 05:50\\r\\nThomas Cook flights in and out of Glasgow Airport have been cancelled after last-minute negotiations aimed at saving the holiday firm failed.\\r\\nThe UK Civil Aviation Authority (CAA) said th… [+6842 chars]  \n96  FOOTBALL GOSSIP\\r\\nRangers winger Brandon Barker has revealed he ignored interest from \"three or four\" clubs in the English Championship to sing up at Ibrox from Manchester City this summer. (Evening Times)\\r\\nDelighted Rangers manager Steven Gerrard has praised … [+2034 chars]    \n97  A man has died after being stabbed outside a shop in west London.\\r\\nThe man, thought to be in his early 20s, was attacked outside the premises on The Broadway, Southall at about 04:00 BST.\\r\\nHe was taken to hospital but died from his injuries 90 minutes later.\\r… [+128 chars]    \n98  Image caption\\r\\n Jeremy Miles says the Welsh Government would campaign for remain in any Labour-led referendum\\r\\nThe Welsh Government would not back any Brexit deal negotiated by Jeremy Corbyn if he were prime minister, its Brexit minister has said.\\r\\nJeremy Mil… [+2410 chars]  \n99  The latest five minute news bulletin from BBC World Service.                                                                                                                                                                                                                              \n\n[100 rows x 1 columns]",
            "text/html": "<div>\n<table border=\"1\" class=\"dataframe\">\n  <thead>\n    <tr style=\"text-align: right;\">\n      <th></th>\n      <th>news_text</th>\n    </tr>\n  </thead>\n  <tbody>\n    <tr>\n      <th>0</th>\n      <td>Image copyrightGoogle\\r\\nStaff have been threatened with a meat cleaver during a bank robbery in Fife. \\r\\nPolice said the incident happened just after 09:00 at the Bank of Scotland in Bothwell Street, Dunfermline. \\r\\nA man threatened workers with the weapon and d… [+192 chars]</td>\n    </tr>\n    <tr>\n      <th>1</th>\n      <td>Check the latest opinion poll trends with the poll tracker, which measures how people say they are going to vote at the next general election.\\r\\nAnalysis by BBC senior political analyst Peter Barnes\\r\\nAs our poll tracker graph shows, after a year and a half of … [+10394 chars]</td>\n    </tr>\n    <tr>\n      <th>2</th>\n      <td>Image copyrightBBC NewsImage caption\\r\\n Thomas Cook passenger Mary Nicholls (right), on holiday with her grandson Matt Walker, fears running out of her heart condition medication if she is stranded in Cyprus.\\r\\nThomas Cook customers have told the BBC of their f… [+3597 chars]</td>\n    </tr>\n    <tr>\n      <th>3</th>\n      <td>Jonny Bairstow has been left out of England's squad for the Tests in New Zealand, while uncapped quartet Matthew Parkinson, Dom Sibley, Zak Crawley and Saqib Mahmood have been called up.\\r\\nWicketkeeper Bairstow averages 20.25 in Tests this year, so Jos Buttler… [+756 chars]</td>\n    </tr>\n    <tr>\n      <th>4</th>\n      <td>Portuguese coach Toni Conceicao and Francois Omam-Biyik have been given the task of leading Cameroon to the Africa Cup of Nations title in 2021\\r\\nCameroon's new coaching team of Portugal's Toni Conceicao and former Indomitable Lion player Francois Omam-Biyik a… [+2198 chars]</td>\n    </tr>\n    <tr>\n      <th>5</th>\n      <td>Cory Hill last played in Wales' 2019 Six Nations victory over England in February\\r\\nWales second row Cory Hill could \"possibly\" be out of the World Cup without playing a game, says coach Warren Gatland.\\r\\nWales had only two fit locks - Alun Wyn Jones and Jake B… [+1434 chars]</td>\n    </tr>\n    <tr>\n      <th>6</th>\n      <td>Image copyrightAFPImage caption\\r\\n Emiliano Sala had just signed with Cardiff City before the plane he was travelling in crashed into the English Channel on 21 January\\r\\nTwo people have been jailed after admitting accessing CCTV footage of the post-mortem exami… [+345 chars]</td>\n    </tr>\n    <tr>\n      <th>7</th>\n      <td>Image copyrightGetty ImagesImage caption\\r\\n A court sketch during the trial on Monday of women accused of plotting a bomb attack in Paris\\r\\nFive French women have gone on trial in Paris accused of trying to detonate a car bomb near the iconic Notre-Dame cathedr… [+2902 chars]</td>\n    </tr>\n    <tr>\n      <th>8</th>\n      <td>British number one Kyle Edmund is looking for another coach after parting company with Mark Hilton.\\r\\nEdmund lost to Chilean Cristian Garin in the Chengdu Open first round on Monday, his fourth straight defeat.\\r\\nHowever, Hilton was not in China for the match a… [+861 chars]</td>\n    </tr>\n    <tr>\n      <th>9</th>\n      <td>The EU has approved for the first time the use of a medicinal cannabis product aimed at patients with two rare, but severe, forms of childhood epilepsy.\\r\\nDoctors can prescribe Epidyolex - an oral solution of cannabidiol, which comes from the cannabis plant - … [+2473 chars]</td>\n    </tr>\n    <tr>\n      <th>10</th>\n      <td>The latest five minute news bulletin from BBC World Service.</td>\n    </tr>\n    <tr>\n      <th>11</th>\n      <td>India captain Virat Kohli will be suspended if he gets another demerit point by 15 January 2020\\r\\nIndia captain Virat Kohli has been given one demerit point - moving him closer to a ban - after making contact with South Africa's Beuran Hendricks.\\r\\nThe incident… [+529 chars]</td>\n    </tr>\n    <tr>\n      <th>12</th>\n      <td>Image copyrightFamily handoutImage caption\\r\\n Jodie Chesney was stabbed while in a park with friends\\r\\nA 17-year-old girl was killed in a \"very fast\" and \"completely unexpected\" attack, a court has heard.\\r\\nJodie Chesney was sitting with friends in a park in Har… [+2016 chars]</td>\n    </tr>\n    <tr>\n      <th>13</th>\n      <td>Image copyrightGetty ImagesImage caption\\r\\n A range of own-brand and third-party devices use Google Assistant to handle users' voice commands\\r\\nGoogle has said it will let its human reviewers listen to audio recordings made by its virtual assistant only if user… [+3745 chars]</td>\n    </tr>\n    <tr>\n      <th>14</th>\n      <td>Image caption\\r\\n Protesters were taken away in a police van after being arrested\\r\\nA 91-year-old man and an 83-year-old woman are among eight people to be charged after Extinction Rebellion activists imposed a \"blockade\" at the Port of Dover.\\r\\nActivists occupie… [+1203 chars]</td>\n    </tr>\n    <tr>\n      <th>15</th>\n      <td>Fraser Forster says Celtic \"have nothing to fear\" in their bid to qualify from their Europa League group.\\r\\nThe Scottish champions drew 1-1 away to Ligue 1 Rennes last week in a group also containing CFR Cluj and Serie A giants Lazio.\\r\\nRomanians Cluj knocked C… [+1106 chars]</td>\n    </tr>\n    <tr>\n      <th>16</th>\n      <td>Media captionMillions of people join the environmental strike led by schoolchildren across the world on Friday\\r\\nA special climate summit organised by UN Secretary General António Guterres is set to open in New York, but some key world leaders, including Donal… [+4237 chars]</td>\n    </tr>\n    <tr>\n      <th>17</th>\n      <td>Image copyrightGetty Images\\r\\n\"I think we've earned a party,\" says 29-year-old Joy Muhammad.\\r\\nShe is part of a group that wants to put on a UK festival to celebrate LGBT Muslim culture.\\r\\n\"We've had Bi Pride, we've had Black Pride, we have Trans Pride,\" she tel… [+3120 chars]</td>\n    </tr>\n    <tr>\n      <th>18</th>\n      <td>None</td>\n    </tr>\n    <tr>\n      <th>19</th>\n      <td>Image caption\\r\\n Chris Charlton protested in Dundee as part of the worldwide strike against climate change\\r\\nClimate change remains high on the agenda as MSPs are set to debate the Climate Change Bill this week.\\r\\nThe legislation reaches its final stage on Wedne… [+3725 chars]</td>\n    </tr>\n    <tr>\n      <th>20</th>\n      <td>Cian Healy says Ireland will embrace the atmosphere generated by facing the tournament hosts\\r\\nIreland are ready to embrace the frenzied atmosphere that will accompany their second World Cup match against hosts Japan, says Cian Healy.\\r\\nBoth sides secured bonus… [+2364 chars]</td>\n    </tr>\n    <tr>\n      <th>21</th>\n      <td>A ruling on the legality of Boris Johnson's decision to suspend Parliament for five weeks will be announced by the Supreme Court on Tuesday at 10:30 BST. \\r\\nThe government argues prorogation is not a matter for the courts, but critics say the PM is trying to l… [+145 chars]</td>\n    </tr>\n    <tr>\n      <th>22</th>\n      <td>Stuart McInally (right) has been left deflated by the loss to Ireland\\r\\nCaptain Stuart McInally admits Scotland's crushing defeat by Ireland in their World Cup opener has left the team \"disheartened\" but \"desperate\" to put things right against Samoa.\\r\\nIreland … [+1788 chars]</td>\n    </tr>\n    <tr>\n      <th>23</th>\n      <td>Josh Adams scored Wales' third try in Toyota City\\r\\n&lt;table&gt;&lt;tr&gt;&lt;th&gt;2019 Rugby World Cup: Wales v Georgia&lt;/th&gt;&lt;/tr&gt;\\r\\n&lt;tr&gt;&lt;td&gt;Wales: (29) 43&lt;/td&gt;&lt;/tr&gt;&lt;tr&gt;&lt;td&gt;Tries: J Davies, Tipuric, Adams, L Williams, T Williams, North Cons: Biggar 4, Halfpenny Pens: Biggar &lt;/… [+1527 chars]</td>\n    </tr>\n    <tr>\n      <th>24</th>\n      <td>Image caption\\r\\n Declan Kevin O'Neill admitted murdering his mother\\r\\nA south Belfast doctor has been sentenced to life in prison for the murder of his mother.\\r\\nDeclan Kevin O'Neill admitted murdering his 51-year old mother Anne O'Neill.\\r\\nThe retired nurse was … [+1490 chars]</td>\n    </tr>\n    <tr>\n      <th>25</th>\n      <td>Liverpool fans have used Thomas Cook for away Champions League games against Genk and RB Salzburg\\r\\nFootball fans are awaiting news on whether tickets for upcoming European away games will be valid following the collapse of Thomas Cook. \\r\\nThe holiday company, … [+3118 chars]</td>\n    </tr>\n    <tr>\n      <th>26</th>\n      <td>None</td>\n    </tr>\n    <tr>\n      <th>27</th>\n      <td>The latest five minute news bulletin from BBC World Service.</td>\n    </tr>\n    <tr>\n      <th>28</th>\n      <td>Image copyrightJack BlundyImage caption\\r\\n Sam Percival making his hump from a pinnacle known as Lord Berkeley's Seat\\r\\nA base jumper was lucky to survive being blown into a rock face, according to mountain rescuers.\\r\\nSam Percival had jumped from a pinnacle 1,0… [+1043 chars]</td>\n    </tr>\n    <tr>\n      <th>29</th>\n      <td>Image copyrightGetty ImagesImage caption\\r\\n Mediator was banned after three decades of use\\r\\nA landmark French trial is due to begin to decide whether a diabetes pill prescribed for weight loss was behind the deaths of up to 2,000 people.\\r\\nServier, the drug's m… [+2936 chars]</td>\n    </tr>\n    <tr>\n      <th>...</th>\n      <td>...</td>\n    </tr>\n    <tr>\n      <th>70</th>\n      <td>None</td>\n    </tr>\n    <tr>\n      <th>71</th>\n      <td>Image copyrightGetty ImagesImage caption\\r\\n Flight MT2643 (not pictured) was said to be Thomas Cook's last\\r\\nThomas Cook's flight from Orlando to Manchester landed at 08:52 BST - according to Flight Radar, it was the stricken operator's final flight. The BBC ha… [+1589 chars]</td>\n    </tr>\n    <tr>\n      <th>72</th>\n      <td>Israel Folau had played rugby league for Australia before switching codes\\r\\nSacked rugby union star Israel Folau is returning to rugby league and will play for Tonga at next month's Oceania Cup.\\r\\nFolau had his contract terminated by Rugby Australia after writi… [+1300 chars]</td>\n    </tr>\n    <tr>\n      <th>73</th>\n      <td>None</td>\n    </tr>\n    <tr>\n      <th>74</th>\n      <td>Image copyrightPA MediaImage caption\\r\\n Boris Johnson was asked about his links with Jennifer Arcuri during a flight to New York\\r\\nBoris Johnson refused six times to answer questions over claims he failed to declare a potential conflict of interest in how £126,… [+2231 chars]</td>\n    </tr>\n    <tr>\n      <th>75</th>\n      <td>Image copyrightGetty ImagesImage caption\\r\\n Copleston High School said students performing wheelies was dangerous\\r\\nA school has threatened to ban pupils from cycling because \"too many students have fallen off and hurt themselves\" performing wheelies.\\r\\nCoplesto… [+1461 chars]</td>\n    </tr>\n    <tr>\n      <th>76</th>\n      <td>Bernardo Silva (left) scored a hat-trick in Manchester City's 8-0 defeat of Watford on Saturday\\r\\nA tweet sent by Bernardo Silva to Manchester City team-mate Benjamin Mendy is the subject of a Football Association investigation for alleged racism.\\r\\nPortugal in… [+800 chars]</td>\n    </tr>\n    <tr>\n      <th>77</th>\n      <td>Algeria went from failing to get out of the group stage in 2017 to winning the tournament two years later\\r\\nAfrican champions Algeria are to play a match in France for the first time in 11 years when they meet Colombia in Lille on October 15.\\r\\nThere has been a… [+2858 chars]</td>\n    </tr>\n    <tr>\n      <th>78</th>\n      <td>The latest five minute news bulletin from BBC World Service.</td>\n    </tr>\n    <tr>\n      <th>79</th>\n      <td>Cameron Bancroft scored 726 runs for Durham at an average of 45.37 in nine County Championship matches this season\\r\\nDurham have re-signed Australia international wicketkeeper batsman Cameron Bancroft for the 2020 season.\\r\\nThe 26-year-old joined Durham in all … [+576 chars]</td>\n    </tr>\n    <tr>\n      <th>80</th>\n      <td>Lord Coe, president of the IAAF - athletics' world governing body - says he hopes world and Olympic 800m champion Caster Semenya returns to compete in athletics \"within the regulations\".</td>\n    </tr>\n    <tr>\n      <th>81</th>\n      <td>Image copyrightGoogleImage caption\\r\\n The accident happened on the B6357 near Bonchester Bridge in the Borders\\r\\nA 75-year-old motorcyclist has died after his bike left the road and struck a tree in the Borders.\\r\\nHe was riding in a group when the accident took … [+265 chars]</td>\n    </tr>\n    <tr>\n      <th>82</th>\n      <td>Image caption\\r\\n Empty: Thomas Cook's check-in is closed on Monday at Cardiff Airport\\r\\nThousands of Thomas Cook holidaymakers from Wales have been caught up in the collapse of the travel company.\\r\\nCardiff Airport estimates nearly 6,000 passengers have travelle… [+2436 chars]</td>\n    </tr>\n    <tr>\n      <th>83</th>\n      <td>Gianni Infantino was elected Fifa president in 2016\\r\\nItalian football should apply English-style punishments to supporters guilty of racism, says Gianni Infantino, the president of world governing body Fifa.\\r\\nSunday's game between Atalanta and Fiorentina was … [+1228 chars]</td>\n    </tr>\n    <tr>\n      <th>84</th>\n      <td>Image copyright@weatherjunkie85Image caption\\r\\n Trains, trams and buses are currently suspended\\r\\nManchester Airport train station has been evacuated and a man detained after reports of a suspicious package.\\r\\nGreater Manchester Police said bomb disposal officer… [+414 chars]</td>\n    </tr>\n    <tr>\n      <th>85</th>\n      <td>Image copyrightPA MediaImage caption\\r\\n The awards will be under review\\r\\nThe Brit Awards say they will review the way they distribute prizes, with one option being the abolition of separate male and female categories.\\r\\nBut reports that gendered awards have alr… [+2770 chars]</td>\n    </tr>\n    <tr>\n      <th>86</th>\n      <td>The latest five minute news bulletin from BBC World Service.</td>\n    </tr>\n    <tr>\n      <th>87</th>\n      <td>Image copyrightAFPImage caption\\r\\n Mr Trump insists he did nothing wrong in his phone call with Ukraine's leader\\r\\nPresident Trump has confirmed that he raised the subject of former Vice-President Joe Biden and his son in a July phone call with Ukrainian presid… [+3343 chars]</td>\n    </tr>\n    <tr>\n      <th>88</th>\n      <td>Image copyrightGetty ImagesImage caption\\r\\n The Labour leader has been fire fighting for the first 24 hours of the conference\\r\\n\"I'm still here and I'll be back next year... hopefully.\" \\r\\nUnusual words to hear from a deputy leader of a political party on the fi… [+4729 chars]</td>\n    </tr>\n    <tr>\n      <th>89</th>\n      <td>One policeman struggles to contain his excitement as Hearts score in the Edinburgh derby - before quickly remembering he is on duty.\\r\\nHearts went on to beat rivals Hibernian 2-1 at Easter Road.\\r\\nPlease note, only available to users in the UK</td>\n    </tr>\n    <tr>\n      <th>90</th>\n      <td>Peter O'Mahony receives treatment from Ireland medics during the win over Scotland\\r\\nPeter O'Mahony and Bundee Aki could be available for selection for Ireland's second World Cup Pool A match against hosts Japan in Shizuoka on Saturday.\\r\\nBoth players suffered … [+1420 chars]</td>\n    </tr>\n    <tr>\n      <th>91</th>\n      <td>At least seven children have died after a classroom collapsed at a school in the Kenyan capital Nairobi, officials say.\\r\\nThe wooden structure at Precious Talent Top School collapsed just minutes after the start of the school day on Monday.\\r\\nDozens of students… [+463 chars]</td>\n    </tr>\n    <tr>\n      <th>92</th>\n      <td>The latest five minute news bulletin from BBC World Service.</td>\n    </tr>\n    <tr>\n      <th>93</th>\n      <td>Kyle Edmund has not won a match at Tour level since the beginning of August\\r\\nBritish number one Kyle Edmund lost 6-3 6-2 to Chile's Cristian Garin in the Chengdu Open first round in China.\\r\\nWorld number 32 Edmund, seeded seventh, fell to defeat in 72 minutes … [+522 chars]</td>\n    </tr>\n    <tr>\n      <th>94</th>\n      <td>Image copyrightGoogleImage caption\\r\\n The three-year-old pedestrian was hit on Garth Avenue in Pontypridd\\r\\nA three-year-old boy is in a critical condition in hospital after being hit by a car.\\r\\nSouth Wales Police was called to Garth Avenue at Glyncoch in Ponty… [+304 chars]</td>\n    </tr>\n    <tr>\n      <th>95</th>\n      <td>Image caption\\r\\n The last flight expected into Glasgow landed at 05:50\\r\\nThomas Cook flights in and out of Glasgow Airport have been cancelled after last-minute negotiations aimed at saving the holiday firm failed.\\r\\nThe UK Civil Aviation Authority (CAA) said th… [+6842 chars]</td>\n    </tr>\n    <tr>\n      <th>96</th>\n      <td>FOOTBALL GOSSIP\\r\\nRangers winger Brandon Barker has revealed he ignored interest from \"three or four\" clubs in the English Championship to sing up at Ibrox from Manchester City this summer. (Evening Times)\\r\\nDelighted Rangers manager Steven Gerrard has praised … [+2034 chars]</td>\n    </tr>\n    <tr>\n      <th>97</th>\n      <td>A man has died after being stabbed outside a shop in west London.\\r\\nThe man, thought to be in his early 20s, was attacked outside the premises on The Broadway, Southall at about 04:00 BST.\\r\\nHe was taken to hospital but died from his injuries 90 minutes later.\\r… [+128 chars]</td>\n    </tr>\n    <tr>\n      <th>98</th>\n      <td>Image caption\\r\\n Jeremy Miles says the Welsh Government would campaign for remain in any Labour-led referendum\\r\\nThe Welsh Government would not back any Brexit deal negotiated by Jeremy Corbyn if he were prime minister, its Brexit minister has said.\\r\\nJeremy Mil… [+2410 chars]</td>\n    </tr>\n    <tr>\n      <th>99</th>\n      <td>The latest five minute news bulletin from BBC World Service.</td>\n    </tr>\n  </tbody>\n</table>\n<p>100 rows × 1 columns</p>\n</div>"
          },
          "metadata": {}
        }
      ]
    },
    {
      "metadata": {
        "trusted": true,
        "scrolled": true
      },
      "cell_type": "code",
      "source": "count_vec_BBC_live_pred = new_data_count_vec_predict(BBC_all_news_df)",
      "execution_count": 96,
      "outputs": []
    },
    {
      "metadata": {
        "trusted": true
      },
      "cell_type": "code",
      "source": "print(count_vec_BBC_live_pred)",
      "execution_count": 97,
      "outputs": [
        {
          "output_type": "stream",
          "text": "['politics' 'politics' 'entertainment' 'sports' 'sports' 'sports'\n 'entertainment' 'entertainment' 'sports' 'business' 'tech' 'sports'\n 'entertainment' 'tech' 'politics' 'sports' 'politics' 'entertainment'\n 'business' 'politics' 'sports' 'politics' 'sports' 'sports'\n 'entertainment' 'sports' 'business' 'tech' 'entertainment' 'sports'\n 'entertainment' 'politics' 'entertainment' 'business' 'sports' 'business'\n 'sports' 'business' 'sports' 'sports' 'business' 'politics' 'sports'\n 'tech' 'politics' 'sports' 'tech' 'tech' 'sports' 'sports' 'tech'\n 'entertainment' 'sports' 'politics' 'sports' 'sports' 'entertainment'\n 'entertainment' 'tech' 'tech' 'sports' 'tech' 'sports' 'entertainment'\n 'tech' 'sports' 'sports' 'business' 'politics' 'sports' 'business'\n 'politics' 'sports' 'business' 'politics' 'politics' 'sports' 'sports'\n 'tech' 'sports' 'sports' 'sports' 'business' 'sports' 'politics'\n 'entertainment' 'tech' 'politics' 'politics' 'sports' 'sports' 'politics'\n 'tech' 'sports' 'entertainment' 'politics' 'sports' 'entertainment'\n 'politics' 'tech']\n",
          "name": "stdout"
        }
      ]
    },
    {
      "metadata": {
        "trusted": true
      },
      "cell_type": "code",
      "source": "tfidf_BBC_live_pred = new_data_ftidf_vec_predict(BBC_all_news_df)",
      "execution_count": 98,
      "outputs": []
    },
    {
      "metadata": {
        "trusted": true
      },
      "cell_type": "code",
      "source": "print(tfidf_BBC_live_pred)",
      "execution_count": 99,
      "outputs": [
        {
          "output_type": "stream",
          "text": "['business' 'politics' 'sports' 'sports' 'sports' 'sports' 'sports'\n 'politics' 'sports' 'business' 'tech' 'sports' 'sports' 'tech' 'politics'\n 'sports' 'politics' 'sports' 'business' 'politics' 'sports' 'politics'\n 'sports' 'sports' 'sports' 'sports' 'business' 'tech' 'politics' 'sports'\n 'entertainment' 'politics' 'business' 'business' 'sports' 'business'\n 'sports' 'business' 'sports' 'sports' 'business' 'politics' 'sports'\n 'tech' 'business' 'sports' 'tech' 'tech' 'sports' 'sports' 'tech'\n 'entertainment' 'sports' 'politics' 'sports' 'sports' 'entertainment'\n 'sports' 'business' 'business' 'sports' 'tech' 'sports' 'entertainment'\n 'tech' 'sports' 'sports' 'business' 'sports' 'sports' 'business' 'sports'\n 'sports' 'business' 'politics' 'politics' 'sports' 'sports' 'tech'\n 'sports' 'sports' 'sports' 'sports' 'sports' 'politics' 'entertainment'\n 'tech' 'politics' 'politics' 'sports' 'sports' 'politics' 'tech' 'sports'\n 'sports' 'business' 'sports' 'entertainment' 'politics' 'tech']\n",
          "name": "stdout"
        }
      ]
    },
    {
      "metadata": {
        "trusted": true
      },
      "cell_type": "code",
      "source": "",
      "execution_count": null,
      "outputs": []
    }
  ],
  "metadata": {
    "kernelspec": {
      "name": "python3",
      "display_name": "Python 3",
      "language": "python"
    },
    "language_info": {
      "mimetype": "text/x-python",
      "nbconvert_exporter": "python",
      "name": "python",
      "file_extension": ".py",
      "version": "3.5.4",
      "pygments_lexer": "ipython3",
      "codemirror_mode": {
        "version": 3,
        "name": "ipython"
      }
    }
  },
  "nbformat": 4,
  "nbformat_minor": 1
}