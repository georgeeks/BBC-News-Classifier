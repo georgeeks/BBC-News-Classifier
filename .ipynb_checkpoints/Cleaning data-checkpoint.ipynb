{
  "cells": [
    {
      "metadata": {},
      "cell_type": "markdown",
      "source": "### Import modules, libraries"
    },
    {
      "metadata": {
        "trusted": true
      },
      "cell_type": "code",
      "source": "import os\nimport pandas as pd\nimport numpy as np\nimport glob\nimport matplotlib.pyplot as plt\n%matplotlib inline",
      "execution_count": 5,
      "outputs": []
    },
    {
      "metadata": {},
      "cell_type": "markdown",
      "source": "### Create loading and saving path"
    },
    {
      "metadata": {
        "trusted": true
      },
      "cell_type": "code",
      "source": "# Loading file from path\ndef loading_file():\n    current_dir = os.getcwd()         # Or for the absolute path: dir = os.path.dirname(os.path.realpath(__file__))\n    file_list = glob.glob(current_dir + '/*.csv')\n    csv_file = file_list[0]\n    return csv_file\n\n# Import file imto Pandas DataFrame\ndef importing_file(csv_file):\n    df = pd.read_csv(csv_file, sep=\",\")\n    return df\n\n# Saving path\ndef saving_file(file, file_name, save_dir):\n    file.to_csv(os.path.join(path,file_name))",
      "execution_count": 6,
      "outputs": []
    },
    {
      "metadata": {},
      "cell_type": "markdown",
      "source": "### Import file"
    },
    {
      "metadata": {
        "trusted": true,
        "scrolled": true
      },
      "cell_type": "code",
      "source": "# Importing file + Loading  file\nnews_df = importing_file(loading_file())\n\n# Top 5 records\nnews_df.head()",
      "execution_count": 7,
      "outputs": [
        {
          "output_type": "execute_result",
          "execution_count": 7,
          "data": {
            "text/html": "<div>\n<style scoped>\n    .dataframe tbody tr th:only-of-type {\n        vertical-align: middle;\n    }\n\n    .dataframe tbody tr th {\n        vertical-align: top;\n    }\n\n    .dataframe thead th {\n        text-align: right;\n    }\n</style>\n<table border=\"1\" class=\"dataframe\">\n  <thead>\n    <tr style=\"text-align: right;\">\n      <th></th>\n      <th>Unnamed: 0</th>\n      <th>file_name</th>\n      <th>title</th>\n      <th>news_text</th>\n      <th>category</th>\n    </tr>\n  </thead>\n  <tbody>\n    <tr>\n      <th>0</th>\n      <td>0</td>\n      <td>386.txt</td>\n      <td>Straw backs ending China embargo\\n</td>\n      <td>\\nUK Foreign Secretary Jack Straw has defended...</td>\n      <td>politics</td>\n    </tr>\n    <tr>\n      <th>1</th>\n      <td>0</td>\n      <td>256.txt</td>\n      <td>Blair pledges unity to Labour MPs\\n</td>\n      <td>\\nTony Blair has sought to reassure Labour bac...</td>\n      <td>politics</td>\n    </tr>\n    <tr>\n      <th>2</th>\n      <td>0</td>\n      <td>199.txt</td>\n      <td>Game warnings 'must be clearer'\\n</td>\n      <td>\\nViolent video games should carry larger warn...</td>\n      <td>politics</td>\n    </tr>\n    <tr>\n      <th>3</th>\n      <td>0</td>\n      <td>343.txt</td>\n      <td>Labour's Cunningham to stand down\\n</td>\n      <td>\\nVeteran Labour MP and former Cabinet ministe...</td>\n      <td>politics</td>\n    </tr>\n    <tr>\n      <th>4</th>\n      <td>0</td>\n      <td>118.txt</td>\n      <td>Bid to cut court witness stress\\n</td>\n      <td>\\nNew targets to reduce the stress to victims ...</td>\n      <td>politics</td>\n    </tr>\n  </tbody>\n</table>\n</div>",
            "text/plain": "   Unnamed: 0 file_name                                title  \\\n0           0   386.txt   Straw backs ending China embargo\\n   \n1           0   256.txt  Blair pledges unity to Labour MPs\\n   \n2           0   199.txt    Game warnings 'must be clearer'\\n   \n3           0   343.txt  Labour's Cunningham to stand down\\n   \n4           0   118.txt    Bid to cut court witness stress\\n   \n\n                                           news_text  category  \n0  \\nUK Foreign Secretary Jack Straw has defended...  politics  \n1  \\nTony Blair has sought to reassure Labour bac...  politics  \n2  \\nViolent video games should carry larger warn...  politics  \n3  \\nVeteran Labour MP and former Cabinet ministe...  politics  \n4  \\nNew targets to reduce the stress to victims ...  politics  "
          },
          "metadata": {}
        }
      ]
    },
    {
      "metadata": {},
      "cell_type": "markdown",
      "source": "### Cleaning"
    },
    {
      "metadata": {
        "trusted": true
      },
      "cell_type": "code",
      "source": "# Remove Unnamed column\nnews_df = news_df.drop(columns='Unnamed: 0', axis=1)\nnews_df.head()",
      "execution_count": 8,
      "outputs": [
        {
          "output_type": "execute_result",
          "execution_count": 8,
          "data": {
            "text/html": "<div>\n<style scoped>\n    .dataframe tbody tr th:only-of-type {\n        vertical-align: middle;\n    }\n\n    .dataframe tbody tr th {\n        vertical-align: top;\n    }\n\n    .dataframe thead th {\n        text-align: right;\n    }\n</style>\n<table border=\"1\" class=\"dataframe\">\n  <thead>\n    <tr style=\"text-align: right;\">\n      <th></th>\n      <th>file_name</th>\n      <th>title</th>\n      <th>news_text</th>\n      <th>category</th>\n    </tr>\n  </thead>\n  <tbody>\n    <tr>\n      <th>0</th>\n      <td>386.txt</td>\n      <td>Straw backs ending China embargo\\n</td>\n      <td>\\nUK Foreign Secretary Jack Straw has defended...</td>\n      <td>politics</td>\n    </tr>\n    <tr>\n      <th>1</th>\n      <td>256.txt</td>\n      <td>Blair pledges unity to Labour MPs\\n</td>\n      <td>\\nTony Blair has sought to reassure Labour bac...</td>\n      <td>politics</td>\n    </tr>\n    <tr>\n      <th>2</th>\n      <td>199.txt</td>\n      <td>Game warnings 'must be clearer'\\n</td>\n      <td>\\nViolent video games should carry larger warn...</td>\n      <td>politics</td>\n    </tr>\n    <tr>\n      <th>3</th>\n      <td>343.txt</td>\n      <td>Labour's Cunningham to stand down\\n</td>\n      <td>\\nVeteran Labour MP and former Cabinet ministe...</td>\n      <td>politics</td>\n    </tr>\n    <tr>\n      <th>4</th>\n      <td>118.txt</td>\n      <td>Bid to cut court witness stress\\n</td>\n      <td>\\nNew targets to reduce the stress to victims ...</td>\n      <td>politics</td>\n    </tr>\n  </tbody>\n</table>\n</div>",
            "text/plain": "  file_name                                title  \\\n0   386.txt   Straw backs ending China embargo\\n   \n1   256.txt  Blair pledges unity to Labour MPs\\n   \n2   199.txt    Game warnings 'must be clearer'\\n   \n3   343.txt  Labour's Cunningham to stand down\\n   \n4   118.txt    Bid to cut court witness stress\\n   \n\n                                           news_text  category  \n0  \\nUK Foreign Secretary Jack Straw has defended...  politics  \n1  \\nTony Blair has sought to reassure Labour bac...  politics  \n2  \\nViolent video games should carry larger warn...  politics  \n3  \\nVeteran Labour MP and former Cabinet ministe...  politics  \n4  \\nNew targets to reduce the stress to victims ...  politics  "
          },
          "metadata": {}
        }
      ]
    },
    {
      "metadata": {
        "trusted": true
      },
      "cell_type": "code",
      "source": "# Find and remove missing data (NaN)\nmissing = news_df.isnull().values.any()\nif missing:\n    news_df.dropna(axis=1)",
      "execution_count": 9,
      "outputs": []
    },
    {
      "metadata": {
        "trusted": true
      },
      "cell_type": "code",
      "source": "for column in news_df.columns.tolist():\n    news_df[column] = news_df[column].str.replace('\\n','')",
      "execution_count": 10,
      "outputs": []
    },
    {
      "metadata": {
        "trusted": true
      },
      "cell_type": "code",
      "source": "news_df.head()",
      "execution_count": 11,
      "outputs": [
        {
          "output_type": "execute_result",
          "execution_count": 11,
          "data": {
            "text/html": "<div>\n<style scoped>\n    .dataframe tbody tr th:only-of-type {\n        vertical-align: middle;\n    }\n\n    .dataframe tbody tr th {\n        vertical-align: top;\n    }\n\n    .dataframe thead th {\n        text-align: right;\n    }\n</style>\n<table border=\"1\" class=\"dataframe\">\n  <thead>\n    <tr style=\"text-align: right;\">\n      <th></th>\n      <th>file_name</th>\n      <th>title</th>\n      <th>news_text</th>\n      <th>category</th>\n    </tr>\n  </thead>\n  <tbody>\n    <tr>\n      <th>0</th>\n      <td>386.txt</td>\n      <td>Straw backs ending China embargo</td>\n      <td>UK Foreign Secretary Jack Straw has defended p...</td>\n      <td>politics</td>\n    </tr>\n    <tr>\n      <th>1</th>\n      <td>256.txt</td>\n      <td>Blair pledges unity to Labour MPs</td>\n      <td>Tony Blair has sought to reassure Labour backb...</td>\n      <td>politics</td>\n    </tr>\n    <tr>\n      <th>2</th>\n      <td>199.txt</td>\n      <td>Game warnings 'must be clearer'</td>\n      <td>Violent video games should carry larger warnin...</td>\n      <td>politics</td>\n    </tr>\n    <tr>\n      <th>3</th>\n      <td>343.txt</td>\n      <td>Labour's Cunningham to stand down</td>\n      <td>Veteran Labour MP and former Cabinet minister ...</td>\n      <td>politics</td>\n    </tr>\n    <tr>\n      <th>4</th>\n      <td>118.txt</td>\n      <td>Bid to cut court witness stress</td>\n      <td>New targets to reduce the stress to victims an...</td>\n      <td>politics</td>\n    </tr>\n  </tbody>\n</table>\n</div>",
            "text/plain": "  file_name                              title  \\\n0   386.txt   Straw backs ending China embargo   \n1   256.txt  Blair pledges unity to Labour MPs   \n2   199.txt    Game warnings 'must be clearer'   \n3   343.txt  Labour's Cunningham to stand down   \n4   118.txt    Bid to cut court witness stress   \n\n                                           news_text  category  \n0  UK Foreign Secretary Jack Straw has defended p...  politics  \n1  Tony Blair has sought to reassure Labour backb...  politics  \n2  Violent video games should carry larger warnin...  politics  \n3  Veteran Labour MP and former Cabinet minister ...  politics  \n4  New targets to reduce the stress to victims an...  politics  "
          },
          "metadata": {}
        }
      ]
    },
    {
      "metadata": {
        "trusted": true
      },
      "cell_type": "code",
      "source": "",
      "execution_count": null,
      "outputs": []
    },
    {
      "metadata": {
        "trusted": true
      },
      "cell_type": "code",
      "source": "",
      "execution_count": null,
      "outputs": []
    },
    {
      "metadata": {},
      "cell_type": "markdown",
      "source": "### Saving file as .csv"
    },
    {
      "metadata": {
        "trusted": true
      },
      "cell_type": "code",
      "source": "# Set saving directory and file name\n\nfile = news_df\nfile_name = 'news_df.csv'\nsave_dir = '...'\n\n# And now... saaaaaviiiing!\nsaving(file, file_name, save_dir)",
      "execution_count": 45,
      "outputs": []
    }
  ],
  "metadata": {
    "kernelspec": {
      "name": "python36",
      "display_name": "Python 3.6",
      "language": "python"
    }
  },
  "nbformat": 4,
  "nbformat_minor": 1
}