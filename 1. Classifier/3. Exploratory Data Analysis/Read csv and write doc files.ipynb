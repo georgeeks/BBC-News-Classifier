{
  "cells": [
    {
      "metadata": {
        "trusted": true
      },
      "cell_type": "code",
      "source": "import pandas as pd",
      "execution_count": 1,
      "outputs": []
    },
    {
      "metadata": {
        "trusted": true
      },
      "cell_type": "code",
      "source": "news = pd.read_csv('news_df.csv')",
      "execution_count": 2,
      "outputs": []
    },
    {
      "metadata": {
        "trusted": true,
        "scrolled": true
      },
      "cell_type": "code",
      "source": "news.head()",
      "execution_count": 3,
      "outputs": [
        {
          "output_type": "execute_result",
          "execution_count": 3,
          "data": {
            "text/html": "<div>\n<style scoped>\n    .dataframe tbody tr th:only-of-type {\n        vertical-align: middle;\n    }\n\n    .dataframe tbody tr th {\n        vertical-align: top;\n    }\n\n    .dataframe thead th {\n        text-align: right;\n    }\n</style>\n<table border=\"1\" class=\"dataframe\">\n  <thead>\n    <tr style=\"text-align: right;\">\n      <th></th>\n      <th>file_name</th>\n      <th>title</th>\n      <th>news_text</th>\n      <th>category</th>\n    </tr>\n  </thead>\n  <tbody>\n    <tr>\n      <th>0</th>\n      <td>333.txt</td>\n      <td>Parker misses England clash</td>\n      <td>Tom Shanklin will start in the centre for Wale...</td>\n      <td>sports</td>\n    </tr>\n    <tr>\n      <th>1</th>\n      <td>372.txt</td>\n      <td>Madagascar completes currency switch</td>\n      <td>Madagascar has completed the replacement of it...</td>\n      <td>business</td>\n    </tr>\n    <tr>\n      <th>2</th>\n      <td>261.txt</td>\n      <td>Speech takes on search engines</td>\n      <td>A Scottish firm is looking to attract web surf...</td>\n      <td>tech</td>\n    </tr>\n    <tr>\n      <th>3</th>\n      <td>123.txt</td>\n      <td>Train strike grips Buenos Aires</td>\n      <td>A strike on the Buenos Aires underground has c...</td>\n      <td>business</td>\n    </tr>\n    <tr>\n      <th>4</th>\n      <td>052.txt</td>\n      <td>Spike Lee backs student directors</td>\n      <td>Filmmaker Spike Lee says black representation ...</td>\n      <td>entertainment</td>\n    </tr>\n  </tbody>\n</table>\n</div>",
            "text/plain": "  file_name                                 title  \\\n0   333.txt           Parker misses England clash   \n1   372.txt  Madagascar completes currency switch   \n2   261.txt        Speech takes on search engines   \n3   123.txt       Train strike grips Buenos Aires   \n4   052.txt     Spike Lee backs student directors   \n\n                                           news_text       category  \n0  Tom Shanklin will start in the centre for Wale...         sports  \n1  Madagascar has completed the replacement of it...       business  \n2  A Scottish firm is looking to attract web surf...           tech  \n3  A strike on the Buenos Aires underground has c...       business  \n4  Filmmaker Spike Lee says black representation ...  entertainment  "
          },
          "metadata": {}
        }
      ]
    },
    {
      "metadata": {
        "trusted": true
      },
      "cell_type": "code",
      "source": "! pip install python-docx",
      "execution_count": 6,
      "outputs": [
        {
          "output_type": "stream",
          "text": "Collecting python-docx\n\u001b[?25l  Downloading https://files.pythonhosted.org/packages/e4/83/c66a1934ed5ed8ab1dbb9931f1779079f8bca0f6bbc5793c06c4b5e7d671/python-docx-0.8.10.tar.gz (5.5MB)\n\u001b[K     |████████████████████████████████| 5.5MB 27kB/s  eta 0:00:01     |█▊                              | 307kB 1.3MB/s eta 0:00:04\n\u001b[?25hRequirement already satisfied: lxml>=2.3.2 in /home/nbuser/anaconda3_501/lib/python3.6/site-packages (from python-docx) (4.2.5)\nBuilding wheels for collected packages: python-docx\n  Building wheel for python-docx (setup.py) ... \u001b[?25ldone\n\u001b[?25h  Created wheel for python-docx: filename=python_docx-0.8.10-cp36-none-any.whl size=188005 sha256=da6407d62953abff0bb5c5a4ae97171f43c6e3de0fd61f9278992843a2a8411e\n  Stored in directory: /home/nbuser/.cache/pip/wheels/18/0b/a0/1dd62ff812c857c9e487f27d80d53d2b40531bec1acecfa47b\nSuccessfully built python-docx\nInstalling collected packages: python-docx\nSuccessfully installed python-docx-0.8.10\n\u001b[33mWARNING: You are using pip version 19.2.2, however version 19.3 is available.\nYou should consider upgrading via the 'pip install --upgrade pip' command.\u001b[0m\n",
          "name": "stdout"
        }
      ]
    },
    {
      "metadata": {
        "trusted": true
      },
      "cell_type": "code",
      "source": "from docx import Document",
      "execution_count": 7,
      "outputs": []
    },
    {
      "metadata": {
        "trusted": true
      },
      "cell_type": "code",
      "source": "",
      "execution_count": null,
      "outputs": []
    },
    {
      "metadata": {
        "trusted": true
      },
      "cell_type": "code",
      "source": "with open('002.txt') as file:\n    text = file.read()\n\nprint(text)",
      "execution_count": 11,
      "outputs": [
        {
          "output_type": "stream",
          "text": "Dollar gains on Greenspan speech\n\nThe dollar has hit its highest level against the euro in almost three months after the Federal Reserve head said the US trade deficit is set to stabilise.\n\nAnd Alan Greenspan highlighted the US government's willingness to curb spending and rising household savings as factors which may help to reduce it. In late trading in New York, the dollar reached $1.2871 against the euro, from $1.2974 on Thursday. Market concerns about the deficit has hit the greenback in recent months. On Friday, Federal Reserve chairman Mr Greenspan's speech in London ahead of the meeting of G7 finance ministers sent the dollar higher after it had earlier tumbled on the back of worse-than-expected US jobs data. \"I think the chairman's taking a much more sanguine view on the current account deficit than he's taken for some time,\" said Robert Sinche, head of currency strategy at Bank of America in New York. \"He's taking a longer-term view, laying out a set of conditions under which the current account deficit can improve this year and next.\"\n\nWorries about the deficit concerns about China do, however, remain. China's currency remains pegged to the dollar and the US currency's sharp falls in recent months have therefore made Chinese export prices highly competitive. But calls for a shift in Beijing's policy have fallen on deaf ears, despite recent comments in a major Chinese newspaper that the \"time is ripe\" for a loosening of the peg. The G7 meeting is thought unlikely to produce any meaningful movement in Chinese policy. In the meantime, the US Federal Reserve's decision on 2 February to boost interest rates by a quarter of a point - the sixth such move in as many months - has opened up a differential with European rates. The half-point window, some believe, could be enough to keep US assets looking more attractive, and could help prop up the dollar. The recent falls have partly been the result of big budget deficits, as well as the US's yawning current account gap, both of which need to be funded by the buying of US bonds and assets by foreign firms and governments. The White House will announce its budget on Monday, and many commentators believe the deficit will remain at close to half a trillion dollars.\n\n",
          "name": "stdout"
        }
      ]
    },
    {
      "metadata": {
        "trusted": true
      },
      "cell_type": "code",
      "source": "document = Document()\ndocument.add_section()\ndocument.add_paragraph(text)\ndocument.save('new_file.docx')",
      "execution_count": 15,
      "outputs": []
    },
    {
      "metadata": {
        "trusted": true
      },
      "cell_type": "code",
      "source": "",
      "execution_count": null,
      "outputs": []
    }
  ],
  "metadata": {
    "kernelspec": {
      "name": "python36",
      "display_name": "Python 3.6",
      "language": "python"
    },
    "language_info": {
      "mimetype": "text/x-python",
      "nbconvert_exporter": "python",
      "name": "python",
      "pygments_lexer": "ipython3",
      "version": "3.6.6",
      "file_extension": ".py",
      "codemirror_mode": {
        "version": 3,
        "name": "ipython"
      }
    }
  },
  "nbformat": 4,
  "nbformat_minor": 2
}