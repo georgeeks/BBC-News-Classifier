{
  "cells": [
    {
      "metadata": {
        "trusted": true
      },
      "cell_type": "code",
      "source": "import sys\nimport os\nimport glob\nimport pandas as pd\nimport pickle",
      "execution_count": 13,
      "outputs": []
    },
    {
      "metadata": {
        "trusted": true
      },
      "cell_type": "code",
      "source": "!pip install --upgrade pip",
      "execution_count": 14,
      "outputs": [
        {
          "output_type": "stream",
          "text": "Collecting pip\n\u001b[?25l  Downloading https://files.pythonhosted.org/packages/4a/08/6ca123073af4ebc4c5488a5bc8a010ac57aa39ce4d3c8a931ad504de4185/pip-19.3-py2.py3-none-any.whl (1.4MB)\n\u001b[K     |████████████████████████████████| 1.4MB 1.9MB/s eta 0:00:01\n\u001b[?25hInstalling collected packages: pip\n  Found existing installation: pip 19.2.2\n    Uninstalling pip-19.2.2:\n      Successfully uninstalled pip-19.2.2\nSuccessfully installed pip-19.3\n",
          "name": "stdout"
        }
      ]
    },
    {
      "metadata": {
        "trusted": true
      },
      "cell_type": "code",
      "source": "! pip install python-docx",
      "execution_count": 15,
      "outputs": [
        {
          "output_type": "stream",
          "text": "Requirement already satisfied: python-docx in /home/nbuser/anaconda3_501/lib/python3.6/site-packages (0.8.10)\r\nRequirement already satisfied: lxml>=2.3.2 in /home/nbuser/anaconda3_501/lib/python3.6/site-packages (from python-docx) (4.2.5)\r\n",
          "name": "stdout"
        }
      ]
    },
    {
      "metadata": {
        "trusted": true
      },
      "cell_type": "code",
      "source": "from docx import Document",
      "execution_count": 16,
      "outputs": []
    },
    {
      "metadata": {
        "trusted": true
      },
      "cell_type": "code",
      "source": "# Current directory\ninit_dir = os.getcwd()\ninit_dir",
      "execution_count": 17,
      "outputs": [
        {
          "output_type": "execute_result",
          "execution_count": 17,
          "data": {
            "text/plain": "'/home/nbuser/library/1. Classifier/1. BBC news files/BBC'"
          },
          "metadata": {}
        }
      ]
    },
    {
      "metadata": {
        "trusted": true
      },
      "cell_type": "code",
      "source": "# Files directories (named folders)\nBBC_dir = os.getcwd()\nfolders = glob.glob(BBC_dir + \"/*\")",
      "execution_count": 21,
      "outputs": []
    },
    {
      "metadata": {
        "trusted": true,
        "scrolled": true
      },
      "cell_type": "code",
      "source": "folders",
      "execution_count": 22,
      "outputs": [
        {
          "output_type": "execute_result",
          "execution_count": 22,
          "data": {
            "text/plain": "['/home/nbuser/library/1. Classifier/1. BBC news files/BBC/business',\n '/home/nbuser/library/1. Classifier/1. BBC news files/BBC/tech',\n '/home/nbuser/library/1. Classifier/1. BBC news files/BBC/sports',\n '/home/nbuser/library/1. Classifier/1. BBC news files/BBC/politics',\n '/home/nbuser/library/1. Classifier/1. BBC news files/BBC/entertainment']"
          },
          "metadata": {}
        }
      ]
    },
    {
      "metadata": {
        "trusted": true
      },
      "cell_type": "code",
      "source": "# Import time to monitore importing performance\nimport time\nstart = time.time()\n\n# Loop through directories (folders) read and import files and write in .docx format in another folder\nfor folder in folders:\n    class_name = os.path.basename(folder)    \n    files = glob.glob(folder + \"/*.txt\")\n    for file in files:\n        file_name = os.path.basename(file)\n        with open(file, encoding='windows-1252') as text:\n            txt = text.read()\n            document = Document()\n            document.add_section()\n            document.add_paragraph(txt)\n            document.save('{}{}.docx'.format(class_name, file_name))            \n            \n# Swich back to the initial directory\nback_dir = os.chdir(init_dir)\ninit_dir = os.getcwd()\n\n# Let'check the ... passing time...\nfin = time.time()\nproc_time = fin - start\n",
      "execution_count": null,
      "outputs": []
    },
    {
      "metadata": {
        "trusted": true
      },
      "cell_type": "code",
      "source": "",
      "execution_count": null,
      "outputs": []
    }
  ],
  "metadata": {
    "kernelspec": {
      "name": "python36",
      "display_name": "Python 3.6",
      "language": "python"
    }
  },
  "nbformat": 4,
  "nbformat_minor": 2
}