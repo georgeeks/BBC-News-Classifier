{
  "cells": [
    {
      "metadata": {},
      "cell_type": "markdown",
      "source": "## Read and import all .txt files into .csv"
    },
    {
      "metadata": {},
      "cell_type": "markdown",
      "source": "#### Import neccesary modules and libraries"
    },
    {
      "metadata": {
        "trusted": true
      },
      "cell_type": "code",
      "source": "import sys\nimport os\nimport glob\nimport pandas as pd\nimport pickle",
      "execution_count": 1,
      "outputs": []
    },
    {
      "metadata": {
        "trusted": true
      },
      "cell_type": "code",
      "source": "init_dir = os.getcwd()\ninit_dir",
      "execution_count": 2,
      "outputs": [
        {
          "output_type": "execute_result",
          "execution_count": 2,
          "data": {
            "text/plain": "'/home/nbuser/library/1. Classifier/1. BBC news files'"
          },
          "metadata": {}
        }
      ]
    },
    {
      "metadata": {},
      "cell_type": "markdown",
      "source": "#### Load the current directory"
    },
    {
      "metadata": {
        "trusted": true,
        "scrolled": true
      },
      "cell_type": "code",
      "source": "# Current directory\ninit_dir = os.getcwd()\n\n# Files directories (named folders)\nBBC_dir = os.chdir(init_dir + '/BBC')\nBBC_dir = os.getcwd()\nfolders = glob.glob(BBC_dir + \"/*\")\nfolders",
      "execution_count": 3,
      "outputs": [
        {
          "output_type": "execute_result",
          "execution_count": 3,
          "data": {
            "text/plain": "['/home/nbuser/library/1. Classifier/1. BBC news files/BBC/entertainment',\n '/home/nbuser/library/1. Classifier/1. BBC news files/BBC/tech',\n '/home/nbuser/library/1. Classifier/1. BBC news files/BBC/business',\n '/home/nbuser/library/1. Classifier/1. BBC news files/BBC/sports',\n '/home/nbuser/library/1. Classifier/1. BBC news files/BBC/politics']"
          },
          "metadata": {}
        }
      ]
    },
    {
      "metadata": {},
      "cell_type": "markdown",
      "source": "#### Read and import .txt files"
    },
    {
      "metadata": {
        "trusted": true
      },
      "cell_type": "code",
      "source": "# Import time to monitore importing performance\nimport time\nstart = time.time()\n\n# Loop through directories (folders) read and import files into .csv file\nnews = []\nfor folder in folders:\n    class_name = os.path.basename(folder)    \n    files = glob.glob(folder + \"/*.txt\")\n    for file in files:\n        file_name = os.path.basename(file)\n        with open(file, encoding='windows-1252') as text:\n            category = class_name\n            lines = text.readlines()\n            title = lines[0]\n            news_text = ''.join(lines[1:])\n            news.append(pd.DataFrame({'file_name': file_name, 'title': title, 'news_text': news_text, 'category': category}, index=[0]))\n\nnews = pd.concat(news)\n\n# Swich back to the initial directory\nback_dir = os.chdir(init_dir)\ninit_dir = os.getcwd()\n\n# Let'check the ... passing time...\nfin = time.time()\nproc_time = fin - start\n",
      "execution_count": 4,
      "outputs": []
    },
    {
      "metadata": {
        "trusted": true,
        "scrolled": true
      },
      "cell_type": "code",
      "source": "# It could be better...\nprint('processing time: ', proc_time ,'sec.')",
      "execution_count": 5,
      "outputs": [
        {
          "output_type": "stream",
          "text": "processing time:  275.7878646850586 sec.\n",
          "name": "stdout"
        }
      ]
    },
    {
      "metadata": {},
      "cell_type": "markdown",
      "source": "#### Import the .csv file into Pandas DataFrame and show the first rows "
    },
    {
      "metadata": {
        "trusted": true
      },
      "cell_type": "code",
      "source": "# The file path\nnews_csv_path = '/home/nbuser/library/1. Classifier/2. BBC Dataset/BBC_news.csv'\n\n# Import into Pandas\nnews = pd.read_csv(news_csv_path)\n\n# Surprise!!!\nnews.head()",
      "execution_count": 6,
      "outputs": [
        {
          "output_type": "execute_result",
          "execution_count": 6,
          "data": {
            "text/html": "<div>\n<style scoped>\n    .dataframe tbody tr th:only-of-type {\n        vertical-align: middle;\n    }\n\n    .dataframe tbody tr th {\n        vertical-align: top;\n    }\n\n    .dataframe thead th {\n        text-align: right;\n    }\n</style>\n<table border=\"1\" class=\"dataframe\">\n  <thead>\n    <tr style=\"text-align: right;\">\n      <th></th>\n      <th>file_name</th>\n      <th>title</th>\n      <th>news_text</th>\n      <th>category</th>\n    </tr>\n  </thead>\n  <tbody>\n    <tr>\n      <th>0</th>\n      <td>380.txt</td>\n      <td>Boogeyman takes box office lead\\n</td>\n      <td>\\nThe low-budget horror film Boogeyman has kno...</td>\n      <td>entertainment</td>\n    </tr>\n    <tr>\n      <th>1</th>\n      <td>011.txt</td>\n      <td>Artists' secret postcards on sale\\n</td>\n      <td>\\nPostcards by artists including Damien Hirst ...</td>\n      <td>entertainment</td>\n    </tr>\n    <tr>\n      <th>2</th>\n      <td>291.txt</td>\n      <td>U2 stars enter rock Hall of Fame\\n</td>\n      <td>\\nSinger Bruce Springsteen has inducted Irish ...</td>\n      <td>entertainment</td>\n    </tr>\n    <tr>\n      <th>3</th>\n      <td>184.txt</td>\n      <td>Top of the Pops leaves BBC One\\n</td>\n      <td>\\nThe BBC's flagship pop music programme Top o...</td>\n      <td>entertainment</td>\n    </tr>\n    <tr>\n      <th>4</th>\n      <td>037.txt</td>\n      <td>Film row over Pirates 'cannibals'\\n</td>\n      <td>\\nPlans to portray Dominica's Carib Indians as...</td>\n      <td>entertainment</td>\n    </tr>\n  </tbody>\n</table>\n</div>",
            "text/plain": "  file_name                                title  \\\n0   380.txt    Boogeyman takes box office lead\\n   \n1   011.txt  Artists' secret postcards on sale\\n   \n2   291.txt   U2 stars enter rock Hall of Fame\\n   \n3   184.txt     Top of the Pops leaves BBC One\\n   \n4   037.txt  Film row over Pirates 'cannibals'\\n   \n\n                                           news_text       category  \n0  \\nThe low-budget horror film Boogeyman has kno...  entertainment  \n1  \\nPostcards by artists including Damien Hirst ...  entertainment  \n2  \\nSinger Bruce Springsteen has inducted Irish ...  entertainment  \n3  \\nThe BBC's flagship pop music programme Top o...  entertainment  \n4  \\nPlans to portray Dominica's Carib Indians as...  entertainment  "
          },
          "metadata": {}
        }
      ]
    },
    {
      "metadata": {
        "trusted": true,
        "scrolled": false
      },
      "cell_type": "code",
      "source": "# Dataframe info\nnews.info()",
      "execution_count": 7,
      "outputs": [
        {
          "output_type": "stream",
          "text": "<class 'pandas.core.frame.DataFrame'>\nRangeIndex: 2225 entries, 0 to 2224\nData columns (total 4 columns):\nfile_name    2225 non-null object\ntitle        2225 non-null object\nnews_text    2225 non-null object\ncategory     2225 non-null object\ndtypes: object(4)\nmemory usage: 69.6+ KB\n",
          "name": "stdout"
        }
      ]
    },
    {
      "metadata": {},
      "cell_type": "markdown",
      "source": "### Saving file"
    },
    {
      "metadata": {
        "trusted": true
      },
      "cell_type": "code",
      "source": "# Saving file\ndef saving_file(file, file_name, save_dir):\n    file.to_csv(os.path.join(save_dir, file_name), index=False)\n",
      "execution_count": 8,
      "outputs": []
    },
    {
      "metadata": {
        "trusted": true
      },
      "cell_type": "code",
      "source": "# Save new file as .csv into BBC Dataset directory\nfile = news\nfile_name = 'BBC_news.csv'\nsave_dir = '/home/nbuser/library/1. Classifier/2. BBC Dataset'\n\n# And now... saaaaaviiiing!\nsave = saving_file(file, file_name, save_dir)",
      "execution_count": 9,
      "outputs": []
    },
    {
      "metadata": {
        "trusted": true
      },
      "cell_type": "code",
      "source": "# We have some work to do... To be continued...",
      "execution_count": 10,
      "outputs": []
    },
    {
      "metadata": {
        "trusted": true
      },
      "cell_type": "code",
      "source": "",
      "execution_count": null,
      "outputs": []
    }
  ],
  "metadata": {
    "kernelspec": {
      "name": "python36",
      "display_name": "Python 3.6",
      "language": "python"
    },
    "language_info": {
      "mimetype": "text/x-python",
      "nbconvert_exporter": "python",
      "name": "python",
      "pygments_lexer": "ipython3",
      "version": "3.6.6",
      "file_extension": ".py",
      "codemirror_mode": {
        "version": 3,
        "name": "ipython"
      }
    }
  },
  "nbformat": 4,
  "nbformat_minor": 1
}