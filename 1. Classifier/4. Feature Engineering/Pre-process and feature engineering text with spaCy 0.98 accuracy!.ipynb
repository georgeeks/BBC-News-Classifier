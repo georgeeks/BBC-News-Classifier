{
  "cells": [
    {
      "metadata": {},
      "cell_type": "markdown",
      "source": "## Preprocess with spaCy"
    },
    {
      "metadata": {
        "trusted": true
      },
      "cell_type": "code",
      "source": "import os\nimport pandas as pd\nimport numpy as np\nimport glob\nimport matplotlib.pyplot as plt\nimport seaborn as sns\n%matplotlib inline",
      "execution_count": 1,
      "outputs": []
    },
    {
      "metadata": {
        "trusted": true
      },
      "cell_type": "code",
      "source": "# Loading file from path\ndef loading_file():\n    file_dir = '/home/nbuser/library/1. Classifier/3. Exploratory Data Analysis'        \n    file_list = glob.glob(file_dir + '/*.csv')\n    csv_file = file_list[1]\n    return csv_file\n\n# Import file imto Pandas DataFrame\ndef importing_file(csv_file):\n    df = pd.read_csv(csv_file, sep=\",\")\n    return df\n\n# Saving path\ndef saving_file(file, file_name, save_dir):\n    file.to_csv(os.path.join(save_dir, file_name))\n",
      "execution_count": 4,
      "outputs": []
    },
    {
      "metadata": {
        "trusted": true
      },
      "cell_type": "code",
      "source": "# Importing file + Loading  file\nnews_df = importing_file(loading_file())\n\n# Top 5 records\nnews_df.head()",
      "execution_count": 3,
      "outputs": [
        {
          "output_type": "execute_result",
          "execution_count": 3,
          "data": {
            "text/html": "<div>\n<style scoped>\n    .dataframe tbody tr th:only-of-type {\n        vertical-align: middle;\n    }\n\n    .dataframe tbody tr th {\n        vertical-align: top;\n    }\n\n    .dataframe thead th {\n        text-align: right;\n    }\n</style>\n<table border=\"1\" class=\"dataframe\">\n  <thead>\n    <tr style=\"text-align: right;\">\n      <th></th>\n      <th>file_name</th>\n      <th>title</th>\n      <th>news_text</th>\n      <th>category</th>\n    </tr>\n  </thead>\n  <tbody>\n    <tr>\n      <th>0</th>\n      <td>214.txt</td>\n      <td>Mansfield 0-1 Leyton Orient</td>\n      <td>An second-half goal from Andy Scott condemned ...</td>\n      <td>sports</td>\n    </tr>\n    <tr>\n      <th>1</th>\n      <td>303.txt</td>\n      <td>Film production 'falls' 40% in UK</td>\n      <td>The number of British films produced in the UK...</td>\n      <td>entertainment</td>\n    </tr>\n    <tr>\n      <th>2</th>\n      <td>083.txt</td>\n      <td>Hague 'given up' his PM ambition</td>\n      <td>Former Conservative leader William Hague says ...</td>\n      <td>politics</td>\n    </tr>\n    <tr>\n      <th>3</th>\n      <td>190.txt</td>\n      <td>SA return to Mauritius</td>\n      <td>Top seeds South Africa return to the scene of ...</td>\n      <td>sports</td>\n    </tr>\n    <tr>\n      <th>4</th>\n      <td>103.txt</td>\n      <td>Minimum rate for foster parents</td>\n      <td>Foster carers are to be guaranteed a minimum a...</td>\n      <td>politics</td>\n    </tr>\n  </tbody>\n</table>\n</div>",
            "text/plain": "  file_name                              title  \\\n0   214.txt        Mansfield 0-1 Leyton Orient   \n1   303.txt  Film production 'falls' 40% in UK   \n2   083.txt   Hague 'given up' his PM ambition   \n3   190.txt             SA return to Mauritius   \n4   103.txt    Minimum rate for foster parents   \n\n                                           news_text       category  \n0  An second-half goal from Andy Scott condemned ...         sports  \n1  The number of British films produced in the UK...  entertainment  \n2  Former Conservative leader William Hague says ...       politics  \n3  Top seeds South Africa return to the scene of ...         sports  \n4  Foster carers are to be guaranteed a minimum a...       politics  "
          },
          "metadata": {}
        }
      ]
    },
    {
      "metadata": {
        "trusted": true
      },
      "cell_type": "code",
      "source": "!pip install spacy\n!spacy download en",
      "execution_count": 5,
      "outputs": [
        {
          "output_type": "stream",
          "text": "Collecting spacy\n\u001b[?25l  Downloading https://files.pythonhosted.org/packages/95/9c/afd55bb35cc03e4b3dadc41dd48bc26e0678b08d59f32411735c35bda550/spacy-2.1.8-cp36-cp36m-manylinux1_x86_64.whl (30.8MB)\n\u001b[K     |████████████████████████████████| 30.9MB 5.7MB/s eta 0:00:01    |███████▏                        | 6.9MB 2.9MB/s eta 0:00:09     |██████████████████████████▍     | 25.5MB 4.3MB/s eta 0:00:02\n\u001b[?25hCollecting cymem<2.1.0,>=2.0.2 (from spacy)\n  Downloading https://files.pythonhosted.org/packages/3d/61/9b0520c28eb199a4b1ca667d96dd625bba003c14c75230195f9691975f85/cymem-2.0.2-cp36-cp36m-manylinux1_x86_64.whl\nCollecting preshed<2.1.0,>=2.0.1 (from spacy)\n\u001b[?25l  Downloading https://files.pythonhosted.org/packages/20/93/f222fb957764a283203525ef20e62008675fd0a14ffff8cc1b1490147c63/preshed-2.0.1-cp36-cp36m-manylinux1_x86_64.whl (83kB)\n\u001b[K     |████████████████████████████████| 92kB 4.3MB/s eta 0:00:011\n\u001b[?25hCollecting plac<1.0.0,>=0.9.6 (from spacy)\n  Downloading https://files.pythonhosted.org/packages/9e/9b/62c60d2f5bc135d2aa1d8c8a86aaf84edb719a59c7f11a4316259e61a298/plac-0.9.6-py2.py3-none-any.whl\nCollecting wasabi<1.1.0,>=0.2.0 (from spacy)\n  Downloading https://files.pythonhosted.org/packages/f4/c1/d76ccdd12c716be79162d934fe7de4ac8a318b9302864716dde940641a79/wasabi-0.2.2-py3-none-any.whl\nCollecting srsly<1.1.0,>=0.0.6 (from spacy)\n\u001b[?25l  Downloading https://files.pythonhosted.org/packages/8c/60/0c448942ad5bd246c7abfbb7e1a1d8ec2b013f3e9a0abf180fc52b588fe4/srsly-0.1.0-cp36-cp36m-manylinux1_x86_64.whl (181kB)\n\u001b[K     |████████████████████████████████| 184kB 15.2MB/s eta 0:00:01\n\u001b[?25hRequirement already satisfied: requests<3.0.0,>=2.13.0 in /home/nbuser/anaconda3_501/lib/python3.6/site-packages (from spacy) (2.22.0)\nCollecting murmurhash<1.1.0,>=0.28.0 (from spacy)\n  Downloading https://files.pythonhosted.org/packages/a6/e6/63f160a4fdf0e875d16b28f972083606d8d54f56cd30cb8929f9a1ee700e/murmurhash-1.0.2-cp36-cp36m-manylinux1_x86_64.whl\nCollecting blis<0.3.0,>=0.2.2 (from spacy)\n\u001b[?25l  Downloading https://files.pythonhosted.org/packages/34/46/b1d0bb71d308e820ed30316c5f0a017cb5ef5f4324bcbc7da3cf9d3b075c/blis-0.2.4-cp36-cp36m-manylinux1_x86_64.whl (3.2MB)\n\u001b[K     |████████████████████████████████| 3.2MB 4.9MB/s eta 0:00:01\n\u001b[?25hRequirement already satisfied: numpy>=1.15.0 in /home/nbuser/anaconda3_501/lib/python3.6/site-packages (from spacy) (1.16.2)\nCollecting thinc<7.1.0,>=7.0.8 (from spacy)\n\u001b[?25l  Downloading https://files.pythonhosted.org/packages/18/a5/9ace20422e7bb1bdcad31832ea85c52a09900cd4a7ce711246bfb92206ba/thinc-7.0.8-cp36-cp36m-manylinux1_x86_64.whl (2.1MB)\n\u001b[K     |████████████████████████████████| 2.1MB 7.3MB/s eta 0:00:01     |██████████████████████████▉     | 1.8MB 7.3MB/s eta 0:00:01\n\u001b[?25hRequirement already satisfied: certifi>=2017.4.17 in /home/nbuser/anaconda3_501/lib/python3.6/site-packages (from requests<3.0.0,>=2.13.0->spacy) (2018.10.15)\nRequirement already satisfied: urllib3!=1.25.0,!=1.25.1,<1.26,>=1.21.1 in /home/nbuser/anaconda3_501/lib/python3.6/site-packages (from requests<3.0.0,>=2.13.0->spacy) (1.23)\nRequirement already satisfied: idna<2.9,>=2.5 in /home/nbuser/anaconda3_501/lib/python3.6/site-packages (from requests<3.0.0,>=2.13.0->spacy) (2.7)\nRequirement already satisfied: chardet<3.1.0,>=3.0.2 in /home/nbuser/anaconda3_501/lib/python3.6/site-packages (from requests<3.0.0,>=2.13.0->spacy) (3.0.4)\nRequirement already satisfied: tqdm<5.0.0,>=4.10.0 in /home/nbuser/anaconda3_501/lib/python3.6/site-packages (from thinc<7.1.0,>=7.0.8->spacy) (4.26.0)\nInstalling collected packages: cymem, preshed, plac, wasabi, srsly, murmurhash, blis, thinc, spacy\nSuccessfully installed blis-0.2.4 cymem-2.0.2 murmurhash-1.0.2 plac-0.9.6 preshed-2.0.1 spacy-2.1.8 srsly-0.1.0 thinc-7.0.8 wasabi-0.2.2\n\u001b[33mWARNING: You are using pip version 19.2.2, however version 19.2.3 is available.\nYou should consider upgrading via the 'pip install --upgrade pip' command.\u001b[0m\nCollecting en_core_web_sm==2.1.0 from https://github.com/explosion/spacy-models/releases/download/en_core_web_sm-2.1.0/en_core_web_sm-2.1.0.tar.gz#egg=en_core_web_sm==2.1.0\n\u001b[?25l  Downloading https://github.com/explosion/spacy-models/releases/download/en_core_web_sm-2.1.0/en_core_web_sm-2.1.0.tar.gz (11.1MB)\n\u001b[K     |████████████████████████████████| 11.1MB 4.2MB/s eta 0:00:01    |███                             | 1.1MB 1.3MB/s eta 0:00:08     |█████                           | 1.7MB 1.3MB/s eta 0:00:08     |█████████                       | 3.1MB 1.3MB/s eta 0:00:07     |█████████████▍                  | 4.6MB 1.3MB/s eta 0:00:06\n\u001b[?25hBuilding wheels for collected packages: en-core-web-sm\n  Building wheel for en-core-web-sm (setup.py) ... \u001b[?25ldone\n\u001b[?25h  Created wheel for en-core-web-sm: filename=en_core_web_sm-2.1.0-cp36-none-any.whl size=11075237 sha256=1a2d12d1b3b76f96a34f2de564c7dd397085a08436bf86de9d66e879b8ff3415\n  Stored in directory: /tmp/pip-ephem-wheel-cache-hr75fims/wheels/39/ea/3b/507f7df78be8631a7a3d7090962194cf55bc1158572c0be77f\nSuccessfully built en-core-web-sm\nInstalling collected packages: en-core-web-sm\nSuccessfully installed en-core-web-sm-2.1.0\n\u001b[33mWARNING: You are using pip version 19.2.2, however version 19.2.3 is available.\nYou should consider upgrading via the 'pip install --upgrade pip' command.\u001b[0m\n\u001b[38;5;2m✔ Download and installation successful\u001b[0m\nYou can now load the model via spacy.load('en_core_web_sm')\n\u001b[38;5;2m✔ Linking successful\u001b[0m\n/home/nbuser/anaconda3_501/lib/python3.6/site-packages/en_core_web_sm -->\n/home/nbuser/anaconda3_501/lib/python3.6/site-packages/spacy/data/en\nYou can now load the model via spacy.load('en')\n",
          "name": "stdout"
        }
      ]
    },
    {
      "metadata": {
        "trusted": true
      },
      "cell_type": "code",
      "source": "import spacy",
      "execution_count": 6,
      "outputs": []
    },
    {
      "metadata": {},
      "cell_type": "markdown",
      "source": "#### Tokenizing the Text\n"
    },
    {
      "metadata": {
        "trusted": true
      },
      "cell_type": "code",
      "source": "# Load English tokenizer, tagger, parser, NER and word vectors\nspacy.load('en')\nfrom spacy.lang.en import English\n\nnlp = English()\n\n# Create the pipeline 'sentencizer' component\nsbd = nlp.create_pipe('sentencizer')\n\n# Add the component to the pipeline\nnlp.add_pipe(sbd)\n\ntext = news_df.loc[2, 'news_text']\n\n#  \"nlp\" Object is used to create documents with linguistic annotations.\ndoc = nlp(text)\n\n# create list of sentence tokens\nsents_list = []\nfor sent in doc.sents:\n    sents_list.append(sent.text)\nprint(sents_list)",
      "execution_count": 7,
      "outputs": [
        {
          "output_type": "stream",
          "text": "['Former Conservative leader William Hague says he will not stand for the leadership again, having given up his ambition to be prime minister.', 'Mr Hague, 43, told the Daily Telegraph he would now find a life dominated by politics too \"boring\" and unfulfilling.', \"Mr Hague, who stepped down after his party's 2001 election defeat, does not rule out a return to the front bench.\", 'He also told the paper he hopes to remain MP for Richmond, North Yorks, and start a family with wife Ffion.', 'Mr Hague, who recently had published the biography of William Pitt the Younger, also said he wanted to continue writing books and speech-writing.', 'He told the newspaper: \"I don\\'t know whether I will ever go back on to the front, but don\\'t rush me.\"', 'Asked if he would stand for the leadership again, Mr Hague replied: \"No.', 'Definitely not.\"', 'His determination to stay away from a central role will disappoint some senior Conservative members, who say the party needs him.', 'Tim Collins, the shadow education secretary, said last week it would be a \"huge boost\" to the party if Mr Hague returned to the front bench.', 'Mr Hague became an MP at 27 and Leader of the Opposition at 36.', 'He said: \"I feel fortunate that, by the age of 40, I had crammed in an entire political career. \"', 'I had been in the Cabinet and been leader of the party, so now I can branch out into other things...it is a very liberating feeling.\"', 'Mr Hague added that he may have misjudged his own ambition to be prime minister. \"', 'Maybe I wasn\\'t as driven by politics as I thought I was,\" he said.']\n",
          "name": "stdout"
        }
      ]
    },
    {
      "metadata": {},
      "cell_type": "markdown",
      "source": "#### Cleaning Text Data: Removing Stopwords"
    },
    {
      "metadata": {
        "trusted": true
      },
      "cell_type": "code",
      "source": "#Stop words\n#importing stop words from English language.\nimport spacy\nspacy_stopwords = spacy.lang.en.stop_words.STOP_WORDS\n\n#Printing the total number of stop words:\nprint('Number of stop words: %d' % len(spacy_stopwords))\n\n#Printing first ten stop words:\nprint('First ten stop words: %s' % list(spacy_stopwords)[:20])",
      "execution_count": 8,
      "outputs": [
        {
          "output_type": "stream",
          "text": "Number of stop words: 326\nFirst ten stop words: ['ourselves', \"n't\", 'you', 'so', '‘re', 'due', 'whoever', 'myself', 'toward', 'an', 'nowhere', 'now', 'why', '‘ll', 'since', 'these', '’m', 'on', 'well', 'moreover']\n",
          "name": "stdout"
        }
      ]
    },
    {
      "metadata": {},
      "cell_type": "markdown",
      "source": "#### Removing Stopwords from Our Data"
    },
    {
      "metadata": {
        "trusted": true
      },
      "cell_type": "code",
      "source": "from spacy.lang.en.stop_words import STOP_WORDS\n\n#Implementation of stop words:\nfiltered_sent=[]\n\n#  \"nlp\" Object is used to create documents with linguistic annotations.\ndoc = nlp(text)\n\n# filtering stop words\nfor word in doc:\n    if word.is_stop==False:\n        filtered_sent.append(word)\nprint(\"Filtered Sentence:\",filtered_sent)",
      "execution_count": 9,
      "outputs": [
        {
          "output_type": "stream",
          "text": "Filtered Sentence: [Conservative, leader, William, Hague, says, stand, leadership, ,, having, given, ambition, prime, minister, ., Mr, Hague, ,, 43, ,, told, Daily, Telegraph, find, life, dominated, politics, \", boring, \", unfulfilling, ., Mr, Hague, ,, stepped, party, 2001, election, defeat, ,, rule, return, bench, ., told, paper, hopes, remain, MP, Richmond, ,, North, Yorks, ,, start, family, wife, Ffion, ., Mr, Hague, ,, recently, published, biography, William, Pitt, Younger, ,, said, wanted, continue, writing, books, speech, -, writing, ., told, newspaper, :, \", know, ,, rush, ., \", Asked, stand, leadership, ,, Mr, Hague, replied, :, \", ., Definitely, ., \", determination, stay, away, central, role, disappoint, senior, Conservative, members, ,, party, needs, ., Tim, Collins, ,, shadow, education, secretary, ,, said, week, \", huge, boost, \", party, Mr, Hague, returned, bench, ., Mr, Hague, MP, 27, Leader, Opposition, 36, ., said, :, \", feel, fortunate, ,, age, 40, ,, crammed, entire, political, career, ., \", Cabinet, leader, party, ,, branch, things, ..., liberating, feeling, ., \", Mr, Hague, added, misjudged, ambition, prime, minister, ., \", Maybe, driven, politics, thought, ,, \", said, .]\n",
          "name": "stdout"
        }
      ]
    },
    {
      "metadata": {},
      "cell_type": "markdown",
      "source": "### Lexicon Normalization"
    },
    {
      "metadata": {},
      "cell_type": "markdown",
      "source": "#### Lemmatization"
    },
    {
      "metadata": {
        "trusted": true
      },
      "cell_type": "code",
      "source": "# Implementing lemmatization\nlem = nlp(text)\n# finding lemma for each word\nfor word in lem:\n    print(word.text, word.lemma_)",
      "execution_count": 10,
      "outputs": [
        {
          "output_type": "stream",
          "text": "Former Former\nConservative Conservative\nleader leader\nWilliam William\nHague Hague\nsays say\nhe he\nwill will\nnot not\nstand stand\nfor for\nthe the\nleadership leadership\nagain again\n, ,\nhaving have\ngiven give\nup up\nhis his\nambition ambition\nto to\nbe be\nprime prime\nminister minister\n. .\nMr Mr\nHague Hague\n, ,\n43 43\n, ,\ntold tell\nthe the\nDaily Daily\nTelegraph Telegraph\nhe he\nwould would\nnow now\nfind find\na a\nlife life\ndominated dominate\nby by\npolitics politic\ntoo too\n\" \"\nboring bore\n\" \"\nand and\nunfulfilling unfulfilling\n. .\nMr Mr\nHague Hague\n, ,\nwho who\nstepped step\ndown down\nafter after\nhis his\nparty party\n's have\n2001 2001\nelection election\ndefeat defeat\n, ,\ndoes doe\nnot not\nrule rule\nout out\na a\nreturn return\nto to\nthe the\nfront front\nbench bench\n. .\nHe He\nalso also\ntold tell\nthe the\npaper paper\nhe he\nhopes hope\nto to\nremain remain\nMP MP\nfor for\nRichmond Richmond\n, ,\nNorth North\nYorks Yorks\n, ,\nand and\nstart start\na a\nfamily family\nwith with\nwife wife\nFfion Ffion\n. .\nMr Mr\nHague Hague\n, ,\nwho who\nrecently recently\nhad have\npublished publish\nthe the\nbiography biography\nof of\nWilliam William\nPitt Pitt\nthe the\nYounger Younger\n, ,\nalso also\nsaid say\nhe he\nwanted want\nto to\ncontinue continue\nwriting write\nbooks book\nand and\nspeech speech\n- -\nwriting write\n. .\nHe He\ntold tell\nthe the\nnewspaper newspaper\n: :\n\" \"\nI I\ndo do\nn't not\nknow know\nwhether whether\nI I\nwill will\never ever\ngo go\nback back\non on\nto to\nthe the\nfront front\n, ,\nbut but\ndo do\nn't not\nrush rush\nme me\n. .\n\" \"\nAsked Asked\nif if\nhe he\nwould would\nstand stand\nfor for\nthe the\nleadership leadership\nagain again\n, ,\nMr Mr\nHague Hague\nreplied reply\n: :\n\" \"\nNo No\n. .\nDefinitely Definitely\nnot not\n. .\n\" \"\nHis His\ndetermination determination\nto to\nstay stay\naway away\nfrom from\na a\ncentral central\nrole role\nwill will\ndisappoint disappoint\nsome some\nsenior senior\nConservative Conservative\nmembers member\n, ,\nwho who\nsay say\nthe the\nparty party\nneeds need\nhim him\n. .\nTim Tim\nCollins Collins\n, ,\nthe the\nshadow shadow\neducation education\nsecretary secretary\n, ,\nsaid say\nlast last\nweek week\nit it\nwould would\nbe be\na a\n\" \"\nhuge huge\nboost boost\n\" \"\nto to\nthe the\nparty party\nif if\nMr Mr\nHague Hague\nreturned return\nto to\nthe the\nfront front\nbench bench\n. .\nMr Mr\nHague Hague\nbecame become\nan a\nMP MP\nat at\n27 27\nand and\nLeader Leader\nof of\nthe the\nOpposition Opposition\nat at\n36 36\n. .\nHe He\nsaid say\n: :\n\" \"\nI I\nfeel feel\nfortunate fortunate\nthat that\n, ,\nby by\nthe the\nage age\nof of\n40 40\n, ,\nI I\nhad have\ncrammed cram\nin in\nan a\nentire entire\npolitical political\ncareer career\n. .\n\" \"\nI I\nhad have\nbeen be\nin in\nthe the\nCabinet Cabinet\nand and\nbeen be\nleader leader\nof of\nthe the\nparty party\n, ,\nso so\nnow now\nI I\ncan can\nbranch branch\nout out\ninto into\nother other\nthings thing\n... ...\nit it\nis be\na a\nvery very\nliberating liberate\nfeeling feel\n. .\n\" \"\nMr Mr\nHague Hague\nadded add\nthat that\nhe he\nmay may\nhave have\nmisjudged misjudge\nhis his\nown own\nambition ambition\nto to\nbe be\nprime prime\nminister minister\n. .\n\" \"\nMaybe Maybe\nI I\nwas be\nn't not\nas a\ndriven drive\nby by\npolitics politic\nas a\nI I\nthought think\nI I\nwas be\n, ,\n\" \"\nhe he\nsaid say\n. .\n",
          "name": "stdout"
        }
      ]
    },
    {
      "metadata": {},
      "cell_type": "markdown",
      "source": "#### Part of Speech (POS) Tagging"
    },
    {
      "metadata": {
        "trusted": true
      },
      "cell_type": "code",
      "source": "# POS tagging\n\n# importing the model en_core_web_sm of English for vocabluary, syntax & entities\nimport en_core_web_sm\n\n# load en_core_web_sm of English for vocabluary, syntax & entities\nnlp = en_core_web_sm.load()\n\n#  \"nlp\" Objectis used to create documents with linguistic annotations.\ndocs = nlp(text)\n\nfor word in docs:\n    print(word.text,word.pos_)",
      "execution_count": 11,
      "outputs": [
        {
          "output_type": "stream",
          "text": "Former ADJ\nConservative ADJ\nleader NOUN\nWilliam PROPN\nHague PROPN\nsays VERB\nhe PRON\nwill VERB\nnot ADV\nstand VERB\nfor ADP\nthe DET\nleadership NOUN\nagain ADV\n, PUNCT\nhaving VERB\ngiven VERB\nup PART\nhis DET\nambition NOUN\nto PART\nbe VERB\nprime ADJ\nminister NOUN\n. PUNCT\nMr PROPN\nHague PROPN\n, PUNCT\n43 NUM\n, PUNCT\ntold VERB\nthe DET\nDaily PROPN\nTelegraph PROPN\nhe PRON\nwould VERB\nnow ADV\nfind VERB\na DET\nlife NOUN\ndominated VERB\nby ADP\npolitics NOUN\ntoo ADV\n\" PUNCT\nboring ADJ\n\" PUNCT\nand CCONJ\nunfulfilling ADJ\n. PUNCT\nMr PROPN\nHague PROPN\n, PUNCT\nwho PRON\nstepped VERB\ndown ADV\nafter ADP\nhis DET\nparty NOUN\n's PART\n2001 NUM\nelection NOUN\ndefeat NOUN\n, PUNCT\ndoes VERB\nnot ADV\nrule VERB\nout PART\na DET\nreturn NOUN\nto ADP\nthe DET\nfront ADJ\nbench NOUN\n. PUNCT\nHe PRON\nalso ADV\ntold VERB\nthe DET\npaper NOUN\nhe PRON\nhopes VERB\nto PART\nremain VERB\nMP PROPN\nfor ADP\nRichmond PROPN\n, PUNCT\nNorth PROPN\nYorks PROPN\n, PUNCT\nand CCONJ\nstart VERB\na DET\nfamily NOUN\nwith ADP\nwife NOUN\nFfion PROPN\n. PUNCT\nMr PROPN\nHague PROPN\n, PUNCT\nwho PRON\nrecently ADV\nhad VERB\npublished VERB\nthe DET\nbiography NOUN\nof ADP\nWilliam PROPN\nPitt PROPN\nthe DET\nYounger PROPN\n, PUNCT\nalso ADV\nsaid VERB\nhe PRON\nwanted VERB\nto PART\ncontinue VERB\nwriting VERB\nbooks NOUN\nand CCONJ\nspeech NOUN\n- PUNCT\nwriting NOUN\n. PUNCT\nHe PRON\ntold VERB\nthe DET\nnewspaper NOUN\n: PUNCT\n\" PUNCT\nI PRON\ndo VERB\nn't ADV\nknow VERB\nwhether ADP\nI PRON\nwill VERB\never ADV\ngo VERB\nback ADV\non ADV\nto ADP\nthe DET\nfront NOUN\n, PUNCT\nbut CCONJ\ndo VERB\nn't ADV\nrush VERB\nme PRON\n. PUNCT\n\" PUNCT\nAsked VERB\nif ADP\nhe PRON\nwould VERB\nstand VERB\nfor ADP\nthe DET\nleadership NOUN\nagain ADV\n, PUNCT\nMr PROPN\nHague PROPN\nreplied VERB\n: PUNCT\n\" PUNCT\nNo INTJ\n. PUNCT\nDefinitely ADV\nnot ADV\n. PUNCT\n\" PUNCT\nHis DET\ndetermination NOUN\nto PART\nstay VERB\naway ADV\nfrom ADP\na DET\ncentral ADJ\nrole NOUN\nwill VERB\ndisappoint VERB\nsome DET\nsenior ADJ\nConservative ADJ\nmembers NOUN\n, PUNCT\nwho PRON\nsay VERB\nthe DET\nparty NOUN\nneeds VERB\nhim PRON\n. PUNCT\nTim PROPN\nCollins PROPN\n, PUNCT\nthe DET\nshadow NOUN\neducation NOUN\nsecretary NOUN\n, PUNCT\nsaid VERB\nlast ADJ\nweek NOUN\nit PRON\nwould VERB\nbe VERB\na DET\n\" PUNCT\nhuge ADJ\nboost NOUN\n\" PUNCT\nto ADP\nthe DET\nparty NOUN\nif ADP\nMr PROPN\nHague PROPN\nreturned VERB\nto ADP\nthe DET\nfront ADJ\nbench NOUN\n. PUNCT\nMr PROPN\nHague PROPN\nbecame VERB\nan DET\nMP NOUN\nat ADP\n27 NUM\nand CCONJ\nLeader PROPN\nof ADP\nthe DET\nOpposition PROPN\nat ADP\n36 NUM\n. PUNCT\nHe PRON\nsaid VERB\n: PUNCT\n\" PUNCT\nI PRON\nfeel VERB\nfortunate ADJ\nthat ADP\n, PUNCT\nby ADP\nthe DET\nage NOUN\nof ADP\n40 NUM\n, PUNCT\nI PRON\nhad VERB\ncrammed VERB\nin ADP\nan DET\nentire ADJ\npolitical ADJ\ncareer NOUN\n. PUNCT\n\" PUNCT\nI PRON\nhad VERB\nbeen VERB\nin ADP\nthe DET\nCabinet PROPN\nand CCONJ\nbeen VERB\nleader NOUN\nof ADP\nthe DET\nparty NOUN\n, PUNCT\nso ADV\nnow ADV\nI PRON\ncan VERB\nbranch VERB\nout PART\ninto ADP\nother ADJ\nthings NOUN\n... PUNCT\nit PRON\nis VERB\na DET\nvery ADV\nliberating ADJ\nfeeling NOUN\n. PUNCT\n\" PUNCT\nMr PROPN\nHague PROPN\nadded VERB\nthat ADP\nhe PRON\nmay VERB\nhave VERB\nmisjudged VERB\nhis DET\nown ADJ\nambition NOUN\nto PART\nbe VERB\nprime ADJ\nminister NOUN\n. PUNCT\n\" PUNCT\nMaybe ADV\nI PRON\nwas VERB\nn't ADV\nas ADV\ndriven VERB\nby ADP\npolitics NOUN\nas ADP\nI PRON\nthought VERB\nI PRON\nwas VERB\n, PUNCT\n\" PUNCT\nhe PRON\nsaid VERB\n. PUNCT\n",
          "name": "stdout"
        }
      ]
    },
    {
      "metadata": {},
      "cell_type": "markdown",
      "source": "#### Entity Detection"
    },
    {
      "metadata": {
        "trusted": true
      },
      "cell_type": "code",
      "source": "#for visualization of Entity detection importing displacy from spacy:\n\nfrom spacy import displacy\n\nbbc= nlp(text)\n\nentities=[(i, i.label_, i.label) for i in bbc.ents]\nentities",
      "execution_count": 12,
      "outputs": [
        {
          "output_type": "execute_result",
          "execution_count": 12,
          "data": {
            "text/plain": "[(Conservative, 'ORG', 383),\n (William Hague, 'PERSON', 380),\n (Mr Hague, 'PERSON', 380),\n (43, 'DATE', 391),\n (the Daily Telegraph, 'ORG', 383),\n (Mr Hague, 'PERSON', 380),\n (2001, 'DATE', 391),\n (Richmond, 'GPE', 384),\n (North Yorks, 'GPE', 384),\n (Ffion, 'PERSON', 380),\n (Mr Hague, 'PERSON', 380),\n (William Pitt the Younger, 'PERSON', 380),\n (Mr Hague, 'PERSON', 380),\n (Conservative, 'NORP', 381),\n (Tim Collins, 'PERSON', 380),\n (last week, 'DATE', 391),\n (Mr Hague, 'PERSON', 380),\n (Mr Hague, 'PERSON', 380),\n (27, 'CARDINAL', 397),\n (36, 'CARDINAL', 397),\n (the age of 40, 'DATE', 391),\n (Cabinet, 'ORG', 383),\n (Mr Hague, 'ORG', 383)]"
          },
          "metadata": {}
        }
      ]
    },
    {
      "metadata": {
        "trusted": true
      },
      "cell_type": "code",
      "source": "displacy.render(bbc, style = \"ent\",jupyter = True)",
      "execution_count": 13,
      "outputs": [
        {
          "output_type": "display_data",
          "data": {
            "text/html": "<div class=\"entities\" style=\"line-height: 2.5; direction: ltr\">Former \n<mark class=\"entity\" style=\"background: #7aecec; padding: 0.45em 0.6em; margin: 0 0.25em; line-height: 1; border-radius: 0.35em; box-decoration-break: clone; -webkit-box-decoration-break: clone\">\n    Conservative\n    <span style=\"font-size: 0.8em; font-weight: bold; line-height: 1; border-radius: 0.35em; text-transform: uppercase; vertical-align: middle; margin-left: 0.5rem\">ORG</span>\n</mark>\n leader \n<mark class=\"entity\" style=\"background: #aa9cfc; padding: 0.45em 0.6em; margin: 0 0.25em; line-height: 1; border-radius: 0.35em; box-decoration-break: clone; -webkit-box-decoration-break: clone\">\n    William Hague\n    <span style=\"font-size: 0.8em; font-weight: bold; line-height: 1; border-radius: 0.35em; text-transform: uppercase; vertical-align: middle; margin-left: 0.5rem\">PERSON</span>\n</mark>\n says he will not stand for the leadership again, having given up his ambition to be prime minister.\n<mark class=\"entity\" style=\"background: #aa9cfc; padding: 0.45em 0.6em; margin: 0 0.25em; line-height: 1; border-radius: 0.35em; box-decoration-break: clone; -webkit-box-decoration-break: clone\">\n    Mr Hague\n    <span style=\"font-size: 0.8em; font-weight: bold; line-height: 1; border-radius: 0.35em; text-transform: uppercase; vertical-align: middle; margin-left: 0.5rem\">PERSON</span>\n</mark>\n, \n<mark class=\"entity\" style=\"background: #bfe1d9; padding: 0.45em 0.6em; margin: 0 0.25em; line-height: 1; border-radius: 0.35em; box-decoration-break: clone; -webkit-box-decoration-break: clone\">\n    43\n    <span style=\"font-size: 0.8em; font-weight: bold; line-height: 1; border-radius: 0.35em; text-transform: uppercase; vertical-align: middle; margin-left: 0.5rem\">DATE</span>\n</mark>\n, told \n<mark class=\"entity\" style=\"background: #7aecec; padding: 0.45em 0.6em; margin: 0 0.25em; line-height: 1; border-radius: 0.35em; box-decoration-break: clone; -webkit-box-decoration-break: clone\">\n    the Daily Telegraph\n    <span style=\"font-size: 0.8em; font-weight: bold; line-height: 1; border-radius: 0.35em; text-transform: uppercase; vertical-align: middle; margin-left: 0.5rem\">ORG</span>\n</mark>\n he would now find a life dominated by politics too &quot;boring&quot; and unfulfilling. \n<mark class=\"entity\" style=\"background: #aa9cfc; padding: 0.45em 0.6em; margin: 0 0.25em; line-height: 1; border-radius: 0.35em; box-decoration-break: clone; -webkit-box-decoration-break: clone\">\n    Mr Hague\n    <span style=\"font-size: 0.8em; font-weight: bold; line-height: 1; border-radius: 0.35em; text-transform: uppercase; vertical-align: middle; margin-left: 0.5rem\">PERSON</span>\n</mark>\n, who stepped down after his party's \n<mark class=\"entity\" style=\"background: #bfe1d9; padding: 0.45em 0.6em; margin: 0 0.25em; line-height: 1; border-radius: 0.35em; box-decoration-break: clone; -webkit-box-decoration-break: clone\">\n    2001\n    <span style=\"font-size: 0.8em; font-weight: bold; line-height: 1; border-radius: 0.35em; text-transform: uppercase; vertical-align: middle; margin-left: 0.5rem\">DATE</span>\n</mark>\n election defeat, does not rule out a return to the front bench. He also told the paper he hopes to remain MP for \n<mark class=\"entity\" style=\"background: #feca74; padding: 0.45em 0.6em; margin: 0 0.25em; line-height: 1; border-radius: 0.35em; box-decoration-break: clone; -webkit-box-decoration-break: clone\">\n    Richmond\n    <span style=\"font-size: 0.8em; font-weight: bold; line-height: 1; border-radius: 0.35em; text-transform: uppercase; vertical-align: middle; margin-left: 0.5rem\">GPE</span>\n</mark>\n, \n<mark class=\"entity\" style=\"background: #feca74; padding: 0.45em 0.6em; margin: 0 0.25em; line-height: 1; border-radius: 0.35em; box-decoration-break: clone; -webkit-box-decoration-break: clone\">\n    North Yorks\n    <span style=\"font-size: 0.8em; font-weight: bold; line-height: 1; border-radius: 0.35em; text-transform: uppercase; vertical-align: middle; margin-left: 0.5rem\">GPE</span>\n</mark>\n, and start a family with wife \n<mark class=\"entity\" style=\"background: #aa9cfc; padding: 0.45em 0.6em; margin: 0 0.25em; line-height: 1; border-radius: 0.35em; box-decoration-break: clone; -webkit-box-decoration-break: clone\">\n    Ffion\n    <span style=\"font-size: 0.8em; font-weight: bold; line-height: 1; border-radius: 0.35em; text-transform: uppercase; vertical-align: middle; margin-left: 0.5rem\">PERSON</span>\n</mark>\n. \n<mark class=\"entity\" style=\"background: #aa9cfc; padding: 0.45em 0.6em; margin: 0 0.25em; line-height: 1; border-radius: 0.35em; box-decoration-break: clone; -webkit-box-decoration-break: clone\">\n    Mr Hague\n    <span style=\"font-size: 0.8em; font-weight: bold; line-height: 1; border-radius: 0.35em; text-transform: uppercase; vertical-align: middle; margin-left: 0.5rem\">PERSON</span>\n</mark>\n, who recently had published the biography of \n<mark class=\"entity\" style=\"background: #aa9cfc; padding: 0.45em 0.6em; margin: 0 0.25em; line-height: 1; border-radius: 0.35em; box-decoration-break: clone; -webkit-box-decoration-break: clone\">\n    William Pitt the Younger\n    <span style=\"font-size: 0.8em; font-weight: bold; line-height: 1; border-radius: 0.35em; text-transform: uppercase; vertical-align: middle; margin-left: 0.5rem\">PERSON</span>\n</mark>\n, also said he wanted to continue writing books and speech-writing.He told the newspaper: &quot;I don't know whether I will ever go back on to the front, but don't rush me.&quot; Asked if he would stand for the leadership again, \n<mark class=\"entity\" style=\"background: #aa9cfc; padding: 0.45em 0.6em; margin: 0 0.25em; line-height: 1; border-radius: 0.35em; box-decoration-break: clone; -webkit-box-decoration-break: clone\">\n    Mr Hague\n    <span style=\"font-size: 0.8em; font-weight: bold; line-height: 1; border-radius: 0.35em; text-transform: uppercase; vertical-align: middle; margin-left: 0.5rem\">PERSON</span>\n</mark>\n replied: &quot;No. Definitely not.&quot; His determination to stay away from a central role will disappoint some senior \n<mark class=\"entity\" style=\"background: #c887fb; padding: 0.45em 0.6em; margin: 0 0.25em; line-height: 1; border-radius: 0.35em; box-decoration-break: clone; -webkit-box-decoration-break: clone\">\n    Conservative\n    <span style=\"font-size: 0.8em; font-weight: bold; line-height: 1; border-radius: 0.35em; text-transform: uppercase; vertical-align: middle; margin-left: 0.5rem\">NORP</span>\n</mark>\n members, who say the party needs him. \n<mark class=\"entity\" style=\"background: #aa9cfc; padding: 0.45em 0.6em; margin: 0 0.25em; line-height: 1; border-radius: 0.35em; box-decoration-break: clone; -webkit-box-decoration-break: clone\">\n    Tim Collins\n    <span style=\"font-size: 0.8em; font-weight: bold; line-height: 1; border-radius: 0.35em; text-transform: uppercase; vertical-align: middle; margin-left: 0.5rem\">PERSON</span>\n</mark>\n, the shadow education secretary, said \n<mark class=\"entity\" style=\"background: #bfe1d9; padding: 0.45em 0.6em; margin: 0 0.25em; line-height: 1; border-radius: 0.35em; box-decoration-break: clone; -webkit-box-decoration-break: clone\">\n    last week\n    <span style=\"font-size: 0.8em; font-weight: bold; line-height: 1; border-radius: 0.35em; text-transform: uppercase; vertical-align: middle; margin-left: 0.5rem\">DATE</span>\n</mark>\n it would be a &quot;huge boost&quot; to the party if \n<mark class=\"entity\" style=\"background: #aa9cfc; padding: 0.45em 0.6em; margin: 0 0.25em; line-height: 1; border-radius: 0.35em; box-decoration-break: clone; -webkit-box-decoration-break: clone\">\n    Mr Hague\n    <span style=\"font-size: 0.8em; font-weight: bold; line-height: 1; border-radius: 0.35em; text-transform: uppercase; vertical-align: middle; margin-left: 0.5rem\">PERSON</span>\n</mark>\n returned to the front bench. \n<mark class=\"entity\" style=\"background: #aa9cfc; padding: 0.45em 0.6em; margin: 0 0.25em; line-height: 1; border-radius: 0.35em; box-decoration-break: clone; -webkit-box-decoration-break: clone\">\n    Mr Hague\n    <span style=\"font-size: 0.8em; font-weight: bold; line-height: 1; border-radius: 0.35em; text-transform: uppercase; vertical-align: middle; margin-left: 0.5rem\">PERSON</span>\n</mark>\n became an MP at \n<mark class=\"entity\" style=\"background: #e4e7d2; padding: 0.45em 0.6em; margin: 0 0.25em; line-height: 1; border-radius: 0.35em; box-decoration-break: clone; -webkit-box-decoration-break: clone\">\n    27\n    <span style=\"font-size: 0.8em; font-weight: bold; line-height: 1; border-radius: 0.35em; text-transform: uppercase; vertical-align: middle; margin-left: 0.5rem\">CARDINAL</span>\n</mark>\n and Leader of the Opposition at \n<mark class=\"entity\" style=\"background: #e4e7d2; padding: 0.45em 0.6em; margin: 0 0.25em; line-height: 1; border-radius: 0.35em; box-decoration-break: clone; -webkit-box-decoration-break: clone\">\n    36\n    <span style=\"font-size: 0.8em; font-weight: bold; line-height: 1; border-radius: 0.35em; text-transform: uppercase; vertical-align: middle; margin-left: 0.5rem\">CARDINAL</span>\n</mark>\n. He said: &quot;I feel fortunate that, by \n<mark class=\"entity\" style=\"background: #bfe1d9; padding: 0.45em 0.6em; margin: 0 0.25em; line-height: 1; border-radius: 0.35em; box-decoration-break: clone; -webkit-box-decoration-break: clone\">\n    the age of 40\n    <span style=\"font-size: 0.8em; font-weight: bold; line-height: 1; border-radius: 0.35em; text-transform: uppercase; vertical-align: middle; margin-left: 0.5rem\">DATE</span>\n</mark>\n, I had crammed in an entire political career. &quot;I had been in the \n<mark class=\"entity\" style=\"background: #7aecec; padding: 0.45em 0.6em; margin: 0 0.25em; line-height: 1; border-radius: 0.35em; box-decoration-break: clone; -webkit-box-decoration-break: clone\">\n    Cabinet\n    <span style=\"font-size: 0.8em; font-weight: bold; line-height: 1; border-radius: 0.35em; text-transform: uppercase; vertical-align: middle; margin-left: 0.5rem\">ORG</span>\n</mark>\n and been leader of the party, so now I can branch out into other things...it is a very liberating feeling.&quot; \n<mark class=\"entity\" style=\"background: #7aecec; padding: 0.45em 0.6em; margin: 0 0.25em; line-height: 1; border-radius: 0.35em; box-decoration-break: clone; -webkit-box-decoration-break: clone\">\n    Mr Hague\n    <span style=\"font-size: 0.8em; font-weight: bold; line-height: 1; border-radius: 0.35em; text-transform: uppercase; vertical-align: middle; margin-left: 0.5rem\">ORG</span>\n</mark>\n added that he may have misjudged his own ambition to be prime minister. &quot;Maybe I wasn't as driven by politics as I thought I was,&quot; he said.</div>",
            "text/plain": "<IPython.core.display.HTML object>"
          },
          "metadata": {}
        }
      ]
    },
    {
      "metadata": {},
      "cell_type": "markdown",
      "source": "#### Dependency Parsing"
    },
    {
      "metadata": {
        "trusted": true
      },
      "cell_type": "code",
      "source": "docp = nlp (text)\n\nfor chunk in docp.noun_chunks:\n   print(chunk.text, chunk.root.text, chunk.root.dep_,\n          chunk.root.head.text)",
      "execution_count": 14,
      "outputs": [
        {
          "output_type": "stream",
          "text": "Former Conservative leader William Hague Hague nsubj says\nhe he nsubj stand\nthe leadership leadership pobj for\nhis ambition ambition dobj given\nprime minister minister attr be\nMr Hague Hague nsubj told\nthe Daily Telegraph Telegraph dobj told\nhe he nsubj find\na life life dobj find\npolitics politics pobj by\nMr Hague Hague nsubj rule\nwho who nsubj stepped\nhis party's 2001 election defeat defeat pobj after\na return return dobj rule\nthe front bench bench pobj to\nHe He nsubj told\nthe paper paper dobj told\nhe he nsubj hopes\nMP MP attr remain\nRichmond Richmond pobj for\nNorth Yorks Yorks appos Richmond\na family family dobj start\nwife Ffion Ffion pobj with\nMr Hague Hague nsubj said\nwho who nsubj published\nthe biography biography dobj published\nWilliam Pitt Pitt pobj of\nthe Younger Younger appos Pitt\nhe he nsubj wanted\nbooks books dobj writing\nspeech-writing writing conj books\nHe He nsubj told\nthe newspaper newspaper dobj told\n\"I I nsubj know\nI I nsubj go\nthe front front pobj to\nme me dobj rush\nhe he nsubj stand\nthe leadership leadership pobj for\nMr Hague Hague nsubj replied\nHis determination determination nsubj disappoint\na central role role pobj from\nsome senior Conservative members members dobj disappoint\nwho who nsubj say\nthe party party nsubj needs\nhim him dobj needs\nTim Collins Collins nsubj said\nthe shadow education secretary secretary appos Collins\nit it nsubj be\na \"huge boost boost attr be\nthe party party pobj to\nMr Hague Hague nsubj returned\nthe front bench bench pobj to\nMr Hague Hague nsubj became\nan MP MP attr became\nLeader Leader conj became\nthe Opposition Opposition pobj of\nHe He nsubj said\n\"I I nsubj feel\nthe age age pobj by\nI I nsubj crammed\nan entire political career career pobj in\nI I nsubj been\nthe Cabinet Cabinet pobj in\nleader leader attr been\nthe party party pobj of\nI I nsubj branch\nother things things pobj into\nit it nsubj is\na very liberating feeling feeling attr is\nMr Hague Hague nsubj added\nhe he nsubj misjudged\nhis own ambition ambition dobj misjudged\nprime minister minister attr be\nI I nsubj was\npolitics politics pobj by\nI I nsubj thought\nI I nsubj was\nhe he nsubj said\n",
          "name": "stdout"
        }
      ]
    },
    {
      "metadata": {},
      "cell_type": "markdown",
      "source": "### SpaCy Text Classification"
    },
    {
      "metadata": {
        "trusted": true
      },
      "cell_type": "markdown",
      "source": "#### Importing Libraries"
    },
    {
      "metadata": {
        "trusted": true
      },
      "cell_type": "code",
      "source": "import pandas as pd\nfrom sklearn.feature_extraction.text import CountVectorizer,TfidfVectorizer\nfrom sklearn.base import TransformerMixin\nfrom sklearn.pipeline import Pipeline",
      "execution_count": 15,
      "outputs": []
    },
    {
      "metadata": {
        "trusted": true
      },
      "cell_type": "markdown",
      "source": "#### Tokening the Data With spaCy"
    },
    {
      "metadata": {
        "trusted": true
      },
      "cell_type": "code",
      "source": "import string\nfrom spacy.lang.en.stop_words import STOP_WORDS\nfrom spacy.lang.en import English\n\n# Create our list of punctuation marks\npunctuations = string.punctuation\n\n# Create our list of stopwords\nnlp = spacy.load('en')\nstop_words = spacy.lang.en.stop_words.STOP_WORDS\n\n# Load English tokenizer, tagger, parser, NER and word vectors\nparser = English()\n\n# Creating our tokenizer function\ndef spacy_tokenizer(sentence):\n    # Creating our token object, which is used to create documents with linguistic annotations.\n    mytokens = parser(sentence)\n\n    # Lemmatizing each token and converting each token into lowercase\n    mytokens = [ word.lemma_.lower().strip() if word.lemma_ != \"-PRON-\" else word.lower_ for word in mytokens ]\n\n    # Removing stop words\n    mytokens = [ word for word in mytokens if word not in stop_words and word not in punctuations ]\n\n    # return preprocessed list of tokens\n    return mytokens",
      "execution_count": 16,
      "outputs": []
    },
    {
      "metadata": {},
      "cell_type": "markdown",
      "source": "#### Defining a Custom Transformer"
    },
    {
      "metadata": {
        "trusted": true
      },
      "cell_type": "code",
      "source": "# Custom transformer using spaCy\nclass predictors(TransformerMixin):\n    def transform(self, X, **transform_params):\n        # Cleaning Text\n        return [clean_text(text) for text in X]\n\n    def fit(self, X, y=None, **fit_params):\n        return self\n\n    def get_params(self, deep=True):\n        return {}\n\n# Basic function to clean the text\ndef clean_text(text):\n    # Removing spaces and converting text into lowercase\n    return text.strip().lower()",
      "execution_count": 17,
      "outputs": []
    },
    {
      "metadata": {},
      "cell_type": "markdown",
      "source": "#### Vectorization Feature Engineering (TF-IDF)"
    },
    {
      "metadata": {
        "trusted": true
      },
      "cell_type": "code",
      "source": "bow_vector = CountVectorizer(tokenizer = spacy_tokenizer, ngram_range=(1,1), binary=False)",
      "execution_count": 18,
      "outputs": []
    },
    {
      "metadata": {
        "trusted": true
      },
      "cell_type": "code",
      "source": "tfidf_vector = TfidfVectorizer(tokenizer = spacy_tokenizer)",
      "execution_count": 19,
      "outputs": []
    },
    {
      "metadata": {},
      "cell_type": "markdown",
      "source": "#### Splitting The Data into Training and Test Sets"
    },
    {
      "metadata": {
        "trusted": true
      },
      "cell_type": "code",
      "source": "from sklearn.model_selection import train_test_split\n\nX = news_df['news_text'] # the features we want to analyze\ny = news_df['category'] # the labels, or answers, we want to test against\n\nX_train, X_test, y_train, y_test = train_test_split(X, y, test_size=0.3)",
      "execution_count": 20,
      "outputs": []
    },
    {
      "metadata": {},
      "cell_type": "markdown",
      "source": "#### Creating a Pipeline and Generating the Model"
    },
    {
      "metadata": {
        "trusted": true
      },
      "cell_type": "code",
      "source": "# Logistic Regression Classifier\nfrom sklearn.linear_model import LogisticRegression\nclassifier = LogisticRegression()\n\n# Create pipeline using Bag of Words\npipe = Pipeline([(\"cleaner\", predictors()),\n                 ('vectorizer', bow_vector),\n                 ('classifier', classifier)])\n\n# model generation\npipe.fit(X_train,y_train)",
      "execution_count": 21,
      "outputs": [
        {
          "output_type": "stream",
          "text": "/home/nbuser/anaconda3_501/lib/python3.6/site-packages/sklearn/linear_model/logistic.py:433: FutureWarning: Default solver will be changed to 'lbfgs' in 0.22. Specify a solver to silence this warning.\n  FutureWarning)\n/home/nbuser/anaconda3_501/lib/python3.6/site-packages/sklearn/linear_model/logistic.py:460: FutureWarning: Default multi_class will be changed to 'auto' in 0.22. Specify the multi_class option to silence this warning.\n  \"this warning.\", FutureWarning)\n",
          "name": "stderr"
        },
        {
          "output_type": "execute_result",
          "execution_count": 21,
          "data": {
            "text/plain": "Pipeline(memory=None,\n     steps=[('cleaner', <__main__.predictors object at 0x7f068f444240>), ('vectorizer', CountVectorizer(analyzer='word', binary=False, decode_error='strict',\n        dtype=<class 'numpy.int64'>, encoding='utf-8', input='content',\n        lowercase=True, max_df=1.0, max_features=None, min_df=1,\n        ng...penalty='l2', random_state=None, solver='warn',\n          tol=0.0001, verbose=0, warm_start=False))])"
          },
          "metadata": {}
        }
      ]
    },
    {
      "metadata": {},
      "cell_type": "markdown",
      "source": "#### Evaluating the Model"
    },
    {
      "metadata": {
        "trusted": true
      },
      "cell_type": "code",
      "source": "from sklearn import metrics\n# Predicting with a test dataset\npredicted = pipe.predict(X_test)\n\n\n# Model Accuracy\n\n# Accuracy refers to the percentage of the total predictions our model makes that are completely correct.\nprint(\"Logistic Regression Accuracy:\",metrics.accuracy_score(y_test, predicted))\n\n# Precision describes the ratio of true positives to true positives plus false positives in our predictions.\nprint(\"Logistic Regression Precision:\",metrics.precision_score(y_test, predicted, average='weighted'))\n\n# Recall describes the ratio of true positives to true positives plus false negatives in our predictions.\nprint(\"Logistic Regression Recall:\",metrics.recall_score(y_test, predicted, average='weighted'))",
      "execution_count": 22,
      "outputs": [
        {
          "output_type": "stream",
          "text": "Logistic Regression Accuracy: 0.9402985074626866\nLogistic Regression Precision: 0.9489092996555684\nLogistic Regression Recall: 0.9402985074626866\n",
          "name": "stdout"
        }
      ]
    },
    {
      "metadata": {},
      "cell_type": "markdown",
      "source": "### Testing on validation dataset"
    },
    {
      "metadata": {
        "trusted": true
      },
      "cell_type": "code",
      "source": "# Import new data\nos.chdir('/home/nbuser/library/1. Classifier/3. Exploratory Data Analysis')\nnew_data = pd.read_csv('news_df_validation.csv')\nnew_data.head()",
      "execution_count": 23,
      "outputs": [
        {
          "output_type": "execute_result",
          "execution_count": 23,
          "data": {
            "text/html": "<div>\n<style scoped>\n    .dataframe tbody tr th:only-of-type {\n        vertical-align: middle;\n    }\n\n    .dataframe tbody tr th {\n        vertical-align: top;\n    }\n\n    .dataframe thead th {\n        text-align: right;\n    }\n</style>\n<table border=\"1\" class=\"dataframe\">\n  <thead>\n    <tr style=\"text-align: right;\">\n      <th></th>\n      <th>file_name</th>\n      <th>title</th>\n      <th>news_text</th>\n      <th>category</th>\n    </tr>\n  </thead>\n  <tbody>\n    <tr>\n      <th>0</th>\n      <td>214.txt</td>\n      <td>Mansfield 0-1 Leyton Orient</td>\n      <td>An second-half goal from Andy Scott condemned ...</td>\n      <td>sports</td>\n    </tr>\n    <tr>\n      <th>1</th>\n      <td>303.txt</td>\n      <td>Film production 'falls' 40% in UK</td>\n      <td>The number of British films produced in the UK...</td>\n      <td>entertainment</td>\n    </tr>\n    <tr>\n      <th>2</th>\n      <td>083.txt</td>\n      <td>Hague 'given up' his PM ambition</td>\n      <td>Former Conservative leader William Hague says ...</td>\n      <td>politics</td>\n    </tr>\n    <tr>\n      <th>3</th>\n      <td>190.txt</td>\n      <td>SA return to Mauritius</td>\n      <td>Top seeds South Africa return to the scene of ...</td>\n      <td>sports</td>\n    </tr>\n    <tr>\n      <th>4</th>\n      <td>103.txt</td>\n      <td>Minimum rate for foster parents</td>\n      <td>Foster carers are to be guaranteed a minimum a...</td>\n      <td>politics</td>\n    </tr>\n  </tbody>\n</table>\n</div>",
            "text/plain": "  file_name                              title  \\\n0   214.txt        Mansfield 0-1 Leyton Orient   \n1   303.txt  Film production 'falls' 40% in UK   \n2   083.txt   Hague 'given up' his PM ambition   \n3   190.txt             SA return to Mauritius   \n4   103.txt    Minimum rate for foster parents   \n\n                                           news_text       category  \n0  An second-half goal from Andy Scott condemned ...         sports  \n1  The number of British films produced in the UK...  entertainment  \n2  Former Conservative leader William Hague says ...       politics  \n3  Top seeds South Africa return to the scene of ...         sports  \n4  Foster carers are to be guaranteed a minimum a...       politics  "
          },
          "metadata": {}
        }
      ]
    },
    {
      "metadata": {
        "trusted": true
      },
      "cell_type": "code",
      "source": "new_data_pred =pipe.predict(new_data['news_text'])",
      "execution_count": 24,
      "outputs": []
    },
    {
      "metadata": {
        "trusted": true
      },
      "cell_type": "code",
      "source": "new_data_cat = new_data['category']",
      "execution_count": 25,
      "outputs": []
    },
    {
      "metadata": {
        "trusted": true
      },
      "cell_type": "code",
      "source": "print(\"Logistic Regression Accuracy:\",metrics.accuracy_score(new_data_cat, new_data_pred))\n\n# Precision describes the ratio of true positives to true positives plus false positives in our predictions.\nprint(\"Logistic Regression Precision:\",metrics.precision_score(new_data_cat, new_data_pred, average='weighted'))\n\n# Recall describes the ratio of true positives to true positives plus false negatives in our predictions.\nprint(\"Logistic Regression Recall:\",metrics.recall_score(new_data_cat, new_data_pred, average='weighted'))",
      "execution_count": 27,
      "outputs": [
        {
          "output_type": "stream",
          "text": "Logistic Regression Accuracy: 0.9819819819819819\nLogistic Regression Precision: 0.9828535364249649\nLogistic Regression Recall: 0.9819819819819819\n",
          "name": "stdout"
        }
      ]
    },
    {
      "metadata": {
        "trusted": true
      },
      "cell_type": "markdown",
      "source": "## Vezi average='none' - toate clasele, average='macro'\n"
    },
    {
      "metadata": {
        "trusted": true
      },
      "cell_type": "code",
      "source": "",
      "execution_count": null,
      "outputs": []
    }
  ],
  "metadata": {
    "kernelspec": {
      "name": "python36",
      "display_name": "Python 3.6",
      "language": "python"
    },
    "language_info": {
      "mimetype": "text/x-python",
      "nbconvert_exporter": "python",
      "name": "python",
      "pygments_lexer": "ipython3",
      "version": "3.6.6",
      "file_extension": ".py",
      "codemirror_mode": {
        "version": 3,
        "name": "ipython"
      }
    }
  },
  "nbformat": 4,
  "nbformat_minor": 1
}