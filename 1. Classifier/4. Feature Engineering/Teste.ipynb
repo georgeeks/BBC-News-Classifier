{
  "cells": [
    {
      "metadata": {
        "trusted": true
      },
      "cell_type": "code",
      "source": "import os\nimport pandas as pd\nimport numpy as np\nimport glob\nimport matplotlib.pyplot as plt\nimport seaborn as sns\n%matplotlib inline",
      "execution_count": 1,
      "outputs": []
    },
    {
      "metadata": {
        "trusted": true
      },
      "cell_type": "code",
      "source": "# Import `fake_or_real_news.csv` \ndf = pd.read_csv(\"https://s3.amazonaws.com/assets.datacamp.com/blog_assets/fake_or_real_news.csv\")\n    \n# Inspect shape of `df` \ndf.shape\n\n# Print first lines of `df`\ndf.head()",
      "execution_count": 2,
      "outputs": [
        {
          "output_type": "execute_result",
          "execution_count": 2,
          "data": {
            "text/html": "<div>\n<style scoped>\n    .dataframe tbody tr th:only-of-type {\n        vertical-align: middle;\n    }\n\n    .dataframe tbody tr th {\n        vertical-align: top;\n    }\n\n    .dataframe thead th {\n        text-align: right;\n    }\n</style>\n<table border=\"1\" class=\"dataframe\">\n  <thead>\n    <tr style=\"text-align: right;\">\n      <th></th>\n      <th>Unnamed: 0</th>\n      <th>title</th>\n      <th>text</th>\n      <th>label</th>\n    </tr>\n  </thead>\n  <tbody>\n    <tr>\n      <th>0</th>\n      <td>8476</td>\n      <td>You Can Smell Hillary’s Fear</td>\n      <td>Daniel Greenfield, a Shillman Journalism Fello...</td>\n      <td>FAKE</td>\n    </tr>\n    <tr>\n      <th>1</th>\n      <td>10294</td>\n      <td>Watch The Exact Moment Paul Ryan Committed Pol...</td>\n      <td>Google Pinterest Digg Linkedin Reddit Stumbleu...</td>\n      <td>FAKE</td>\n    </tr>\n    <tr>\n      <th>2</th>\n      <td>3608</td>\n      <td>Kerry to go to Paris in gesture of sympathy</td>\n      <td>U.S. Secretary of State John F. Kerry said Mon...</td>\n      <td>REAL</td>\n    </tr>\n    <tr>\n      <th>3</th>\n      <td>10142</td>\n      <td>Bernie supporters on Twitter erupt in anger ag...</td>\n      <td>— Kaydee King (@KaydeeKing) November 9, 2016 T...</td>\n      <td>FAKE</td>\n    </tr>\n    <tr>\n      <th>4</th>\n      <td>875</td>\n      <td>The Battle of New York: Why This Primary Matters</td>\n      <td>It's primary day in New York and front-runners...</td>\n      <td>REAL</td>\n    </tr>\n  </tbody>\n</table>\n</div>",
            "text/plain": "   Unnamed: 0                                              title  \\\n0        8476                       You Can Smell Hillary’s Fear   \n1       10294  Watch The Exact Moment Paul Ryan Committed Pol...   \n2        3608        Kerry to go to Paris in gesture of sympathy   \n3       10142  Bernie supporters on Twitter erupt in anger ag...   \n4         875   The Battle of New York: Why This Primary Matters   \n\n                                                text label  \n0  Daniel Greenfield, a Shillman Journalism Fello...  FAKE  \n1  Google Pinterest Digg Linkedin Reddit Stumbleu...  FAKE  \n2  U.S. Secretary of State John F. Kerry said Mon...  REAL  \n3  — Kaydee King (@KaydeeKing) November 9, 2016 T...  FAKE  \n4  It's primary day in New York and front-runners...  REAL  "
          },
          "metadata": {}
        }
      ]
    },
    {
      "metadata": {
        "trusted": true
      },
      "cell_type": "code",
      "source": "# Set index\ndf = df.set_index(\"Unnamed: 0\") \n\n# Print first lines of `df` \ndf.head()",
      "execution_count": 3,
      "outputs": [
        {
          "output_type": "execute_result",
          "execution_count": 3,
          "data": {
            "text/html": "<div>\n<style scoped>\n    .dataframe tbody tr th:only-of-type {\n        vertical-align: middle;\n    }\n\n    .dataframe tbody tr th {\n        vertical-align: top;\n    }\n\n    .dataframe thead th {\n        text-align: right;\n    }\n</style>\n<table border=\"1\" class=\"dataframe\">\n  <thead>\n    <tr style=\"text-align: right;\">\n      <th></th>\n      <th>title</th>\n      <th>text</th>\n      <th>label</th>\n    </tr>\n    <tr>\n      <th>Unnamed: 0</th>\n      <th></th>\n      <th></th>\n      <th></th>\n    </tr>\n  </thead>\n  <tbody>\n    <tr>\n      <th>8476</th>\n      <td>You Can Smell Hillary’s Fear</td>\n      <td>Daniel Greenfield, a Shillman Journalism Fello...</td>\n      <td>FAKE</td>\n    </tr>\n    <tr>\n      <th>10294</th>\n      <td>Watch The Exact Moment Paul Ryan Committed Pol...</td>\n      <td>Google Pinterest Digg Linkedin Reddit Stumbleu...</td>\n      <td>FAKE</td>\n    </tr>\n    <tr>\n      <th>3608</th>\n      <td>Kerry to go to Paris in gesture of sympathy</td>\n      <td>U.S. Secretary of State John F. Kerry said Mon...</td>\n      <td>REAL</td>\n    </tr>\n    <tr>\n      <th>10142</th>\n      <td>Bernie supporters on Twitter erupt in anger ag...</td>\n      <td>— Kaydee King (@KaydeeKing) November 9, 2016 T...</td>\n      <td>FAKE</td>\n    </tr>\n    <tr>\n      <th>875</th>\n      <td>The Battle of New York: Why This Primary Matters</td>\n      <td>It's primary day in New York and front-runners...</td>\n      <td>REAL</td>\n    </tr>\n  </tbody>\n</table>\n</div>",
            "text/plain": "                                                        title  \\\nUnnamed: 0                                                      \n8476                             You Can Smell Hillary’s Fear   \n10294       Watch The Exact Moment Paul Ryan Committed Pol...   \n3608              Kerry to go to Paris in gesture of sympathy   \n10142       Bernie supporters on Twitter erupt in anger ag...   \n875          The Battle of New York: Why This Primary Matters   \n\n                                                         text label  \nUnnamed: 0                                                           \n8476        Daniel Greenfield, a Shillman Journalism Fello...  FAKE  \n10294       Google Pinterest Digg Linkedin Reddit Stumbleu...  FAKE  \n3608        U.S. Secretary of State John F. Kerry said Mon...  REAL  \n10142       — Kaydee King (@KaydeeKing) November 9, 2016 T...  FAKE  \n875         It's primary day in New York and front-runners...  REAL  "
          },
          "metadata": {}
        }
      ]
    },
    {
      "metadata": {
        "trusted": true
      },
      "cell_type": "code",
      "source": "from sklearn.model_selection import train_test_split\n#Set `y` \ny = df.label\n \n# Drop the `label` column \ndf.drop(\"label\", axis=1) \n \n# Make training and test sets \nX_train, X_test, y_train, y_test = train_test_split(df['text'], y, test_size=0.33, random_state=53)",
      "execution_count": 5,
      "outputs": []
    },
    {
      "metadata": {
        "trusted": true
      },
      "cell_type": "code",
      "source": "from sklearn.feature_extraction.text import CountVectorizer\nfrom sklearn.feature_extraction.text import TfidfVectorizer\n# Initialize the `count_vectorizer` \ncount_vectorizer = CountVectorizer(stop_words='english') \n\n# Fit and transform the training data \ncount_train = count_vectorizer.fit_transform(X_train) \n\n# Transform the test set\ncount_test = count_vectorizer.transform(X_test)",
      "execution_count": 8,
      "outputs": []
    },
    {
      "metadata": {
        "trusted": true
      },
      "cell_type": "code",
      "source": "# Initialize the `tfidf_vectorizer` \ntfidf_vectorizer = TfidfVectorizer(stop_words='english', max_df=0.7) \n\n# Fit and transform the training data \ntfidf_train = tfidf_vectorizer.fit_transform(X_train) \n\n# Transform the test set \ntfidf_test = tfidf_vectorizer.transform(X_test)",
      "execution_count": 9,
      "outputs": []
    },
    {
      "metadata": {
        "trusted": true
      },
      "cell_type": "code",
      "source": "# Get the feature names of `tfidf_vectorizer` \nprint(tfidf_vectorizer.get_feature_names()[-10:])\n\n# Get the feature names of `count_vectorizer` \nprint(count_vectorizer.get_feature_names()[:10])",
      "execution_count": 10,
      "outputs": [
        {
          "output_type": "stream",
          "text": "['حلب', 'عربي', 'عن', 'لم', 'ما', 'محاولات', 'من', 'هذا', 'والمرضى', 'ยงade']\n['00', '000', '0000', '00000031', '000035', '00006', '0001', '0001pt', '000ft', '000km']\n",
          "name": "stdout"
        }
      ]
    },
    {
      "metadata": {
        "trusted": true
      },
      "cell_type": "code",
      "source": "",
      "execution_count": null,
      "outputs": []
    },
    {
      "metadata": {
        "trusted": true
      },
      "cell_type": "code",
      "source": "# Loading file from path\ndef loading_file():\n    file_dir = '/home/nbuser/library/1. Classifier/3. Exploratory Data Analysis'        \n    file_list = glob.glob(file_dir + '/*.csv')\n    csv_file = file_list[0]\n    return csv_file\n\n# Import file imto Pandas DataFrame\ndef importing_file(csv_file):\n    df = pd.read_csv(csv_file, sep=\",\")\n    return df\n\n# Saving path\ndef saving_file(file, file_name, save_dir):\n    file.to_csv(os.path.join(save_dir,file_name))",
      "execution_count": 11,
      "outputs": []
    },
    {
      "metadata": {
        "trusted": true
      },
      "cell_type": "code",
      "source": "# Importing file + Loading  file\nnews_df = importing_file(loading_file())\n\n# Top 5 records\nnews_df.head()",
      "execution_count": 31,
      "outputs": [
        {
          "output_type": "execute_result",
          "execution_count": 31,
          "data": {
            "text/html": "<div>\n<style scoped>\n    .dataframe tbody tr th:only-of-type {\n        vertical-align: middle;\n    }\n\n    .dataframe tbody tr th {\n        vertical-align: top;\n    }\n\n    .dataframe thead th {\n        text-align: right;\n    }\n</style>\n<table border=\"1\" class=\"dataframe\">\n  <thead>\n    <tr style=\"text-align: right;\">\n      <th></th>\n      <th>file_name</th>\n      <th>title</th>\n      <th>news_text</th>\n      <th>category</th>\n      <th>news_length</th>\n    </tr>\n  </thead>\n  <tbody>\n    <tr>\n      <th>0</th>\n      <td>380.txt</td>\n      <td>Boogeyman takes box office lead</td>\n      <td>The low-budget horror film Boogeyman has knock...</td>\n      <td>entertainment</td>\n      <td>1093</td>\n    </tr>\n    <tr>\n      <th>1</th>\n      <td>011.txt</td>\n      <td>Artists' secret postcards on sale</td>\n      <td>Postcards by artists including Damien Hirst an...</td>\n      <td>entertainment</td>\n      <td>1207</td>\n    </tr>\n    <tr>\n      <th>2</th>\n      <td>291.txt</td>\n      <td>U2 stars enter rock Hall of Fame</td>\n      <td>Singer Bruce Springsteen has inducted Irish ro...</td>\n      <td>entertainment</td>\n      <td>2364</td>\n    </tr>\n    <tr>\n      <th>3</th>\n      <td>184.txt</td>\n      <td>Top of the Pops leaves BBC One</td>\n      <td>The BBC's flagship pop music programme Top of ...</td>\n      <td>entertainment</td>\n      <td>2133</td>\n    </tr>\n    <tr>\n      <th>4</th>\n      <td>037.txt</td>\n      <td>Film row over Pirates 'cannibals'</td>\n      <td>Plans to portray Dominica's Carib Indians as c...</td>\n      <td>entertainment</td>\n      <td>1514</td>\n    </tr>\n  </tbody>\n</table>\n</div>",
            "text/plain": "  file_name                              title  \\\n0   380.txt    Boogeyman takes box office lead   \n1   011.txt  Artists' secret postcards on sale   \n2   291.txt   U2 stars enter rock Hall of Fame   \n3   184.txt     Top of the Pops leaves BBC One   \n4   037.txt  Film row over Pirates 'cannibals'   \n\n                                           news_text       category  \\\n0  The low-budget horror film Boogeyman has knock...  entertainment   \n1  Postcards by artists including Damien Hirst an...  entertainment   \n2  Singer Bruce Springsteen has inducted Irish ro...  entertainment   \n3  The BBC's flagship pop music programme Top of ...  entertainment   \n4  Plans to portray Dominica's Carib Indians as c...  entertainment   \n\n   news_length  \n0         1093  \n1         1207  \n2         2364  \n3         2133  \n4         1514  "
          },
          "metadata": {}
        }
      ]
    },
    {
      "metadata": {
        "trusted": true
      },
      "cell_type": "code",
      "source": "news_df = news_df.reindex(np.random.permutation(news_df.index))",
      "execution_count": 32,
      "outputs": []
    },
    {
      "metadata": {
        "trusted": true
      },
      "cell_type": "code",
      "source": "news_df.head()",
      "execution_count": 33,
      "outputs": [
        {
          "output_type": "execute_result",
          "execution_count": 33,
          "data": {
            "text/html": "<div>\n<style scoped>\n    .dataframe tbody tr th:only-of-type {\n        vertical-align: middle;\n    }\n\n    .dataframe tbody tr th {\n        vertical-align: top;\n    }\n\n    .dataframe thead th {\n        text-align: right;\n    }\n</style>\n<table border=\"1\" class=\"dataframe\">\n  <thead>\n    <tr style=\"text-align: right;\">\n      <th></th>\n      <th>file_name</th>\n      <th>title</th>\n      <th>news_text</th>\n      <th>category</th>\n      <th>news_length</th>\n    </tr>\n  </thead>\n  <tbody>\n    <tr>\n      <th>679</th>\n      <td>086.txt</td>\n      <td>Howard backs stem cell research</td>\n      <td>Michael Howard has backed stem cell research, ...</td>\n      <td>politics</td>\n      <td>2342</td>\n    </tr>\n    <tr>\n      <th>1195</th>\n      <td>209.txt</td>\n      <td>Mixed reaction to Man Utd offer</td>\n      <td>Shares in Manchester United were up over 5% by...</td>\n      <td>business</td>\n      <td>2686</td>\n    </tr>\n    <tr>\n      <th>1597</th>\n      <td>414.txt</td>\n      <td>England 17-18 France</td>\n      <td>England suffered an eighth defeat in 11 Tests ...</td>\n      <td>sports</td>\n      <td>3923</td>\n    </tr>\n    <tr>\n      <th>1690</th>\n      <td>344.txt</td>\n      <td>Harinordoquy suffers France axe</td>\n      <td>Number eight Imanol Harinordoquy has been drop...</td>\n      <td>sports</td>\n      <td>2196</td>\n    </tr>\n    <tr>\n      <th>663</th>\n      <td>178.txt</td>\n      <td>Hatfield executives go on trial</td>\n      <td>Engineering firm Balfour Beatty and five railw...</td>\n      <td>politics</td>\n      <td>1249</td>\n    </tr>\n  </tbody>\n</table>\n</div>",
            "text/plain": "     file_name                            title  \\\n679    086.txt  Howard backs stem cell research   \n1195   209.txt  Mixed reaction to Man Utd offer   \n1597   414.txt             England 17-18 France   \n1690   344.txt  Harinordoquy suffers France axe   \n663    178.txt  Hatfield executives go on trial   \n\n                                              news_text  category  news_length  \n679   Michael Howard has backed stem cell research, ...  politics         2342  \n1195  Shares in Manchester United were up over 5% by...  business         2686  \n1597  England suffered an eighth defeat in 11 Tests ...    sports         3923  \n1690  Number eight Imanol Harinordoquy has been drop...    sports         2196  \n663   Engineering firm Balfour Beatty and five railw...  politics         1249  "
          },
          "metadata": {}
        }
      ]
    },
    {
      "metadata": {
        "trusted": true
      },
      "cell_type": "code",
      "source": "news_df.info()",
      "execution_count": 37,
      "outputs": [
        {
          "output_type": "stream",
          "text": "<class 'pandas.core.frame.DataFrame'>\nInt64Index: 2225 entries, 679 to 357\nData columns (total 5 columns):\nfile_name      2225 non-null object\ntitle          2225 non-null object\nnews_text      2225 non-null object\ncategory       2225 non-null object\nnews_length    2225 non-null int64\ndtypes: int64(1), object(4)\nmemory usage: 104.3+ KB\n",
          "name": "stdout"
        }
      ]
    },
    {
      "metadata": {
        "trusted": true
      },
      "cell_type": "markdown",
      "source": "Text Classification With Scikit-Learn¶\nhttps://e-string.com/articles/text-classification-with-sklearn/"
    },
    {
      "metadata": {
        "trusted": true
      },
      "cell_type": "code",
      "source": "",
      "execution_count": null,
      "outputs": []
    }
  ],
  "metadata": {
    "kernelspec": {
      "name": "python36",
      "display_name": "Python 3.6",
      "language": "python"
    },
    "language_info": {
      "mimetype": "text/x-python",
      "nbconvert_exporter": "python",
      "name": "python",
      "pygments_lexer": "ipython3",
      "version": "3.6.6",
      "file_extension": ".py",
      "codemirror_mode": {
        "version": 3,
        "name": "ipython"
      }
    }
  },
  "nbformat": 4,
  "nbformat_minor": 1
}